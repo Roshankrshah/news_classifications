{
 "cells": [
  {
   "cell_type": "code",
   "execution_count": 1,
   "id": "4c9f873c",
   "metadata": {},
   "outputs": [],
   "source": [
    "import pandas as pd\n",
    "import numpy as np\n",
    "from sklearn.model_selection import train_test_split\n",
    "from sklearn.metrics import accuracy_score\n",
    "from sklearn.feature_extraction.text import TfidfVectorizer\n",
    "from sklearn.feature_extraction.text import CountVectorizer\n",
    "from skmultilearn.problem_transform import LabelPowerset\n",
    "from skmultilearn.problem_transform import BinaryRelevance\n",
    "from sklearn.linear_model import LogisticRegression\n",
    "from sklearn.pipeline import Pipeline"
   ]
  },
  {
   "cell_type": "code",
   "execution_count": 2,
   "id": "ef11b19b",
   "metadata": {},
   "outputs": [],
   "source": [
    "from sklearn.model_selection import GridSearchCV"
   ]
  },
  {
   "cell_type": "code",
   "execution_count": 3,
   "id": "8dc6ec34",
   "metadata": {},
   "outputs": [],
   "source": [
    "df = pd.read_csv('processed_news_dataset.csv')"
   ]
  },
  {
   "cell_type": "code",
   "execution_count": 4,
   "id": "ade17518",
   "metadata": {},
   "outputs": [],
   "source": [
    "train, test = train_test_split(df, random_state=42, test_size=0.30, shuffle=True)\n",
    "train_text = train['text'].values.astype('U')\n",
    "test_text = test['text'].values.astype('U')"
   ]
  },
  {
   "cell_type": "code",
   "execution_count": 5,
   "id": "e674ef14",
   "metadata": {},
   "outputs": [],
   "source": [
    "y_train = train.drop(['text','Article','Headline','Category'],axis=1)"
   ]
  },
  {
   "cell_type": "code",
   "execution_count": 6,
   "id": "318a5333",
   "metadata": {},
   "outputs": [],
   "source": [
    "y_test = test.drop(['text','Article','Headline','Category'],axis=1)"
   ]
  },
  {
   "cell_type": "code",
   "execution_count": 15,
   "id": "2287dbed",
   "metadata": {},
   "outputs": [],
   "source": [
    "from sklearn.svm import LinearSVC\n",
    "from sklearn.naive_bayes import MultinomialNB"
   ]
  },
  {
   "cell_type": "markdown",
   "id": "20d074b2",
   "metadata": {},
   "source": [
    "# LabelPowerset,countvector"
   ]
  },
  {
   "cell_type": "code",
   "execution_count": 8,
   "id": "9be74681",
   "metadata": {},
   "outputs": [],
   "source": [
    "pipe=Pipeline(\n",
    "    [(\"vectorization\",CountVectorizer()),(\"classifier\",LabelPowerset())]\n",
    ")"
   ]
  },
  {
   "cell_type": "code",
   "execution_count": 9,
   "id": "eb74ae17",
   "metadata": {},
   "outputs": [],
   "source": [
    "param_grid = {\n",
    "                \"vectorization__strip_accents\": ['ascii'],\n",
    "                \"vectorization__analyzer\": ['word'],\n",
    "                \"vectorization__ngram_range\": [(1,1),(1,2),(1,3)],\n",
    "                \"vectorization__max_features\": [2000,3000,4000,5000],\n",
    "                \"classifier__classifier\": [LogisticRegression(),MultinomialNB(),LinearSVC()]\n",
    "}"
   ]
  },
  {
   "cell_type": "code",
   "execution_count": 10,
   "id": "10e11e6c",
   "metadata": {},
   "outputs": [],
   "source": [
    "clf1 = GridSearchCV(pipe,param_grid=param_grid)"
   ]
  },
  {
   "cell_type": "code",
   "execution_count": null,
   "id": "461a3b75",
   "metadata": {},
   "outputs": [],
   "source": [
    "clf1.fit(train_text,y_train)"
   ]
  },
  {
   "cell_type": "markdown",
   "id": "7ba944af",
   "metadata": {},
   "source": [
    "# LabelPowerSet, Tfidfvector"
   ]
  },
  {
   "cell_type": "code",
   "execution_count": 11,
   "id": "b9b9ccf5",
   "metadata": {},
   "outputs": [],
   "source": [
    "pipe=Pipeline(\n",
    "    [(\"vectorization\",TfidfVectorizer()),(\"classifier\",LabelPowerset())]\n",
    ")"
   ]
  },
  {
   "cell_type": "code",
   "execution_count": 12,
   "id": "c044eace",
   "metadata": {},
   "outputs": [],
   "source": [
    "param_grid = {\n",
    "                \"vectorization__strip_accents\": ['ascii'],\n",
    "                \"vectorization__analyzer\": ['word'],\n",
    "                \"vectorization__ngram_range\": [(1,1),(1,2),(1,3)],\n",
    "                \"vectorization__max_features\": [2000,3000,4000,5000],\n",
    "                \"classifier__classifier\": [LogisticRegression(),MultinomialNB(),LinearSVC()]\n",
    "}"
   ]
  },
  {
   "cell_type": "code",
   "execution_count": 13,
   "id": "07886b9c",
   "metadata": {},
   "outputs": [],
   "source": [
    "clf2 = GridSearchCV(pipe,param_grid=param_grid)"
   ]
  },
  {
   "cell_type": "code",
   "execution_count": null,
   "id": "8988cc27",
   "metadata": {},
   "outputs": [],
   "source": [
    "clf2.fit(train_text,y_train)"
   ]
  },
  {
   "cell_type": "markdown",
   "id": "1c4cbc16",
   "metadata": {},
   "source": [
    "# BinaryRelevance, TfidfVector"
   ]
  },
  {
   "cell_type": "code",
   "execution_count": 17,
   "id": "8fdb9abb",
   "metadata": {},
   "outputs": [],
   "source": [
    "pipe=Pipeline(\n",
    "    [(\"vectorization\",TfidfVectorizer()),(\"classifier\",BinaryRelevance())]\n",
    ")"
   ]
  },
  {
   "cell_type": "code",
   "execution_count": 18,
   "id": "1b601d5b",
   "metadata": {},
   "outputs": [],
   "source": [
    "param_grid = {\n",
    "                \"vectorization__strip_accents\": ['ascii'],\n",
    "                \"vectorization__analyzer\": ['word'],\n",
    "                \"vectorization__ngram_range\": [(1,1),(1,2),(1,3)],\n",
    "                \"vectorization__max_features\": [2000,3000,4000,5000],\n",
    "                \"classifier__classifier\": [LogisticRegression(),MultinomialNB(),LinearSVC()]\n",
    "}"
   ]
  },
  {
   "cell_type": "code",
   "execution_count": 19,
   "id": "244135a8",
   "metadata": {},
   "outputs": [],
   "source": [
    "clf3 = GridSearchCV(pipe,param_grid=param_grid)"
   ]
  },
  {
   "cell_type": "code",
   "execution_count": null,
   "id": "671fcb6b",
   "metadata": {},
   "outputs": [],
   "source": [
    "clf3.fit(train_text,y_train)"
   ]
  },
  {
   "cell_type": "markdown",
   "id": "fce4bf3a",
   "metadata": {},
   "source": [
    "# BinaryRelevance, countVector"
   ]
  },
  {
   "cell_type": "code",
   "execution_count": null,
   "id": "8f288897",
   "metadata": {},
   "outputs": [],
   "source": [
    "pipe=Pipeline(\n",
    "    [(\"vectorization\",CountVectorizer()),(\"classifier\",LabelPowerset())]\n",
    ")"
   ]
  },
  {
   "cell_type": "code",
   "execution_count": null,
   "id": "d7cdcf14",
   "metadata": {},
   "outputs": [],
   "source": [
    "param_grid = {\n",
    "                \"vectorization__strip_accents\": ['ascii'],\n",
    "                \"vectorization__analyzer\": ['word'],\n",
    "                \"vectorization__ngram_range\": [(1,1),(1,2),(1,3)],\n",
    "                \"vectorization__max_features\": [2000,3000,4000,5000],\n",
    "                \"classifier__classifier\": [LogisticRegression(),MultinomialNB(),LinearSVC()]\n",
    "}"
   ]
  },
  {
   "cell_type": "code",
   "execution_count": null,
   "id": "b30dc199",
   "metadata": {},
   "outputs": [],
   "source": [
    "clf4 = GridSearchCV(pipe,param_grid=param_grid)"
   ]
  },
  {
   "cell_type": "code",
   "execution_count": null,
   "id": "172c00f6",
   "metadata": {},
   "outputs": [],
   "source": [
    "clf4.fit(train_text,y_train)"
   ]
  },
  {
   "cell_type": "markdown",
   "id": "08b7aa00",
   "metadata": {},
   "source": [
    "# ClassifierChain"
   ]
  },
  {
   "cell_type": "code",
   "execution_count": 20,
   "id": "97ddc064",
   "metadata": {},
   "outputs": [],
   "source": [
    "from skmultilearn.problem_transform import ClassifierChain"
   ]
  },
  {
   "cell_type": "code",
   "execution_count": null,
   "id": "60ab627c",
   "metadata": {},
   "outputs": [],
   "source": [
    "vec = TfidfVectorizer(strip_accents='ascii', analyzer='word', ngram_range=(1,3), norm='l2', max_features = 1500)"
   ]
  },
  {
   "cell_type": "code",
   "execution_count": null,
   "id": "484871aa",
   "metadata": {},
   "outputs": [],
   "source": [
    "selected_labels = y_train.columns[y_train.sum(axis = 0, skipna = True) > 0].tolist()\n",
    "y_train = y_train.filter(selected_labels, axis=1)\n",
    "y_test = y_test.filter(selected_labels, axis=1)"
   ]
  },
  {
   "cell_type": "code",
   "execution_count": null,
   "id": "84c685c3",
   "metadata": {},
   "outputs": [],
   "source": [
    "vec.fit(train_text)\n",
    "vec.fit(test_text)"
   ]
  },
  {
   "cell_type": "code",
   "execution_count": null,
   "id": "c9ec2857",
   "metadata": {},
   "outputs": [],
   "source": [
    "x_train = vec.transform(train_text)\n",
    "x_test = vec.transform(test_text)"
   ]
  },
  {
   "cell_type": "code",
   "execution_count": null,
   "id": "37b2b324",
   "metadata": {},
   "outputs": [],
   "source": [
    "clf13 = ClassifierChain(LogisticRegression(solver='sag'))\n",
    "clf13.fit(x_train, y_train)\n",
    "clf13_proba = clf13.predict_proba(x_test)"
   ]
  },
  {
   "cell_type": "code",
   "execution_count": null,
   "id": "0e8447a2",
   "metadata": {},
   "outputs": [],
   "source": [
    "clf13_proba.shape"
   ]
  },
  {
   "cell_type": "code",
   "execution_count": null,
   "id": "6f4f37b9",
   "metadata": {},
   "outputs": [],
   "source": [
    "th = []\n",
    "f = []\n",
    "ham = []\n",
    "ac = []\n",
    "for t in range (5,60): # threshold value\n",
    "    y_pred_new = (clf13_proba >= t/100).astype(int)\n",
    "    #print(\"t =\" ,t/100)\n",
    "    #print(\"Accuracy = \",accuracy_score(y_test,y_pred_new))\n",
    "    #print(\"F1 = \",f1_score(y_test,y_pred_new, average=\"micro\"))\n",
    "    #print(\"Hamming loss = \",hamming_loss(y_test,y_pred_new))\n",
    "    th.append(t)\n",
    "    ac.append(accuracy_score(y_test,y_pred_new))\n",
    "    f.append(f1_score(y_test,y_pred_new, average=\"micro\"))\n",
    "    ham.append(hamming_loss(y_test,y_pred_new))"
   ]
  },
  {
   "cell_type": "code",
   "execution_count": null,
   "id": "e9199a9f",
   "metadata": {},
   "outputs": [],
   "source": [
    "plt.rcParams[\"figure.figsize\"] = (12,6)\n",
    "with plt.style.context('ggplot'):\n",
    "    plt.plot(th, f)\n",
    "    plt.plot(th, ham)\n",
    "    plt.plot(th, ac)\n",
    "    plt.legend(['F1', 'Hamming loss', 'Accuracy'], loc='center left', fontsize = 14)\n",
    "    plt.ylabel(\"metrics\", fontsize = 14)\n",
    "    plt.xlabel(\"threshold\", fontsize = 14)\n",
    "    plt.title(\"Classfier Chain Model\", fontsize = 18)\n",
    "plt.show()"
   ]
  },
  {
   "cell_type": "code",
   "execution_count": 12,
   "id": "a8116d15",
   "metadata": {},
   "outputs": [
    {
     "data": {
      "text/plain": [
       "{'clf__classifier': LinearSVC(),\n",
       " 'vz__analyzer': 'word',\n",
       " 'vz__max_features': 2000,\n",
       " 'vz__ngram_range': (1, 1),\n",
       " 'vz__strip_accents': 'ascii'}"
      ]
     },
     "execution_count": 12,
     "metadata": {},
     "output_type": "execute_result"
    }
   ],
   "source": [
    "grid_search.best_params_"
   ]
  },
  {
   "cell_type": "code",
   "execution_count": null,
   "id": "b8f161fd",
   "metadata": {},
   "outputs": [],
   "source": []
  }
 ],
 "metadata": {
  "kernelspec": {
   "display_name": "Python 3 (ipykernel)",
   "language": "python",
   "name": "python3"
  },
  "language_info": {
   "codemirror_mode": {
    "name": "ipython",
    "version": 3
   },
   "file_extension": ".py",
   "mimetype": "text/x-python",
   "name": "python",
   "nbconvert_exporter": "python",
   "pygments_lexer": "ipython3",
   "version": "3.9.6"
  }
 },
 "nbformat": 4,
 "nbformat_minor": 5
}
