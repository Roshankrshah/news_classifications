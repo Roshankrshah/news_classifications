{
 "cells": [
  {
   "cell_type": "code",
   "execution_count": 1,
   "id": "43a0d567",
   "metadata": {},
   "outputs": [],
   "source": [
    "import pandas as pd\n",
    "import numpy as np\n",
    "from sklearn.model_selection import train_test_split\n",
    "from sklearn.metrics import accuracy_score\n",
    "from sklearn.metrics import hamming_loss\n",
    "from sklearn.metrics import f1_score\n",
    "from sklearn.metrics import classification_report\n",
    "import matplotlib.pyplot as plt\n",
    "from sklearn.feature_extraction.text import TfidfVectorizer\n",
    "from sklearn.feature_extraction.text import CountVectorizer\n",
    "from skmultilearn.problem_transform import LabelPowerset\n",
    "from skmultilearn.problem_transform import BinaryRelevance\n",
    "from sklearn.linear_model import LogisticRegression\n",
    "from sklearn.naive_bayes import MultinomialNB\n",
    "from sklearn.svm import LinearSVC\n",
    "from skmultilearn.problem_transform import ClassifierChain\n",
    "from sklearn.pipeline import Pipeline"
   ]
  },
  {
   "cell_type": "code",
   "execution_count": 2,
   "id": "cc6ccb23",
   "metadata": {},
   "outputs": [],
   "source": [
    "import warnings\n",
    "warnings.filterwarnings('ignore')"
   ]
  },
  {
   "cell_type": "code",
   "execution_count": 3,
   "id": "98f055ba",
   "metadata": {},
   "outputs": [],
   "source": [
    "df = pd.read_csv('processed_news_dataset.csv')"
   ]
  },
  {
   "cell_type": "code",
   "execution_count": 4,
   "id": "999e670d",
   "metadata": {},
   "outputs": [
    {
     "data": {
      "text/plain": [
       "Index(['Headline', 'Article', 'Category', 'ARTS & CULTURE',\n",
       "       'BUSINESS & FINANCE', 'COLLEGE', 'COMEDY', 'CRIME', 'CURRENT AFFAIRS',\n",
       "       'EDUCATION', 'ENTERTAINMENT', 'ENVIRONMENT', 'FOOD & BEVERAGES',\n",
       "       'HEALTH & FITNESS', 'HEALTHY LIVING', 'LIFESTYLE', 'MEDIA', 'POLITICS',\n",
       "       'RELIGION', 'SCIENCE', 'SPORTS', 'STYLE & BEAUTY', 'TECHNOLOGY',\n",
       "       'TOURISM', 'WEDDINGS', 'WELLNESS', 'WOMEN', 'text'],\n",
       "      dtype='object')"
      ]
     },
     "execution_count": 4,
     "metadata": {},
     "output_type": "execute_result"
    }
   ],
   "source": [
    "df.columns"
   ]
  },
  {
   "cell_type": "markdown",
   "id": "283b8936",
   "metadata": {},
   "source": [
    "# Spliting dataset into Training and Validation data"
   ]
  },
  {
   "cell_type": "code",
   "execution_count": 5,
   "id": "e1fed829",
   "metadata": {},
   "outputs": [],
   "source": [
    "train, test = train_test_split(df, random_state=42, test_size=0.30, shuffle=True)\n",
    "train_text = train['text'].values.astype('U')\n",
    "test_text = test['text'].values.astype('U')"
   ]
  },
  {
   "cell_type": "code",
   "execution_count": 6,
   "id": "82e31cac",
   "metadata": {},
   "outputs": [
    {
     "data": {
      "text/plain": [
       "(91097,)"
      ]
     },
     "execution_count": 6,
     "metadata": {},
     "output_type": "execute_result"
    }
   ],
   "source": [
    "train_text.shape"
   ]
  },
  {
   "cell_type": "code",
   "execution_count": 7,
   "id": "da12c753",
   "metadata": {},
   "outputs": [],
   "source": [
    "y_train = train.drop(['text','Article','Headline','Category'],axis=1)"
   ]
  },
  {
   "cell_type": "code",
   "execution_count": 8,
   "id": "90655387",
   "metadata": {},
   "outputs": [
    {
     "data": {
      "text/plain": [
       "(91097, 24)"
      ]
     },
     "execution_count": 8,
     "metadata": {},
     "output_type": "execute_result"
    }
   ],
   "source": [
    "y_train.shape"
   ]
  },
  {
   "cell_type": "code",
   "execution_count": 9,
   "id": "b73b6e6b",
   "metadata": {},
   "outputs": [
    {
     "data": {
      "text/plain": [
       "(39042,)"
      ]
     },
     "execution_count": 9,
     "metadata": {},
     "output_type": "execute_result"
    }
   ],
   "source": [
    "test_text.shape"
   ]
  },
  {
   "cell_type": "code",
   "execution_count": 10,
   "id": "55a212bc",
   "metadata": {},
   "outputs": [],
   "source": [
    "y_test = test.drop(['text','Article','Headline','Category'],axis=1)"
   ]
  },
  {
   "cell_type": "code",
   "execution_count": 11,
   "id": "7e738983",
   "metadata": {},
   "outputs": [
    {
     "data": {
      "text/plain": [
       "(39042, 24)"
      ]
     },
     "execution_count": 11,
     "metadata": {},
     "output_type": "execute_result"
    }
   ],
   "source": [
    "y_test.shape"
   ]
  },
  {
   "cell_type": "markdown",
   "id": "99aec611",
   "metadata": {},
   "source": [
    "# LabelPowerset,countvector, logistic Regression"
   ]
  },
  {
   "cell_type": "code",
   "execution_count": 37,
   "id": "1c46370a",
   "metadata": {},
   "outputs": [],
   "source": [
    "lp_tf_acc =[]\n",
    "lp_cv_acc =[]\n",
    "lp_tf_f1 = []\n",
    "lp_cv_f1 = []"
   ]
  },
  {
   "cell_type": "code",
   "execution_count": 16,
   "id": "fa8ed038",
   "metadata": {},
   "outputs": [],
   "source": [
    "clf = Pipeline([\n",
    "    ('cv', CountVectorizer(ngram_range=(1,3),max_features=5000)),\n",
    "                ('clf',  LabelPowerset(LogisticRegression()))])"
   ]
  },
  {
   "cell_type": "code",
   "execution_count": 17,
   "id": "28447b33",
   "metadata": {},
   "outputs": [
    {
     "data": {
      "text/plain": [
       "Pipeline(steps=[('cv', CountVectorizer(max_features=5000, ngram_range=(1, 3))),\n",
       "                ('clf',\n",
       "                 LabelPowerset(classifier=LogisticRegression(),\n",
       "                               require_dense=[True, True]))])"
      ]
     },
     "execution_count": 17,
     "metadata": {},
     "output_type": "execute_result"
    }
   ],
   "source": [
    "clf.fit(train_text,y_train)"
   ]
  },
  {
   "cell_type": "code",
   "execution_count": 18,
   "id": "e33b15a5",
   "metadata": {},
   "outputs": [],
   "source": [
    "clf_predictions = clf.predict(test_text)"
   ]
  },
  {
   "cell_type": "code",
   "execution_count": 19,
   "id": "3b52d61b",
   "metadata": {},
   "outputs": [
    {
     "name": "stdout",
     "output_type": "stream",
     "text": [
      "Accuracy =  0.8978792070078377\n",
      "F1 score =  0.905992049950658\n",
      "Hamming loss =  0.010878242234858186\n"
     ]
    }
   ],
   "source": [
    "print(\"Accuracy = \",accuracy_score(y_test,clf_predictions))\n",
    "print(\"F1 score = \",f1_score(y_test,clf_predictions, average=\"micro\"))\n",
    "print(\"Hamming loss = \",hamming_loss(y_test,clf_predictions))"
   ]
  },
  {
   "cell_type": "code",
   "execution_count": 35,
   "id": "41152ac2",
   "metadata": {},
   "outputs": [
    {
     "name": "stdout",
     "output_type": "stream",
     "text": [
      "0.9\n",
      "0.91\n"
     ]
    }
   ],
   "source": [
    "print(round(accuracy_score(y_test,clf_predictions),2))\n",
    "print(round(f1_score(y_test,clf_predictions, average=\"micro\"),2))"
   ]
  },
  {
   "cell_type": "code",
   "execution_count": 39,
   "id": "9c486f9e",
   "metadata": {},
   "outputs": [],
   "source": [
    "lp_cv_acc.append(round(accuracy_score(y_test,clf_predictions),2))\n",
    "lp_cv_f1.append(round(f1_score(y_test,clf_predictions, average=\"micro\"),2))"
   ]
  },
  {
   "cell_type": "code",
   "execution_count": 20,
   "id": "d2895cdd",
   "metadata": {},
   "outputs": [
    {
     "name": "stdout",
     "output_type": "stream",
     "text": [
      "              precision    recall  f1-score   support\n",
      "\n",
      "           0       0.81      0.73      0.76       570\n",
      "           1       0.93      0.93      0.93      4397\n",
      "           2       0.82      0.69      0.74       213\n",
      "           3       0.89      0.85      0.87      1227\n",
      "           4       0.88      0.84      0.86       897\n",
      "           5       0.91      0.86      0.88      1420\n",
      "           6       0.86      0.72      0.78       438\n",
      "           7       0.89      0.92      0.90      4287\n",
      "           8       0.81      0.67      0.73       375\n",
      "           9       0.90      0.92      0.91      2063\n",
      "          10       0.90      0.95      0.93      8331\n",
      "          11       0.80      0.60      0.69       415\n",
      "          12       0.92      0.93      0.92      5030\n",
      "          13       0.86      0.75      0.80       554\n",
      "          14       0.91      0.92      0.91      2982\n",
      "          15       0.89      0.79      0.84       459\n",
      "          16       0.90      0.83      0.87      1837\n",
      "          17       0.91      0.90      0.90      1857\n",
      "          18       0.93      0.92      0.93      2967\n",
      "          19       0.92      0.89      0.90      1763\n",
      "          20       0.90      0.92      0.91      3020\n",
      "          21       0.96      0.90      0.93      1146\n",
      "          22       0.90      0.96      0.93      7071\n",
      "          23       0.83      0.78      0.80       693\n",
      "\n",
      "   micro avg       0.90      0.91      0.91     54012\n",
      "   macro avg       0.88      0.84      0.86     54012\n",
      "weighted avg       0.90      0.91      0.91     54012\n",
      " samples avg       0.90      0.90      0.90     54012\n",
      "\n"
     ]
    }
   ],
   "source": [
    "print(classification_report(y_test, clf_predictions))"
   ]
  },
  {
   "cell_type": "markdown",
   "id": "0ca9af15",
   "metadata": {},
   "source": [
    "# LabelPowerSet, Tfidfvector, Logistic Regression"
   ]
  },
  {
   "cell_type": "code",
   "execution_count": 21,
   "id": "ff281d3f",
   "metadata": {},
   "outputs": [],
   "source": [
    "clf2 = Pipeline([\n",
    "    ('tfidf',TfidfVectorizer(strip_accents='ascii', analyzer='word', ngram_range=(1,3), norm='l2', max_features = 5000)),\n",
    "                ('clf2',  LabelPowerset(LogisticRegression()))])"
   ]
  },
  {
   "cell_type": "code",
   "execution_count": 22,
   "id": "b20b82a9",
   "metadata": {},
   "outputs": [
    {
     "data": {
      "text/plain": [
       "Pipeline(steps=[('tfidf',\n",
       "                 TfidfVectorizer(max_features=5000, ngram_range=(1, 3),\n",
       "                                 strip_accents='ascii')),\n",
       "                ('clf2',\n",
       "                 LabelPowerset(classifier=LogisticRegression(),\n",
       "                               require_dense=[True, True]))])"
      ]
     },
     "execution_count": 22,
     "metadata": {},
     "output_type": "execute_result"
    }
   ],
   "source": [
    "clf2.fit(train_text,y_train)"
   ]
  },
  {
   "cell_type": "code",
   "execution_count": 23,
   "id": "b4e36520",
   "metadata": {},
   "outputs": [],
   "source": [
    "clf_predictions2 = clf2.predict(test_text)"
   ]
  },
  {
   "cell_type": "code",
   "execution_count": 24,
   "id": "74b29e78",
   "metadata": {},
   "outputs": [
    {
     "name": "stdout",
     "output_type": "stream",
     "text": [
      "Accuracy =  0.8664515137544183\n",
      "F1 score =  0.8750906104621822\n",
      "Hamming loss =  0.014528157710499803\n"
     ]
    }
   ],
   "source": [
    "print(\"Accuracy = \",accuracy_score(y_test,clf_predictions2))\n",
    "print(\"F1 score = \",f1_score(y_test,clf_predictions2, average=\"micro\"))\n",
    "print(\"Hamming loss = \",hamming_loss(y_test,clf_predictions2))"
   ]
  },
  {
   "cell_type": "code",
   "execution_count": 40,
   "id": "16c321a1",
   "metadata": {},
   "outputs": [
    {
     "name": "stdout",
     "output_type": "stream",
     "text": [
      "0.87\n",
      "0.88\n"
     ]
    }
   ],
   "source": [
    "print(round(accuracy_score(y_test,clf_predictions2),2))\n",
    "print(round(f1_score(y_test,clf_predictions2, average=\"micro\"),2))"
   ]
  },
  {
   "cell_type": "code",
   "execution_count": 41,
   "id": "324d9ab2",
   "metadata": {},
   "outputs": [],
   "source": [
    "lp_tf_acc.append(round(accuracy_score(y_test,clf_predictions2),2))\n",
    "lp_tf_f1.append(round(f1_score(y_test,clf_predictions2, average=\"micro\"),2))"
   ]
  },
  {
   "cell_type": "code",
   "execution_count": 42,
   "id": "3897f34a",
   "metadata": {},
   "outputs": [
    {
     "name": "stdout",
     "output_type": "stream",
     "text": [
      "              precision    recall  f1-score   support\n",
      "\n",
      "           0       0.86      0.64      0.73       570\n",
      "           1       0.90      0.93      0.91      4397\n",
      "           2       0.82      0.58      0.68       213\n",
      "           3       0.90      0.78      0.84      1227\n",
      "           4       0.86      0.78      0.81       897\n",
      "           5       0.88      0.80      0.83      1420\n",
      "           6       0.84      0.63      0.72       438\n",
      "           7       0.87      0.88      0.87      4287\n",
      "           8       0.82      0.51      0.63       375\n",
      "           9       0.90      0.88      0.89      2063\n",
      "          10       0.84      0.96      0.89      8331\n",
      "          11       0.88      0.39      0.54       415\n",
      "          12       0.91      0.91      0.91      5030\n",
      "          13       0.89      0.64      0.74       554\n",
      "          14       0.85      0.91      0.88      2982\n",
      "          15       0.88      0.67      0.76       459\n",
      "          16       0.89      0.75      0.81      1837\n",
      "          17       0.91      0.86      0.88      1857\n",
      "          18       0.91      0.91      0.91      2967\n",
      "          19       0.89      0.83      0.86      1763\n",
      "          20       0.87      0.91      0.89      3020\n",
      "          21       0.95      0.85      0.90      1146\n",
      "          22       0.82      0.97      0.89      7071\n",
      "          23       0.80      0.70      0.75       693\n",
      "\n",
      "   micro avg       0.87      0.88      0.88     54012\n",
      "   macro avg       0.87      0.78      0.81     54012\n",
      "weighted avg       0.87      0.88      0.87     54012\n",
      " samples avg       0.87      0.87      0.87     54012\n",
      "\n"
     ]
    }
   ],
   "source": [
    "print(classification_report(y_test, clf_predictions2))"
   ]
  },
  {
   "cell_type": "markdown",
   "id": "f5447f45",
   "metadata": {},
   "source": [
    "# LabelPowerset, countvector, Multinominal naive bayes"
   ]
  },
  {
   "cell_type": "code",
   "execution_count": 25,
   "id": "25b128d3",
   "metadata": {},
   "outputs": [],
   "source": [
    "clf3 = Pipeline([\n",
    "    ('cv', CountVectorizer(ngram_range=(1,3),max_features=5000)),\n",
    "                ('clf3',  LabelPowerset(MultinomialNB(fit_prior=True, class_prior=None)))])"
   ]
  },
  {
   "cell_type": "code",
   "execution_count": 26,
   "id": "a5b0dea8",
   "metadata": {},
   "outputs": [
    {
     "data": {
      "text/plain": [
       "Pipeline(steps=[('cv', CountVectorizer(max_features=5000, ngram_range=(1, 3))),\n",
       "                ('clf3',\n",
       "                 LabelPowerset(classifier=MultinomialNB(),\n",
       "                               require_dense=[True, True]))])"
      ]
     },
     "execution_count": 26,
     "metadata": {},
     "output_type": "execute_result"
    }
   ],
   "source": [
    "clf3.fit(train_text,y_train)"
   ]
  },
  {
   "cell_type": "code",
   "execution_count": 27,
   "id": "869935e5",
   "metadata": {},
   "outputs": [],
   "source": [
    "clf_predictions3 = clf3.predict(test_text)"
   ]
  },
  {
   "cell_type": "code",
   "execution_count": 28,
   "id": "b5e29759",
   "metadata": {},
   "outputs": [
    {
     "name": "stdout",
     "output_type": "stream",
     "text": [
      "Accuracy =  0.7982429178833051\n",
      "F1 score =  0.8143080062417476\n",
      "Hamming loss =  0.021462997114218875\n"
     ]
    }
   ],
   "source": [
    "print(\"Accuracy = \",accuracy_score(y_test,clf_predictions3))\n",
    "print(\"F1 score = \",f1_score(y_test,clf_predictions3, average=\"micro\"))\n",
    "print(\"Hamming loss = \",hamming_loss(y_test,clf_predictions3))"
   ]
  },
  {
   "cell_type": "code",
   "execution_count": 43,
   "id": "a73ab135",
   "metadata": {},
   "outputs": [
    {
     "name": "stdout",
     "output_type": "stream",
     "text": [
      "0.8\n",
      "0.81\n"
     ]
    }
   ],
   "source": [
    "print(round(accuracy_score(y_test,clf_predictions3),2))\n",
    "print(round(f1_score(y_test,clf_predictions3, average=\"micro\"),2))"
   ]
  },
  {
   "cell_type": "code",
   "execution_count": 44,
   "id": "dba781d5",
   "metadata": {},
   "outputs": [],
   "source": [
    "lp_cv_acc.append(round(accuracy_score(y_test,clf_predictions3),2))\n",
    "lp_cv_f1.append(round(f1_score(y_test,clf_predictions3, average=\"micro\"),2))"
   ]
  },
  {
   "cell_type": "code",
   "execution_count": 45,
   "id": "e2eda55a",
   "metadata": {},
   "outputs": [
    {
     "name": "stdout",
     "output_type": "stream",
     "text": [
      "              precision    recall  f1-score   support\n",
      "\n",
      "           0       0.62      0.66      0.64       570\n",
      "           1       0.94      0.78      0.85      4397\n",
      "           2       0.56      0.64      0.60       213\n",
      "           3       0.68      0.80      0.73      1227\n",
      "           4       0.64      0.87      0.74       897\n",
      "           5       0.77      0.75      0.76      1420\n",
      "           6       0.61      0.77      0.68       438\n",
      "           7       0.80      0.83      0.81      4287\n",
      "           8       0.56      0.71      0.62       375\n",
      "           9       0.79      0.88      0.84      2063\n",
      "          10       0.84      0.87      0.85      8331\n",
      "          11       0.55      0.43      0.49       415\n",
      "          12       0.87      0.84      0.85      5030\n",
      "          13       0.55      0.70      0.62       554\n",
      "          14       0.83      0.77      0.80      2982\n",
      "          15       0.67      0.75      0.71       459\n",
      "          16       0.78      0.73      0.75      1837\n",
      "          17       0.93      0.76      0.83      1857\n",
      "          18       0.91      0.78      0.84      2967\n",
      "          19       0.80      0.78      0.79      1763\n",
      "          20       0.79      0.87      0.83      3020\n",
      "          21       0.84      0.86      0.85      1146\n",
      "          22       0.83      0.87      0.85      7071\n",
      "          23       0.63      0.71      0.66       693\n",
      "\n",
      "   micro avg       0.81      0.82      0.81     54012\n",
      "   macro avg       0.74      0.77      0.75     54012\n",
      "weighted avg       0.82      0.82      0.82     54012\n",
      " samples avg       0.81      0.81      0.81     54012\n",
      "\n"
     ]
    }
   ],
   "source": [
    "print(classification_report(y_test, clf_predictions3))"
   ]
  },
  {
   "cell_type": "markdown",
   "id": "dd9d4c18",
   "metadata": {},
   "source": [
    "# LabelPowerset, Tfidf, Multinominal naive bayes"
   ]
  },
  {
   "cell_type": "code",
   "execution_count": 46,
   "id": "73679864",
   "metadata": {},
   "outputs": [],
   "source": [
    "clf4 = Pipeline([\n",
    "    ('tfidf',TfidfVectorizer(strip_accents='ascii', analyzer='word', ngram_range=(1,3), norm='l2', max_features = 5000)),\n",
    "                ('clf4',  LabelPowerset(MultinomialNB(fit_prior=True, class_prior=None)))])"
   ]
  },
  {
   "cell_type": "code",
   "execution_count": 47,
   "id": "c1dfafbd",
   "metadata": {},
   "outputs": [
    {
     "data": {
      "text/plain": [
       "Pipeline(steps=[('tfidf',\n",
       "                 TfidfVectorizer(max_features=5000, ngram_range=(1, 3),\n",
       "                                 strip_accents='ascii')),\n",
       "                ('clf4',\n",
       "                 LabelPowerset(classifier=MultinomialNB(),\n",
       "                               require_dense=[True, True]))])"
      ]
     },
     "execution_count": 47,
     "metadata": {},
     "output_type": "execute_result"
    }
   ],
   "source": [
    "clf4.fit(train_text,y_train)"
   ]
  },
  {
   "cell_type": "code",
   "execution_count": 48,
   "id": "eaeeeed2",
   "metadata": {},
   "outputs": [],
   "source": [
    "clf_predictions4 = clf4.predict(test_text)"
   ]
  },
  {
   "cell_type": "code",
   "execution_count": 49,
   "id": "7603de8f",
   "metadata": {},
   "outputs": [
    {
     "name": "stdout",
     "output_type": "stream",
     "text": [
      "Accuracy =  0.7582347215818862\n",
      "F1 score =  0.7735512979321694\n",
      "Hamming loss =  0.02672869388521763\n"
     ]
    }
   ],
   "source": [
    "print(\"Accuracy = \",accuracy_score(y_test,clf_predictions4))\n",
    "print(\"F1 score = \",f1_score(y_test,clf_predictions4, average=\"micro\"))\n",
    "print(\"Hamming loss = \",hamming_loss(y_test,clf_predictions4))"
   ]
  },
  {
   "cell_type": "code",
   "execution_count": 50,
   "id": "8a19c685",
   "metadata": {},
   "outputs": [
    {
     "name": "stdout",
     "output_type": "stream",
     "text": [
      "0.76\n",
      "0.77\n"
     ]
    }
   ],
   "source": [
    "print(round(accuracy_score(y_test,clf_predictions4),2))\n",
    "print(round(f1_score(y_test,clf_predictions4, average=\"micro\"),2))"
   ]
  },
  {
   "cell_type": "code",
   "execution_count": 51,
   "id": "3eabea32",
   "metadata": {},
   "outputs": [],
   "source": [
    "lp_tf_acc.append(round(accuracy_score(y_test,clf_predictions4),2))\n",
    "lp_tf_f1.append(round(f1_score(y_test,clf_predictions4, average=\"micro\"),2))"
   ]
  },
  {
   "cell_type": "code",
   "execution_count": 52,
   "id": "b9b323c8",
   "metadata": {},
   "outputs": [
    {
     "name": "stdout",
     "output_type": "stream",
     "text": [
      "              precision    recall  f1-score   support\n",
      "\n",
      "           0       0.93      0.19      0.31       570\n",
      "           1       0.85      0.82      0.83      4397\n",
      "           2       0.94      0.08      0.14       213\n",
      "           3       0.89      0.63      0.73      1227\n",
      "           4       0.84      0.70      0.76       897\n",
      "           5       0.82      0.70      0.76      1420\n",
      "           6       1.00      0.07      0.13       438\n",
      "           7       0.78      0.82      0.80      4287\n",
      "           8       0.95      0.21      0.35       375\n",
      "           9       0.86      0.80      0.83      2063\n",
      "          10       0.67      0.94      0.78      8331\n",
      "          11       1.00      0.04      0.08       415\n",
      "          12       0.87      0.82      0.85      5030\n",
      "          13       0.97      0.20      0.33       554\n",
      "          14       0.67      0.89      0.76      2982\n",
      "          15       0.98      0.37      0.54       459\n",
      "          16       0.89      0.55      0.68      1837\n",
      "          17       0.93      0.77      0.84      1857\n",
      "          18       0.85      0.82      0.84      2967\n",
      "          19       0.86      0.68      0.76      1763\n",
      "          20       0.75      0.87      0.81      3020\n",
      "          21       0.97      0.65      0.78      1146\n",
      "          22       0.63      0.97      0.77      7071\n",
      "          23       0.90      0.27      0.42       693\n",
      "\n",
      "   micro avg       0.76      0.79      0.77     54012\n",
      "   macro avg       0.87      0.58      0.62     54012\n",
      "weighted avg       0.79      0.79      0.76     54012\n",
      " samples avg       0.77      0.77      0.77     54012\n",
      "\n"
     ]
    }
   ],
   "source": [
    "print(classification_report(y_test, clf_predictions4))"
   ]
  },
  {
   "cell_type": "markdown",
   "id": "7ab9071a",
   "metadata": {},
   "source": [
    "# LabelPowerset, countvector, linear svc"
   ]
  },
  {
   "cell_type": "code",
   "execution_count": 53,
   "id": "dea975b3",
   "metadata": {},
   "outputs": [],
   "source": [
    "clf5 = Pipeline([\n",
    "    ('cv', CountVectorizer(ngram_range=(1,3),max_features=5000)),\n",
    "                ('clf5',  LabelPowerset(LinearSVC()))])"
   ]
  },
  {
   "cell_type": "code",
   "execution_count": 54,
   "id": "c5c78360",
   "metadata": {},
   "outputs": [
    {
     "data": {
      "text/plain": [
       "Pipeline(steps=[('cv', CountVectorizer(max_features=5000, ngram_range=(1, 3))),\n",
       "                ('clf5',\n",
       "                 LabelPowerset(classifier=LinearSVC(),\n",
       "                               require_dense=[True, True]))])"
      ]
     },
     "execution_count": 54,
     "metadata": {},
     "output_type": "execute_result"
    }
   ],
   "source": [
    "clf5.fit(train_text,y_train)"
   ]
  },
  {
   "cell_type": "code",
   "execution_count": 55,
   "id": "18489757",
   "metadata": {},
   "outputs": [],
   "source": [
    "clf_predictions5 = clf5.predict(test_text)"
   ]
  },
  {
   "cell_type": "code",
   "execution_count": 56,
   "id": "f91f9ad6",
   "metadata": {},
   "outputs": [
    {
     "name": "stdout",
     "output_type": "stream",
     "text": [
      "Accuracy =  0.8895548383791814\n",
      "F1 score =  0.898929185700283\n",
      "Hamming loss =  0.011664788347591482\n"
     ]
    }
   ],
   "source": [
    "print(\"Accuracy = \",accuracy_score(y_test,clf_predictions5))\n",
    "print(\"F1 score = \",f1_score(y_test,clf_predictions5, average=\"micro\"))\n",
    "print(\"Hamming loss = \",hamming_loss(y_test,clf_predictions5))"
   ]
  },
  {
   "cell_type": "code",
   "execution_count": 57,
   "id": "f582a369",
   "metadata": {},
   "outputs": [
    {
     "name": "stdout",
     "output_type": "stream",
     "text": [
      "0.89\n",
      "0.9\n"
     ]
    }
   ],
   "source": [
    "print(round(accuracy_score(y_test,clf_predictions5),2))\n",
    "print(round(f1_score(y_test,clf_predictions5, average=\"micro\"),2))"
   ]
  },
  {
   "cell_type": "code",
   "execution_count": 58,
   "id": "8c2ea8c5",
   "metadata": {},
   "outputs": [],
   "source": [
    "lp_cv_acc.append(round(accuracy_score(y_test,clf_predictions5),2))\n",
    "lp_cv_f1.append(round(f1_score(y_test,clf_predictions5, average=\"micro\"),2))"
   ]
  },
  {
   "cell_type": "code",
   "execution_count": 59,
   "id": "a3d6cc5a",
   "metadata": {},
   "outputs": [
    {
     "name": "stdout",
     "output_type": "stream",
     "text": [
      "              precision    recall  f1-score   support\n",
      "\n",
      "           0       0.77      0.72      0.74       570\n",
      "           1       0.93      0.93      0.93      4397\n",
      "           2       0.69      0.70      0.69       213\n",
      "           3       0.86      0.84      0.85      1227\n",
      "           4       0.85      0.84      0.84       897\n",
      "           5       0.88      0.85      0.87      1420\n",
      "           6       0.72      0.74      0.73       438\n",
      "           7       0.89      0.90      0.90      4287\n",
      "           8       0.71      0.63      0.67       375\n",
      "           9       0.90      0.91      0.90      2063\n",
      "          10       0.92      0.94      0.93      8331\n",
      "          11       0.72      0.65      0.68       415\n",
      "          12       0.92      0.92      0.92      5030\n",
      "          13       0.75      0.74      0.74       554\n",
      "          14       0.91      0.92      0.91      2982\n",
      "          15       0.80      0.80      0.80       459\n",
      "          16       0.86      0.85      0.86      1837\n",
      "          17       0.90      0.89      0.89      1857\n",
      "          18       0.92      0.91      0.92      2967\n",
      "          19       0.89      0.90      0.89      1763\n",
      "          20       0.90      0.91      0.91      3020\n",
      "          21       0.92      0.92      0.92      1146\n",
      "          22       0.92      0.94      0.93      7071\n",
      "          23       0.80      0.77      0.78       693\n",
      "\n",
      "   micro avg       0.90      0.90      0.90     54012\n",
      "   macro avg       0.85      0.84      0.84     54012\n",
      "weighted avg       0.90      0.90      0.90     54012\n",
      " samples avg       0.89      0.89      0.89     54012\n",
      "\n"
     ]
    }
   ],
   "source": [
    "print(classification_report(y_test, clf_predictions5))"
   ]
  },
  {
   "cell_type": "markdown",
   "id": "3a059242",
   "metadata": {},
   "source": [
    "# LabelPowerset, Tfidf, linear svc"
   ]
  },
  {
   "cell_type": "code",
   "execution_count": 60,
   "id": "f8720dd9",
   "metadata": {},
   "outputs": [],
   "source": [
    "clf6 = Pipeline([\n",
    "    ('cv', TfidfVectorizer(strip_accents='ascii', analyzer='word', ngram_range=(1,3), norm='l2', max_features = 5000)),\n",
    "                ('clf6',  LabelPowerset(LinearSVC()))])"
   ]
  },
  {
   "cell_type": "code",
   "execution_count": 61,
   "id": "9354c5ca",
   "metadata": {},
   "outputs": [
    {
     "data": {
      "text/plain": [
       "Pipeline(steps=[('cv',\n",
       "                 TfidfVectorizer(max_features=5000, ngram_range=(1, 3),\n",
       "                                 strip_accents='ascii')),\n",
       "                ('clf6',\n",
       "                 LabelPowerset(classifier=LinearSVC(),\n",
       "                               require_dense=[True, True]))])"
      ]
     },
     "execution_count": 61,
     "metadata": {},
     "output_type": "execute_result"
    }
   ],
   "source": [
    "clf6.fit(train_text,y_train)"
   ]
  },
  {
   "cell_type": "code",
   "execution_count": 62,
   "id": "374c5ecf",
   "metadata": {},
   "outputs": [],
   "source": [
    "clf_predictions6 = clf6.predict(test_text)"
   ]
  },
  {
   "cell_type": "code",
   "execution_count": 63,
   "id": "a3b862bb",
   "metadata": {},
   "outputs": [
    {
     "name": "stdout",
     "output_type": "stream",
     "text": [
      "Accuracy =  0.9016187695302494\n",
      "F1 score =  0.9096946163566099\n",
      "Hamming loss =  0.010449217082458207\n"
     ]
    }
   ],
   "source": [
    "print(\"Accuracy = \",accuracy_score(y_test,clf_predictions6))\n",
    "print(\"F1 score = \",f1_score(y_test,clf_predictions6, average=\"micro\"))\n",
    "print(\"Hamming loss = \",hamming_loss(y_test,clf_predictions6))"
   ]
  },
  {
   "cell_type": "code",
   "execution_count": 64,
   "id": "ccac86e3",
   "metadata": {},
   "outputs": [
    {
     "name": "stdout",
     "output_type": "stream",
     "text": [
      "0.9\n",
      "0.91\n"
     ]
    }
   ],
   "source": [
    "print(round(accuracy_score(y_test,clf_predictions6),2))\n",
    "print(round(f1_score(y_test,clf_predictions6, average=\"micro\"),2))"
   ]
  },
  {
   "cell_type": "code",
   "execution_count": 65,
   "id": "a204a0c7",
   "metadata": {},
   "outputs": [],
   "source": [
    "lp_tf_acc.append(round(accuracy_score(y_test,clf_predictions6),2))\n",
    "lp_tf_f1.append(round(f1_score(y_test,clf_predictions6, average=\"micro\"),2))"
   ]
  },
  {
   "cell_type": "code",
   "execution_count": 66,
   "id": "8181f23b",
   "metadata": {},
   "outputs": [
    {
     "name": "stdout",
     "output_type": "stream",
     "text": [
      "              precision    recall  f1-score   support\n",
      "\n",
      "           0       0.84      0.73      0.78       570\n",
      "           1       0.93      0.94      0.94      4397\n",
      "           2       0.79      0.69      0.74       213\n",
      "           3       0.90      0.84      0.87      1227\n",
      "           4       0.87      0.84      0.86       897\n",
      "           5       0.90      0.87      0.89      1420\n",
      "           6       0.85      0.76      0.80       438\n",
      "           7       0.91      0.91      0.91      4287\n",
      "           8       0.79      0.64      0.70       375\n",
      "           9       0.90      0.92      0.91      2063\n",
      "          10       0.91      0.96      0.93      8331\n",
      "          11       0.81      0.58      0.67       415\n",
      "          12       0.92      0.93      0.93      5030\n",
      "          13       0.82      0.77      0.79       554\n",
      "          14       0.91      0.92      0.91      2982\n",
      "          15       0.86      0.80      0.83       459\n",
      "          16       0.90      0.85      0.87      1837\n",
      "          17       0.91      0.91      0.91      1857\n",
      "          18       0.93      0.92      0.93      2967\n",
      "          19       0.91      0.90      0.91      1763\n",
      "          20       0.90      0.93      0.91      3020\n",
      "          21       0.94      0.92      0.93      1146\n",
      "          22       0.90      0.97      0.93      7071\n",
      "          23       0.84      0.77      0.80       693\n",
      "\n",
      "   micro avg       0.91      0.91      0.91     54012\n",
      "   macro avg       0.88      0.84      0.86     54012\n",
      "weighted avg       0.91      0.91      0.91     54012\n",
      " samples avg       0.90      0.91      0.90     54012\n",
      "\n"
     ]
    }
   ],
   "source": [
    "print(classification_report(y_test, clf_predictions6))"
   ]
  },
  {
   "cell_type": "code",
   "execution_count": null,
   "id": "7bc2aaeb",
   "metadata": {},
   "outputs": [],
   "source": []
  },
  {
   "cell_type": "code",
   "execution_count": null,
   "id": "fa60d56f",
   "metadata": {},
   "outputs": [],
   "source": []
  },
  {
   "cell_type": "code",
   "execution_count": null,
   "id": "2085daf5",
   "metadata": {},
   "outputs": [],
   "source": []
  },
  {
   "cell_type": "markdown",
   "id": "264edbe4",
   "metadata": {},
   "source": [
    "# BinaryRelevance, TfidfVector, Logistic Regression"
   ]
  },
  {
   "cell_type": "code",
   "execution_count": 67,
   "id": "c036ed57",
   "metadata": {},
   "outputs": [],
   "source": [
    "br_tf_acc =[]\n",
    "br_cv_acc =[]\n",
    "br_tf_f1 = []\n",
    "br_cv_f1 = []"
   ]
  },
  {
   "cell_type": "code",
   "execution_count": 68,
   "id": "a3a8b51e",
   "metadata": {},
   "outputs": [],
   "source": [
    "clf7 = Pipeline([\n",
    "    ('tfidf',TfidfVectorizer(strip_accents='ascii', analyzer='word', ngram_range=(1,3), norm='l2', max_features = 3000)),\n",
    "                ('clf7', BinaryRelevance(LogisticRegression()))])"
   ]
  },
  {
   "cell_type": "code",
   "execution_count": 69,
   "id": "938c8d24",
   "metadata": {},
   "outputs": [
    {
     "data": {
      "text/plain": [
       "Pipeline(steps=[('tfidf',\n",
       "                 TfidfVectorizer(max_features=3000, ngram_range=(1, 3),\n",
       "                                 strip_accents='ascii')),\n",
       "                ('clf7',\n",
       "                 BinaryRelevance(classifier=LogisticRegression(),\n",
       "                                 require_dense=[True, True]))])"
      ]
     },
     "execution_count": 69,
     "metadata": {},
     "output_type": "execute_result"
    }
   ],
   "source": [
    "clf7.fit(train_text,y_train)"
   ]
  },
  {
   "cell_type": "code",
   "execution_count": 70,
   "id": "49195e94",
   "metadata": {},
   "outputs": [],
   "source": [
    "clf_predictions7 = clf7.predict(test_text)"
   ]
  },
  {
   "cell_type": "code",
   "execution_count": 71,
   "id": "e6df94d1",
   "metadata": {},
   "outputs": [
    {
     "name": "stdout",
     "output_type": "stream",
     "text": [
      "Accuracy =  0.6161825726141079\n",
      "F1 score =  0.7797785411021739\n",
      "Hamming loss =  0.02203182897051039\n"
     ]
    }
   ],
   "source": [
    "print(\"Accuracy = \",accuracy_score(y_test,clf_predictions7))\n",
    "print(\"F1 score = \",f1_score(y_test,clf_predictions7, average=\"micro\"))\n",
    "print(\"Hamming loss = \",hamming_loss(y_test,clf_predictions7))"
   ]
  },
  {
   "cell_type": "code",
   "execution_count": 72,
   "id": "8e5ca89b",
   "metadata": {},
   "outputs": [
    {
     "name": "stdout",
     "output_type": "stream",
     "text": [
      "0.62\n",
      "0.78\n"
     ]
    }
   ],
   "source": [
    "print(round(accuracy_score(y_test,clf_predictions7),2))\n",
    "print(round(f1_score(y_test,clf_predictions7, average=\"micro\"),2))"
   ]
  },
  {
   "cell_type": "code",
   "execution_count": 73,
   "id": "61a89438",
   "metadata": {},
   "outputs": [],
   "source": [
    "br_tf_acc.append(round(accuracy_score(y_test,clf_predictions7),2))\n",
    "br_tf_f1.append(round(f1_score(y_test,clf_predictions7, average=\"micro\"),2))"
   ]
  },
  {
   "cell_type": "code",
   "execution_count": 74,
   "id": "38caccee",
   "metadata": {},
   "outputs": [
    {
     "name": "stdout",
     "output_type": "stream",
     "text": [
      "              precision    recall  f1-score   support\n",
      "\n",
      "           0       0.86      0.30      0.45       570\n",
      "           1       0.95      0.75      0.84      4397\n",
      "           2       0.75      0.30      0.42       213\n",
      "           3       0.91      0.52      0.66      1227\n",
      "           4       0.89      0.49      0.63       897\n",
      "           5       0.91      0.49      0.64      1420\n",
      "           6       0.78      0.42      0.55       438\n",
      "           7       0.90      0.62      0.73      4287\n",
      "           8       0.93      0.21      0.34       375\n",
      "           9       0.93      0.68      0.78      2063\n",
      "          10       0.90      0.79      0.84      8331\n",
      "          11       0.84      0.16      0.27       415\n",
      "          12       0.92      0.74      0.82      5030\n",
      "          13       0.86      0.32      0.47       554\n",
      "          14       0.90      0.69      0.78      2982\n",
      "          15       0.93      0.46      0.61       459\n",
      "          16       0.92      0.51      0.66      1837\n",
      "          17       0.95      0.61      0.75      1857\n",
      "          18       0.94      0.72      0.81      2967\n",
      "          19       0.94      0.64      0.76      1763\n",
      "          20       0.95      0.67      0.78      3020\n",
      "          21       0.95      0.73      0.83      1146\n",
      "          22       0.92      0.80      0.85      7071\n",
      "          23       0.82      0.39      0.53       693\n",
      "\n",
      "   micro avg       0.92      0.68      0.78     54012\n",
      "   macro avg       0.90      0.54      0.66     54012\n",
      "weighted avg       0.92      0.68      0.77     54012\n",
      " samples avg       0.66      0.66      0.65     54012\n",
      "\n"
     ]
    }
   ],
   "source": [
    "print(classification_report(y_test, clf_predictions7))"
   ]
  },
  {
   "cell_type": "markdown",
   "id": "5e60a004",
   "metadata": {},
   "source": [
    "# BinaryRelevance, countVector, Logistic Regression"
   ]
  },
  {
   "cell_type": "code",
   "execution_count": 75,
   "id": "076ea4f4",
   "metadata": {},
   "outputs": [],
   "source": [
    "clf8 = Pipeline([\n",
    "    ('tfidf',CountVectorizer(ngram_range=(1,3),max_features=2000)),\n",
    "    ('clf8', BinaryRelevance(LogisticRegression()))])"
   ]
  },
  {
   "cell_type": "code",
   "execution_count": 76,
   "id": "eb09da00",
   "metadata": {},
   "outputs": [
    {
     "ename": "KeyboardInterrupt",
     "evalue": "",
     "output_type": "error",
     "traceback": [
      "\u001b[1;31m---------------------------------------------------------------------------\u001b[0m",
      "\u001b[1;31mKeyboardInterrupt\u001b[0m                         Traceback (most recent call last)",
      "\u001b[1;32mC:\\Users\\RAHULK~1\\AppData\\Local\\Temp/ipykernel_11260/1168767798.py\u001b[0m in \u001b[0;36m<module>\u001b[1;34m\u001b[0m\n\u001b[1;32m----> 1\u001b[1;33m \u001b[0mclf8\u001b[0m\u001b[1;33m.\u001b[0m\u001b[0mfit\u001b[0m\u001b[1;33m(\u001b[0m\u001b[0mtrain_text\u001b[0m\u001b[1;33m,\u001b[0m\u001b[0my_train\u001b[0m\u001b[1;33m)\u001b[0m\u001b[1;33m\u001b[0m\u001b[1;33m\u001b[0m\u001b[0m\n\u001b[0m",
      "\u001b[1;32mc:\\users\\rahul kumar shah\\appdata\\local\\programs\\python\\python39\\lib\\site-packages\\sklearn\\pipeline.py\u001b[0m in \u001b[0;36mfit\u001b[1;34m(self, X, y, **fit_params)\u001b[0m\n\u001b[0;32m    392\u001b[0m             \u001b[1;32mif\u001b[0m \u001b[0mself\u001b[0m\u001b[1;33m.\u001b[0m\u001b[0m_final_estimator\u001b[0m \u001b[1;33m!=\u001b[0m \u001b[1;34m\"passthrough\"\u001b[0m\u001b[1;33m:\u001b[0m\u001b[1;33m\u001b[0m\u001b[1;33m\u001b[0m\u001b[0m\n\u001b[0;32m    393\u001b[0m                 \u001b[0mfit_params_last_step\u001b[0m \u001b[1;33m=\u001b[0m \u001b[0mfit_params_steps\u001b[0m\u001b[1;33m[\u001b[0m\u001b[0mself\u001b[0m\u001b[1;33m.\u001b[0m\u001b[0msteps\u001b[0m\u001b[1;33m[\u001b[0m\u001b[1;33m-\u001b[0m\u001b[1;36m1\u001b[0m\u001b[1;33m]\u001b[0m\u001b[1;33m[\u001b[0m\u001b[1;36m0\u001b[0m\u001b[1;33m]\u001b[0m\u001b[1;33m]\u001b[0m\u001b[1;33m\u001b[0m\u001b[1;33m\u001b[0m\u001b[0m\n\u001b[1;32m--> 394\u001b[1;33m                 \u001b[0mself\u001b[0m\u001b[1;33m.\u001b[0m\u001b[0m_final_estimator\u001b[0m\u001b[1;33m.\u001b[0m\u001b[0mfit\u001b[0m\u001b[1;33m(\u001b[0m\u001b[0mXt\u001b[0m\u001b[1;33m,\u001b[0m \u001b[0my\u001b[0m\u001b[1;33m,\u001b[0m \u001b[1;33m**\u001b[0m\u001b[0mfit_params_last_step\u001b[0m\u001b[1;33m)\u001b[0m\u001b[1;33m\u001b[0m\u001b[1;33m\u001b[0m\u001b[0m\n\u001b[0m\u001b[0;32m    395\u001b[0m \u001b[1;33m\u001b[0m\u001b[0m\n\u001b[0;32m    396\u001b[0m         \u001b[1;32mreturn\u001b[0m \u001b[0mself\u001b[0m\u001b[1;33m\u001b[0m\u001b[1;33m\u001b[0m\u001b[0m\n",
      "\u001b[1;32mc:\\users\\rahul kumar shah\\appdata\\local\\programs\\python\\python39\\lib\\site-packages\\skmultilearn\\problem_transform\\br.py\u001b[0m in \u001b[0;36mfit\u001b[1;34m(self, X, y)\u001b[0m\n\u001b[0;32m    159\u001b[0m             \u001b[1;32mif\u001b[0m \u001b[0missparse\u001b[0m\u001b[1;33m(\u001b[0m\u001b[0my_subset\u001b[0m\u001b[1;33m)\u001b[0m \u001b[1;32mand\u001b[0m \u001b[0my_subset\u001b[0m\u001b[1;33m.\u001b[0m\u001b[0mndim\u001b[0m \u001b[1;33m>\u001b[0m \u001b[1;36m1\u001b[0m \u001b[1;32mand\u001b[0m \u001b[0my_subset\u001b[0m\u001b[1;33m.\u001b[0m\u001b[0mshape\u001b[0m\u001b[1;33m[\u001b[0m\u001b[1;36m1\u001b[0m\u001b[1;33m]\u001b[0m \u001b[1;33m==\u001b[0m \u001b[1;36m1\u001b[0m\u001b[1;33m:\u001b[0m\u001b[1;33m\u001b[0m\u001b[1;33m\u001b[0m\u001b[0m\n\u001b[0;32m    160\u001b[0m                 \u001b[0my_subset\u001b[0m \u001b[1;33m=\u001b[0m \u001b[0mnp\u001b[0m\u001b[1;33m.\u001b[0m\u001b[0mravel\u001b[0m\u001b[1;33m(\u001b[0m\u001b[0my_subset\u001b[0m\u001b[1;33m.\u001b[0m\u001b[0mtoarray\u001b[0m\u001b[1;33m(\u001b[0m\u001b[1;33m)\u001b[0m\u001b[1;33m)\u001b[0m\u001b[1;33m\u001b[0m\u001b[1;33m\u001b[0m\u001b[0m\n\u001b[1;32m--> 161\u001b[1;33m             classifier.fit(self._ensure_input_format(\n\u001b[0m\u001b[0;32m    162\u001b[0m                 X), self._ensure_output_format(y_subset))\n\u001b[0;32m    163\u001b[0m             \u001b[0mself\u001b[0m\u001b[1;33m.\u001b[0m\u001b[0mclassifiers_\u001b[0m\u001b[1;33m.\u001b[0m\u001b[0mappend\u001b[0m\u001b[1;33m(\u001b[0m\u001b[0mclassifier\u001b[0m\u001b[1;33m)\u001b[0m\u001b[1;33m\u001b[0m\u001b[1;33m\u001b[0m\u001b[0m\n",
      "\u001b[1;32mc:\\users\\rahul kumar shah\\appdata\\local\\programs\\python\\python39\\lib\\site-packages\\sklearn\\linear_model\\_logistic.py\u001b[0m in \u001b[0;36mfit\u001b[1;34m(self, X, y, sample_weight)\u001b[0m\n\u001b[0;32m   1587\u001b[0m         \u001b[1;32melse\u001b[0m\u001b[1;33m:\u001b[0m\u001b[1;33m\u001b[0m\u001b[1;33m\u001b[0m\u001b[0m\n\u001b[0;32m   1588\u001b[0m             \u001b[0mprefer\u001b[0m \u001b[1;33m=\u001b[0m \u001b[1;34m\"processes\"\u001b[0m\u001b[1;33m\u001b[0m\u001b[1;33m\u001b[0m\u001b[0m\n\u001b[1;32m-> 1589\u001b[1;33m         fold_coefs_ = Parallel(\n\u001b[0m\u001b[0;32m   1590\u001b[0m             \u001b[0mn_jobs\u001b[0m\u001b[1;33m=\u001b[0m\u001b[0mself\u001b[0m\u001b[1;33m.\u001b[0m\u001b[0mn_jobs\u001b[0m\u001b[1;33m,\u001b[0m\u001b[1;33m\u001b[0m\u001b[1;33m\u001b[0m\u001b[0m\n\u001b[0;32m   1591\u001b[0m             \u001b[0mverbose\u001b[0m\u001b[1;33m=\u001b[0m\u001b[0mself\u001b[0m\u001b[1;33m.\u001b[0m\u001b[0mverbose\u001b[0m\u001b[1;33m,\u001b[0m\u001b[1;33m\u001b[0m\u001b[1;33m\u001b[0m\u001b[0m\n",
      "\u001b[1;32mc:\\users\\rahul kumar shah\\appdata\\local\\programs\\python\\python39\\lib\\site-packages\\joblib\\parallel.py\u001b[0m in \u001b[0;36m__call__\u001b[1;34m(self, iterable)\u001b[0m\n\u001b[0;32m   1041\u001b[0m             \u001b[1;31m# remaining jobs.\u001b[0m\u001b[1;33m\u001b[0m\u001b[1;33m\u001b[0m\u001b[1;33m\u001b[0m\u001b[0m\n\u001b[0;32m   1042\u001b[0m             \u001b[0mself\u001b[0m\u001b[1;33m.\u001b[0m\u001b[0m_iterating\u001b[0m \u001b[1;33m=\u001b[0m \u001b[1;32mFalse\u001b[0m\u001b[1;33m\u001b[0m\u001b[1;33m\u001b[0m\u001b[0m\n\u001b[1;32m-> 1043\u001b[1;33m             \u001b[1;32mif\u001b[0m \u001b[0mself\u001b[0m\u001b[1;33m.\u001b[0m\u001b[0mdispatch_one_batch\u001b[0m\u001b[1;33m(\u001b[0m\u001b[0miterator\u001b[0m\u001b[1;33m)\u001b[0m\u001b[1;33m:\u001b[0m\u001b[1;33m\u001b[0m\u001b[1;33m\u001b[0m\u001b[0m\n\u001b[0m\u001b[0;32m   1044\u001b[0m                 \u001b[0mself\u001b[0m\u001b[1;33m.\u001b[0m\u001b[0m_iterating\u001b[0m \u001b[1;33m=\u001b[0m \u001b[0mself\u001b[0m\u001b[1;33m.\u001b[0m\u001b[0m_original_iterator\u001b[0m \u001b[1;32mis\u001b[0m \u001b[1;32mnot\u001b[0m \u001b[1;32mNone\u001b[0m\u001b[1;33m\u001b[0m\u001b[1;33m\u001b[0m\u001b[0m\n\u001b[0;32m   1045\u001b[0m \u001b[1;33m\u001b[0m\u001b[0m\n",
      "\u001b[1;32mc:\\users\\rahul kumar shah\\appdata\\local\\programs\\python\\python39\\lib\\site-packages\\joblib\\parallel.py\u001b[0m in \u001b[0;36mdispatch_one_batch\u001b[1;34m(self, iterator)\u001b[0m\n\u001b[0;32m    859\u001b[0m                 \u001b[1;32mreturn\u001b[0m \u001b[1;32mFalse\u001b[0m\u001b[1;33m\u001b[0m\u001b[1;33m\u001b[0m\u001b[0m\n\u001b[0;32m    860\u001b[0m             \u001b[1;32melse\u001b[0m\u001b[1;33m:\u001b[0m\u001b[1;33m\u001b[0m\u001b[1;33m\u001b[0m\u001b[0m\n\u001b[1;32m--> 861\u001b[1;33m                 \u001b[0mself\u001b[0m\u001b[1;33m.\u001b[0m\u001b[0m_dispatch\u001b[0m\u001b[1;33m(\u001b[0m\u001b[0mtasks\u001b[0m\u001b[1;33m)\u001b[0m\u001b[1;33m\u001b[0m\u001b[1;33m\u001b[0m\u001b[0m\n\u001b[0m\u001b[0;32m    862\u001b[0m                 \u001b[1;32mreturn\u001b[0m \u001b[1;32mTrue\u001b[0m\u001b[1;33m\u001b[0m\u001b[1;33m\u001b[0m\u001b[0m\n\u001b[0;32m    863\u001b[0m \u001b[1;33m\u001b[0m\u001b[0m\n",
      "\u001b[1;32mc:\\users\\rahul kumar shah\\appdata\\local\\programs\\python\\python39\\lib\\site-packages\\joblib\\parallel.py\u001b[0m in \u001b[0;36m_dispatch\u001b[1;34m(self, batch)\u001b[0m\n\u001b[0;32m    777\u001b[0m         \u001b[1;32mwith\u001b[0m \u001b[0mself\u001b[0m\u001b[1;33m.\u001b[0m\u001b[0m_lock\u001b[0m\u001b[1;33m:\u001b[0m\u001b[1;33m\u001b[0m\u001b[1;33m\u001b[0m\u001b[0m\n\u001b[0;32m    778\u001b[0m             \u001b[0mjob_idx\u001b[0m \u001b[1;33m=\u001b[0m \u001b[0mlen\u001b[0m\u001b[1;33m(\u001b[0m\u001b[0mself\u001b[0m\u001b[1;33m.\u001b[0m\u001b[0m_jobs\u001b[0m\u001b[1;33m)\u001b[0m\u001b[1;33m\u001b[0m\u001b[1;33m\u001b[0m\u001b[0m\n\u001b[1;32m--> 779\u001b[1;33m             \u001b[0mjob\u001b[0m \u001b[1;33m=\u001b[0m \u001b[0mself\u001b[0m\u001b[1;33m.\u001b[0m\u001b[0m_backend\u001b[0m\u001b[1;33m.\u001b[0m\u001b[0mapply_async\u001b[0m\u001b[1;33m(\u001b[0m\u001b[0mbatch\u001b[0m\u001b[1;33m,\u001b[0m \u001b[0mcallback\u001b[0m\u001b[1;33m=\u001b[0m\u001b[0mcb\u001b[0m\u001b[1;33m)\u001b[0m\u001b[1;33m\u001b[0m\u001b[1;33m\u001b[0m\u001b[0m\n\u001b[0m\u001b[0;32m    780\u001b[0m             \u001b[1;31m# A job can complete so quickly than its callback is\u001b[0m\u001b[1;33m\u001b[0m\u001b[1;33m\u001b[0m\u001b[1;33m\u001b[0m\u001b[0m\n\u001b[0;32m    781\u001b[0m             \u001b[1;31m# called before we get here, causing self._jobs to\u001b[0m\u001b[1;33m\u001b[0m\u001b[1;33m\u001b[0m\u001b[1;33m\u001b[0m\u001b[0m\n",
      "\u001b[1;32mc:\\users\\rahul kumar shah\\appdata\\local\\programs\\python\\python39\\lib\\site-packages\\joblib\\_parallel_backends.py\u001b[0m in \u001b[0;36mapply_async\u001b[1;34m(self, func, callback)\u001b[0m\n\u001b[0;32m    206\u001b[0m     \u001b[1;32mdef\u001b[0m \u001b[0mapply_async\u001b[0m\u001b[1;33m(\u001b[0m\u001b[0mself\u001b[0m\u001b[1;33m,\u001b[0m \u001b[0mfunc\u001b[0m\u001b[1;33m,\u001b[0m \u001b[0mcallback\u001b[0m\u001b[1;33m=\u001b[0m\u001b[1;32mNone\u001b[0m\u001b[1;33m)\u001b[0m\u001b[1;33m:\u001b[0m\u001b[1;33m\u001b[0m\u001b[1;33m\u001b[0m\u001b[0m\n\u001b[0;32m    207\u001b[0m         \u001b[1;34m\"\"\"Schedule a func to be run\"\"\"\u001b[0m\u001b[1;33m\u001b[0m\u001b[1;33m\u001b[0m\u001b[0m\n\u001b[1;32m--> 208\u001b[1;33m         \u001b[0mresult\u001b[0m \u001b[1;33m=\u001b[0m \u001b[0mImmediateResult\u001b[0m\u001b[1;33m(\u001b[0m\u001b[0mfunc\u001b[0m\u001b[1;33m)\u001b[0m\u001b[1;33m\u001b[0m\u001b[1;33m\u001b[0m\u001b[0m\n\u001b[0m\u001b[0;32m    209\u001b[0m         \u001b[1;32mif\u001b[0m \u001b[0mcallback\u001b[0m\u001b[1;33m:\u001b[0m\u001b[1;33m\u001b[0m\u001b[1;33m\u001b[0m\u001b[0m\n\u001b[0;32m    210\u001b[0m             \u001b[0mcallback\u001b[0m\u001b[1;33m(\u001b[0m\u001b[0mresult\u001b[0m\u001b[1;33m)\u001b[0m\u001b[1;33m\u001b[0m\u001b[1;33m\u001b[0m\u001b[0m\n",
      "\u001b[1;32mc:\\users\\rahul kumar shah\\appdata\\local\\programs\\python\\python39\\lib\\site-packages\\joblib\\_parallel_backends.py\u001b[0m in \u001b[0;36m__init__\u001b[1;34m(self, batch)\u001b[0m\n\u001b[0;32m    570\u001b[0m         \u001b[1;31m# Don't delay the application, to avoid keeping the input\u001b[0m\u001b[1;33m\u001b[0m\u001b[1;33m\u001b[0m\u001b[1;33m\u001b[0m\u001b[0m\n\u001b[0;32m    571\u001b[0m         \u001b[1;31m# arguments in memory\u001b[0m\u001b[1;33m\u001b[0m\u001b[1;33m\u001b[0m\u001b[1;33m\u001b[0m\u001b[0m\n\u001b[1;32m--> 572\u001b[1;33m         \u001b[0mself\u001b[0m\u001b[1;33m.\u001b[0m\u001b[0mresults\u001b[0m \u001b[1;33m=\u001b[0m \u001b[0mbatch\u001b[0m\u001b[1;33m(\u001b[0m\u001b[1;33m)\u001b[0m\u001b[1;33m\u001b[0m\u001b[1;33m\u001b[0m\u001b[0m\n\u001b[0m\u001b[0;32m    573\u001b[0m \u001b[1;33m\u001b[0m\u001b[0m\n\u001b[0;32m    574\u001b[0m     \u001b[1;32mdef\u001b[0m \u001b[0mget\u001b[0m\u001b[1;33m(\u001b[0m\u001b[0mself\u001b[0m\u001b[1;33m)\u001b[0m\u001b[1;33m:\u001b[0m\u001b[1;33m\u001b[0m\u001b[1;33m\u001b[0m\u001b[0m\n",
      "\u001b[1;32mc:\\users\\rahul kumar shah\\appdata\\local\\programs\\python\\python39\\lib\\site-packages\\joblib\\parallel.py\u001b[0m in \u001b[0;36m__call__\u001b[1;34m(self)\u001b[0m\n\u001b[0;32m    260\u001b[0m         \u001b[1;31m# change the default number of processes to -1\u001b[0m\u001b[1;33m\u001b[0m\u001b[1;33m\u001b[0m\u001b[1;33m\u001b[0m\u001b[0m\n\u001b[0;32m    261\u001b[0m         \u001b[1;32mwith\u001b[0m \u001b[0mparallel_backend\u001b[0m\u001b[1;33m(\u001b[0m\u001b[0mself\u001b[0m\u001b[1;33m.\u001b[0m\u001b[0m_backend\u001b[0m\u001b[1;33m,\u001b[0m \u001b[0mn_jobs\u001b[0m\u001b[1;33m=\u001b[0m\u001b[0mself\u001b[0m\u001b[1;33m.\u001b[0m\u001b[0m_n_jobs\u001b[0m\u001b[1;33m)\u001b[0m\u001b[1;33m:\u001b[0m\u001b[1;33m\u001b[0m\u001b[1;33m\u001b[0m\u001b[0m\n\u001b[1;32m--> 262\u001b[1;33m             return [func(*args, **kwargs)\n\u001b[0m\u001b[0;32m    263\u001b[0m                     for func, args, kwargs in self.items]\n\u001b[0;32m    264\u001b[0m \u001b[1;33m\u001b[0m\u001b[0m\n",
      "\u001b[1;32mc:\\users\\rahul kumar shah\\appdata\\local\\programs\\python\\python39\\lib\\site-packages\\joblib\\parallel.py\u001b[0m in \u001b[0;36m<listcomp>\u001b[1;34m(.0)\u001b[0m\n\u001b[0;32m    260\u001b[0m         \u001b[1;31m# change the default number of processes to -1\u001b[0m\u001b[1;33m\u001b[0m\u001b[1;33m\u001b[0m\u001b[1;33m\u001b[0m\u001b[0m\n\u001b[0;32m    261\u001b[0m         \u001b[1;32mwith\u001b[0m \u001b[0mparallel_backend\u001b[0m\u001b[1;33m(\u001b[0m\u001b[0mself\u001b[0m\u001b[1;33m.\u001b[0m\u001b[0m_backend\u001b[0m\u001b[1;33m,\u001b[0m \u001b[0mn_jobs\u001b[0m\u001b[1;33m=\u001b[0m\u001b[0mself\u001b[0m\u001b[1;33m.\u001b[0m\u001b[0m_n_jobs\u001b[0m\u001b[1;33m)\u001b[0m\u001b[1;33m:\u001b[0m\u001b[1;33m\u001b[0m\u001b[1;33m\u001b[0m\u001b[0m\n\u001b[1;32m--> 262\u001b[1;33m             return [func(*args, **kwargs)\n\u001b[0m\u001b[0;32m    263\u001b[0m                     for func, args, kwargs in self.items]\n\u001b[0;32m    264\u001b[0m \u001b[1;33m\u001b[0m\u001b[0m\n",
      "\u001b[1;32mc:\\users\\rahul kumar shah\\appdata\\local\\programs\\python\\python39\\lib\\site-packages\\sklearn\\utils\\fixes.py\u001b[0m in \u001b[0;36m__call__\u001b[1;34m(self, *args, **kwargs)\u001b[0m\n\u001b[0;32m    209\u001b[0m     \u001b[1;32mdef\u001b[0m \u001b[0m__call__\u001b[0m\u001b[1;33m(\u001b[0m\u001b[0mself\u001b[0m\u001b[1;33m,\u001b[0m \u001b[1;33m*\u001b[0m\u001b[0margs\u001b[0m\u001b[1;33m,\u001b[0m \u001b[1;33m**\u001b[0m\u001b[0mkwargs\u001b[0m\u001b[1;33m)\u001b[0m\u001b[1;33m:\u001b[0m\u001b[1;33m\u001b[0m\u001b[1;33m\u001b[0m\u001b[0m\n\u001b[0;32m    210\u001b[0m         \u001b[1;32mwith\u001b[0m \u001b[0mconfig_context\u001b[0m\u001b[1;33m(\u001b[0m\u001b[1;33m**\u001b[0m\u001b[0mself\u001b[0m\u001b[1;33m.\u001b[0m\u001b[0mconfig\u001b[0m\u001b[1;33m)\u001b[0m\u001b[1;33m:\u001b[0m\u001b[1;33m\u001b[0m\u001b[1;33m\u001b[0m\u001b[0m\n\u001b[1;32m--> 211\u001b[1;33m             \u001b[1;32mreturn\u001b[0m \u001b[0mself\u001b[0m\u001b[1;33m.\u001b[0m\u001b[0mfunction\u001b[0m\u001b[1;33m(\u001b[0m\u001b[1;33m*\u001b[0m\u001b[0margs\u001b[0m\u001b[1;33m,\u001b[0m \u001b[1;33m**\u001b[0m\u001b[0mkwargs\u001b[0m\u001b[1;33m)\u001b[0m\u001b[1;33m\u001b[0m\u001b[1;33m\u001b[0m\u001b[0m\n\u001b[0m\u001b[0;32m    212\u001b[0m \u001b[1;33m\u001b[0m\u001b[0m\n\u001b[0;32m    213\u001b[0m \u001b[1;33m\u001b[0m\u001b[0m\n",
      "\u001b[1;32mc:\\users\\rahul kumar shah\\appdata\\local\\programs\\python\\python39\\lib\\site-packages\\sklearn\\linear_model\\_logistic.py\u001b[0m in \u001b[0;36m_logistic_regression_path\u001b[1;34m(X, y, pos_class, Cs, fit_intercept, max_iter, tol, verbose, solver, coef, class_weight, dual, penalty, intercept_scaling, multi_class, random_state, check_input, max_squared_sum, sample_weight, l1_ratio)\u001b[0m\n\u001b[0;32m    804\u001b[0m                 \u001b[0mnp\u001b[0m\u001b[1;33m.\u001b[0m\u001b[0msearchsorted\u001b[0m\u001b[1;33m(\u001b[0m\u001b[0mnp\u001b[0m\u001b[1;33m.\u001b[0m\u001b[0marray\u001b[0m\u001b[1;33m(\u001b[0m\u001b[1;33m[\u001b[0m\u001b[1;36m0\u001b[0m\u001b[1;33m,\u001b[0m \u001b[1;36m1\u001b[0m\u001b[1;33m,\u001b[0m \u001b[1;36m2\u001b[0m\u001b[1;33m,\u001b[0m \u001b[1;36m3\u001b[0m\u001b[1;33m]\u001b[0m\u001b[1;33m)\u001b[0m\u001b[1;33m,\u001b[0m \u001b[0mverbose\u001b[0m\u001b[1;33m)\u001b[0m\u001b[1;33m\u001b[0m\u001b[1;33m\u001b[0m\u001b[0m\n\u001b[0;32m    805\u001b[0m             ]\n\u001b[1;32m--> 806\u001b[1;33m             opt_res = optimize.minimize(\n\u001b[0m\u001b[0;32m    807\u001b[0m                 \u001b[0mfunc\u001b[0m\u001b[1;33m,\u001b[0m\u001b[1;33m\u001b[0m\u001b[1;33m\u001b[0m\u001b[0m\n\u001b[0;32m    808\u001b[0m                 \u001b[0mw0\u001b[0m\u001b[1;33m,\u001b[0m\u001b[1;33m\u001b[0m\u001b[1;33m\u001b[0m\u001b[0m\n",
      "\u001b[1;32mc:\\users\\rahul kumar shah\\appdata\\local\\programs\\python\\python39\\lib\\site-packages\\scipy\\optimize\\_minimize.py\u001b[0m in \u001b[0;36mminimize\u001b[1;34m(fun, x0, args, method, jac, hess, hessp, bounds, constraints, tol, callback, options)\u001b[0m\n\u001b[0;32m    621\u001b[0m                                   **options)\n\u001b[0;32m    622\u001b[0m     \u001b[1;32melif\u001b[0m \u001b[0mmeth\u001b[0m \u001b[1;33m==\u001b[0m \u001b[1;34m'l-bfgs-b'\u001b[0m\u001b[1;33m:\u001b[0m\u001b[1;33m\u001b[0m\u001b[1;33m\u001b[0m\u001b[0m\n\u001b[1;32m--> 623\u001b[1;33m         return _minimize_lbfgsb(fun, x0, args, jac, bounds,\n\u001b[0m\u001b[0;32m    624\u001b[0m                                 callback=callback, **options)\n\u001b[0;32m    625\u001b[0m     \u001b[1;32melif\u001b[0m \u001b[0mmeth\u001b[0m \u001b[1;33m==\u001b[0m \u001b[1;34m'tnc'\u001b[0m\u001b[1;33m:\u001b[0m\u001b[1;33m\u001b[0m\u001b[1;33m\u001b[0m\u001b[0m\n",
      "\u001b[1;32mc:\\users\\rahul kumar shah\\appdata\\local\\programs\\python\\python39\\lib\\site-packages\\scipy\\optimize\\lbfgsb.py\u001b[0m in \u001b[0;36m_minimize_lbfgsb\u001b[1;34m(fun, x0, args, jac, bounds, disp, maxcor, ftol, gtol, eps, maxfun, maxiter, iprint, callback, maxls, finite_diff_rel_step, **unknown_options)\u001b[0m\n\u001b[0;32m    358\u001b[0m             \u001b[1;31m# until the completion of the current minimization iteration.\u001b[0m\u001b[1;33m\u001b[0m\u001b[1;33m\u001b[0m\u001b[1;33m\u001b[0m\u001b[0m\n\u001b[0;32m    359\u001b[0m             \u001b[1;31m# Overwrite f and g:\u001b[0m\u001b[1;33m\u001b[0m\u001b[1;33m\u001b[0m\u001b[1;33m\u001b[0m\u001b[0m\n\u001b[1;32m--> 360\u001b[1;33m             \u001b[0mf\u001b[0m\u001b[1;33m,\u001b[0m \u001b[0mg\u001b[0m \u001b[1;33m=\u001b[0m \u001b[0mfunc_and_grad\u001b[0m\u001b[1;33m(\u001b[0m\u001b[0mx\u001b[0m\u001b[1;33m)\u001b[0m\u001b[1;33m\u001b[0m\u001b[1;33m\u001b[0m\u001b[0m\n\u001b[0m\u001b[0;32m    361\u001b[0m         \u001b[1;32melif\u001b[0m \u001b[0mtask_str\u001b[0m\u001b[1;33m.\u001b[0m\u001b[0mstartswith\u001b[0m\u001b[1;33m(\u001b[0m\u001b[1;34mb'NEW_X'\u001b[0m\u001b[1;33m)\u001b[0m\u001b[1;33m:\u001b[0m\u001b[1;33m\u001b[0m\u001b[1;33m\u001b[0m\u001b[0m\n\u001b[0;32m    362\u001b[0m             \u001b[1;31m# new iteration\u001b[0m\u001b[1;33m\u001b[0m\u001b[1;33m\u001b[0m\u001b[1;33m\u001b[0m\u001b[0m\n",
      "\u001b[1;32mc:\\users\\rahul kumar shah\\appdata\\local\\programs\\python\\python39\\lib\\site-packages\\scipy\\optimize\\_differentiable_functions.py\u001b[0m in \u001b[0;36mfun_and_grad\u001b[1;34m(self, x)\u001b[0m\n\u001b[0;32m    265\u001b[0m         \u001b[1;32mif\u001b[0m \u001b[1;32mnot\u001b[0m \u001b[0mnp\u001b[0m\u001b[1;33m.\u001b[0m\u001b[0marray_equal\u001b[0m\u001b[1;33m(\u001b[0m\u001b[0mx\u001b[0m\u001b[1;33m,\u001b[0m \u001b[0mself\u001b[0m\u001b[1;33m.\u001b[0m\u001b[0mx\u001b[0m\u001b[1;33m)\u001b[0m\u001b[1;33m:\u001b[0m\u001b[1;33m\u001b[0m\u001b[1;33m\u001b[0m\u001b[0m\n\u001b[0;32m    266\u001b[0m             \u001b[0mself\u001b[0m\u001b[1;33m.\u001b[0m\u001b[0m_update_x_impl\u001b[0m\u001b[1;33m(\u001b[0m\u001b[0mx\u001b[0m\u001b[1;33m)\u001b[0m\u001b[1;33m\u001b[0m\u001b[1;33m\u001b[0m\u001b[0m\n\u001b[1;32m--> 267\u001b[1;33m         \u001b[0mself\u001b[0m\u001b[1;33m.\u001b[0m\u001b[0m_update_fun\u001b[0m\u001b[1;33m(\u001b[0m\u001b[1;33m)\u001b[0m\u001b[1;33m\u001b[0m\u001b[1;33m\u001b[0m\u001b[0m\n\u001b[0m\u001b[0;32m    268\u001b[0m         \u001b[0mself\u001b[0m\u001b[1;33m.\u001b[0m\u001b[0m_update_grad\u001b[0m\u001b[1;33m(\u001b[0m\u001b[1;33m)\u001b[0m\u001b[1;33m\u001b[0m\u001b[1;33m\u001b[0m\u001b[0m\n\u001b[0;32m    269\u001b[0m         \u001b[1;32mreturn\u001b[0m \u001b[0mself\u001b[0m\u001b[1;33m.\u001b[0m\u001b[0mf\u001b[0m\u001b[1;33m,\u001b[0m \u001b[0mself\u001b[0m\u001b[1;33m.\u001b[0m\u001b[0mg\u001b[0m\u001b[1;33m\u001b[0m\u001b[1;33m\u001b[0m\u001b[0m\n",
      "\u001b[1;32mc:\\users\\rahul kumar shah\\appdata\\local\\programs\\python\\python39\\lib\\site-packages\\scipy\\optimize\\_differentiable_functions.py\u001b[0m in \u001b[0;36m_update_fun\u001b[1;34m(self)\u001b[0m\n\u001b[0;32m    231\u001b[0m     \u001b[1;32mdef\u001b[0m \u001b[0m_update_fun\u001b[0m\u001b[1;33m(\u001b[0m\u001b[0mself\u001b[0m\u001b[1;33m)\u001b[0m\u001b[1;33m:\u001b[0m\u001b[1;33m\u001b[0m\u001b[1;33m\u001b[0m\u001b[0m\n\u001b[0;32m    232\u001b[0m         \u001b[1;32mif\u001b[0m \u001b[1;32mnot\u001b[0m \u001b[0mself\u001b[0m\u001b[1;33m.\u001b[0m\u001b[0mf_updated\u001b[0m\u001b[1;33m:\u001b[0m\u001b[1;33m\u001b[0m\u001b[1;33m\u001b[0m\u001b[0m\n\u001b[1;32m--> 233\u001b[1;33m             \u001b[0mself\u001b[0m\u001b[1;33m.\u001b[0m\u001b[0m_update_fun_impl\u001b[0m\u001b[1;33m(\u001b[0m\u001b[1;33m)\u001b[0m\u001b[1;33m\u001b[0m\u001b[1;33m\u001b[0m\u001b[0m\n\u001b[0m\u001b[0;32m    234\u001b[0m             \u001b[0mself\u001b[0m\u001b[1;33m.\u001b[0m\u001b[0mf_updated\u001b[0m \u001b[1;33m=\u001b[0m \u001b[1;32mTrue\u001b[0m\u001b[1;33m\u001b[0m\u001b[1;33m\u001b[0m\u001b[0m\n\u001b[0;32m    235\u001b[0m \u001b[1;33m\u001b[0m\u001b[0m\n",
      "\u001b[1;32mc:\\users\\rahul kumar shah\\appdata\\local\\programs\\python\\python39\\lib\\site-packages\\scipy\\optimize\\_differentiable_functions.py\u001b[0m in \u001b[0;36mupdate_fun\u001b[1;34m()\u001b[0m\n\u001b[0;32m    135\u001b[0m \u001b[1;33m\u001b[0m\u001b[0m\n\u001b[0;32m    136\u001b[0m         \u001b[1;32mdef\u001b[0m \u001b[0mupdate_fun\u001b[0m\u001b[1;33m(\u001b[0m\u001b[1;33m)\u001b[0m\u001b[1;33m:\u001b[0m\u001b[1;33m\u001b[0m\u001b[1;33m\u001b[0m\u001b[0m\n\u001b[1;32m--> 137\u001b[1;33m             \u001b[0mself\u001b[0m\u001b[1;33m.\u001b[0m\u001b[0mf\u001b[0m \u001b[1;33m=\u001b[0m \u001b[0mfun_wrapped\u001b[0m\u001b[1;33m(\u001b[0m\u001b[0mself\u001b[0m\u001b[1;33m.\u001b[0m\u001b[0mx\u001b[0m\u001b[1;33m)\u001b[0m\u001b[1;33m\u001b[0m\u001b[1;33m\u001b[0m\u001b[0m\n\u001b[0m\u001b[0;32m    138\u001b[0m \u001b[1;33m\u001b[0m\u001b[0m\n\u001b[0;32m    139\u001b[0m         \u001b[0mself\u001b[0m\u001b[1;33m.\u001b[0m\u001b[0m_update_fun_impl\u001b[0m \u001b[1;33m=\u001b[0m \u001b[0mupdate_fun\u001b[0m\u001b[1;33m\u001b[0m\u001b[1;33m\u001b[0m\u001b[0m\n",
      "\u001b[1;32mc:\\users\\rahul kumar shah\\appdata\\local\\programs\\python\\python39\\lib\\site-packages\\scipy\\optimize\\_differentiable_functions.py\u001b[0m in \u001b[0;36mfun_wrapped\u001b[1;34m(x)\u001b[0m\n\u001b[0;32m    132\u001b[0m             \u001b[1;31m# Overwriting results in undefined behaviour because\u001b[0m\u001b[1;33m\u001b[0m\u001b[1;33m\u001b[0m\u001b[1;33m\u001b[0m\u001b[0m\n\u001b[0;32m    133\u001b[0m             \u001b[1;31m# fun(self.x) will change self.x, with the two no longer linked.\u001b[0m\u001b[1;33m\u001b[0m\u001b[1;33m\u001b[0m\u001b[1;33m\u001b[0m\u001b[0m\n\u001b[1;32m--> 134\u001b[1;33m             \u001b[1;32mreturn\u001b[0m \u001b[0mfun\u001b[0m\u001b[1;33m(\u001b[0m\u001b[0mnp\u001b[0m\u001b[1;33m.\u001b[0m\u001b[0mcopy\u001b[0m\u001b[1;33m(\u001b[0m\u001b[0mx\u001b[0m\u001b[1;33m)\u001b[0m\u001b[1;33m,\u001b[0m \u001b[1;33m*\u001b[0m\u001b[0margs\u001b[0m\u001b[1;33m)\u001b[0m\u001b[1;33m\u001b[0m\u001b[1;33m\u001b[0m\u001b[0m\n\u001b[0m\u001b[0;32m    135\u001b[0m \u001b[1;33m\u001b[0m\u001b[0m\n\u001b[0;32m    136\u001b[0m         \u001b[1;32mdef\u001b[0m \u001b[0mupdate_fun\u001b[0m\u001b[1;33m(\u001b[0m\u001b[1;33m)\u001b[0m\u001b[1;33m:\u001b[0m\u001b[1;33m\u001b[0m\u001b[1;33m\u001b[0m\u001b[0m\n",
      "\u001b[1;32mc:\\users\\rahul kumar shah\\appdata\\local\\programs\\python\\python39\\lib\\site-packages\\scipy\\optimize\\optimize.py\u001b[0m in \u001b[0;36m__call__\u001b[1;34m(self, x, *args)\u001b[0m\n\u001b[0;32m     72\u001b[0m     \u001b[1;32mdef\u001b[0m \u001b[0m__call__\u001b[0m\u001b[1;33m(\u001b[0m\u001b[0mself\u001b[0m\u001b[1;33m,\u001b[0m \u001b[0mx\u001b[0m\u001b[1;33m,\u001b[0m \u001b[1;33m*\u001b[0m\u001b[0margs\u001b[0m\u001b[1;33m)\u001b[0m\u001b[1;33m:\u001b[0m\u001b[1;33m\u001b[0m\u001b[1;33m\u001b[0m\u001b[0m\n\u001b[0;32m     73\u001b[0m         \u001b[1;34m\"\"\" returns the the function value \"\"\"\u001b[0m\u001b[1;33m\u001b[0m\u001b[1;33m\u001b[0m\u001b[0m\n\u001b[1;32m---> 74\u001b[1;33m         \u001b[0mself\u001b[0m\u001b[1;33m.\u001b[0m\u001b[0m_compute_if_needed\u001b[0m\u001b[1;33m(\u001b[0m\u001b[0mx\u001b[0m\u001b[1;33m,\u001b[0m \u001b[1;33m*\u001b[0m\u001b[0margs\u001b[0m\u001b[1;33m)\u001b[0m\u001b[1;33m\u001b[0m\u001b[1;33m\u001b[0m\u001b[0m\n\u001b[0m\u001b[0;32m     75\u001b[0m         \u001b[1;32mreturn\u001b[0m \u001b[0mself\u001b[0m\u001b[1;33m.\u001b[0m\u001b[0m_value\u001b[0m\u001b[1;33m\u001b[0m\u001b[1;33m\u001b[0m\u001b[0m\n\u001b[0;32m     76\u001b[0m \u001b[1;33m\u001b[0m\u001b[0m\n",
      "\u001b[1;32mc:\\users\\rahul kumar shah\\appdata\\local\\programs\\python\\python39\\lib\\site-packages\\scipy\\optimize\\optimize.py\u001b[0m in \u001b[0;36m_compute_if_needed\u001b[1;34m(self, x, *args)\u001b[0m\n\u001b[0;32m     66\u001b[0m         \u001b[1;32mif\u001b[0m \u001b[1;32mnot\u001b[0m \u001b[0mnp\u001b[0m\u001b[1;33m.\u001b[0m\u001b[0mall\u001b[0m\u001b[1;33m(\u001b[0m\u001b[0mx\u001b[0m \u001b[1;33m==\u001b[0m \u001b[0mself\u001b[0m\u001b[1;33m.\u001b[0m\u001b[0mx\u001b[0m\u001b[1;33m)\u001b[0m \u001b[1;32mor\u001b[0m \u001b[0mself\u001b[0m\u001b[1;33m.\u001b[0m\u001b[0m_value\u001b[0m \u001b[1;32mis\u001b[0m \u001b[1;32mNone\u001b[0m \u001b[1;32mor\u001b[0m \u001b[0mself\u001b[0m\u001b[1;33m.\u001b[0m\u001b[0mjac\u001b[0m \u001b[1;32mis\u001b[0m \u001b[1;32mNone\u001b[0m\u001b[1;33m:\u001b[0m\u001b[1;33m\u001b[0m\u001b[1;33m\u001b[0m\u001b[0m\n\u001b[0;32m     67\u001b[0m             \u001b[0mself\u001b[0m\u001b[1;33m.\u001b[0m\u001b[0mx\u001b[0m \u001b[1;33m=\u001b[0m \u001b[0mnp\u001b[0m\u001b[1;33m.\u001b[0m\u001b[0masarray\u001b[0m\u001b[1;33m(\u001b[0m\u001b[0mx\u001b[0m\u001b[1;33m)\u001b[0m\u001b[1;33m.\u001b[0m\u001b[0mcopy\u001b[0m\u001b[1;33m(\u001b[0m\u001b[1;33m)\u001b[0m\u001b[1;33m\u001b[0m\u001b[1;33m\u001b[0m\u001b[0m\n\u001b[1;32m---> 68\u001b[1;33m             \u001b[0mfg\u001b[0m \u001b[1;33m=\u001b[0m \u001b[0mself\u001b[0m\u001b[1;33m.\u001b[0m\u001b[0mfun\u001b[0m\u001b[1;33m(\u001b[0m\u001b[0mx\u001b[0m\u001b[1;33m,\u001b[0m \u001b[1;33m*\u001b[0m\u001b[0margs\u001b[0m\u001b[1;33m)\u001b[0m\u001b[1;33m\u001b[0m\u001b[1;33m\u001b[0m\u001b[0m\n\u001b[0m\u001b[0;32m     69\u001b[0m             \u001b[0mself\u001b[0m\u001b[1;33m.\u001b[0m\u001b[0mjac\u001b[0m \u001b[1;33m=\u001b[0m \u001b[0mfg\u001b[0m\u001b[1;33m[\u001b[0m\u001b[1;36m1\u001b[0m\u001b[1;33m]\u001b[0m\u001b[1;33m\u001b[0m\u001b[1;33m\u001b[0m\u001b[0m\n\u001b[0;32m     70\u001b[0m             \u001b[0mself\u001b[0m\u001b[1;33m.\u001b[0m\u001b[0m_value\u001b[0m \u001b[1;33m=\u001b[0m \u001b[0mfg\u001b[0m\u001b[1;33m[\u001b[0m\u001b[1;36m0\u001b[0m\u001b[1;33m]\u001b[0m\u001b[1;33m\u001b[0m\u001b[1;33m\u001b[0m\u001b[0m\n",
      "\u001b[1;32mc:\\users\\rahul kumar shah\\appdata\\local\\programs\\python\\python39\\lib\\site-packages\\sklearn\\linear_model\\_logistic.py\u001b[0m in \u001b[0;36m_logistic_loss_and_grad\u001b[1;34m(w, X, y, alpha, sample_weight)\u001b[0m\n\u001b[0;32m    125\u001b[0m     \u001b[0mz0\u001b[0m \u001b[1;33m=\u001b[0m \u001b[0msample_weight\u001b[0m \u001b[1;33m*\u001b[0m \u001b[1;33m(\u001b[0m\u001b[0mz\u001b[0m \u001b[1;33m-\u001b[0m \u001b[1;36m1\u001b[0m\u001b[1;33m)\u001b[0m \u001b[1;33m*\u001b[0m \u001b[0my\u001b[0m\u001b[1;33m\u001b[0m\u001b[1;33m\u001b[0m\u001b[0m\n\u001b[0;32m    126\u001b[0m \u001b[1;33m\u001b[0m\u001b[0m\n\u001b[1;32m--> 127\u001b[1;33m     \u001b[0mgrad\u001b[0m\u001b[1;33m[\u001b[0m\u001b[1;33m:\u001b[0m\u001b[0mn_features\u001b[0m\u001b[1;33m]\u001b[0m \u001b[1;33m=\u001b[0m \u001b[0msafe_sparse_dot\u001b[0m\u001b[1;33m(\u001b[0m\u001b[0mX\u001b[0m\u001b[1;33m.\u001b[0m\u001b[0mT\u001b[0m\u001b[1;33m,\u001b[0m \u001b[0mz0\u001b[0m\u001b[1;33m)\u001b[0m \u001b[1;33m+\u001b[0m \u001b[0malpha\u001b[0m \u001b[1;33m*\u001b[0m \u001b[0mw\u001b[0m\u001b[1;33m\u001b[0m\u001b[1;33m\u001b[0m\u001b[0m\n\u001b[0m\u001b[0;32m    128\u001b[0m \u001b[1;33m\u001b[0m\u001b[0m\n\u001b[0;32m    129\u001b[0m     \u001b[1;31m# Case where we fit the intercept.\u001b[0m\u001b[1;33m\u001b[0m\u001b[1;33m\u001b[0m\u001b[1;33m\u001b[0m\u001b[0m\n",
      "\u001b[1;32mc:\\users\\rahul kumar shah\\appdata\\local\\programs\\python\\python39\\lib\\site-packages\\sklearn\\utils\\extmath.py\u001b[0m in \u001b[0;36msafe_sparse_dot\u001b[1;34m(a, b, dense_output)\u001b[0m\n\u001b[0;32m    151\u001b[0m             \u001b[0mret\u001b[0m \u001b[1;33m=\u001b[0m \u001b[0mnp\u001b[0m\u001b[1;33m.\u001b[0m\u001b[0mdot\u001b[0m\u001b[1;33m(\u001b[0m\u001b[0ma\u001b[0m\u001b[1;33m,\u001b[0m \u001b[0mb\u001b[0m\u001b[1;33m)\u001b[0m\u001b[1;33m\u001b[0m\u001b[1;33m\u001b[0m\u001b[0m\n\u001b[0;32m    152\u001b[0m     \u001b[1;32melse\u001b[0m\u001b[1;33m:\u001b[0m\u001b[1;33m\u001b[0m\u001b[1;33m\u001b[0m\u001b[0m\n\u001b[1;32m--> 153\u001b[1;33m         \u001b[0mret\u001b[0m \u001b[1;33m=\u001b[0m \u001b[0ma\u001b[0m \u001b[1;33m@\u001b[0m \u001b[0mb\u001b[0m\u001b[1;33m\u001b[0m\u001b[1;33m\u001b[0m\u001b[0m\n\u001b[0m\u001b[0;32m    154\u001b[0m \u001b[1;33m\u001b[0m\u001b[0m\n\u001b[0;32m    155\u001b[0m     if (\n",
      "\u001b[1;31mKeyboardInterrupt\u001b[0m: "
     ]
    }
   ],
   "source": [
    "clf8.fit(train_text,y_train)"
   ]
  },
  {
   "cell_type": "code",
   "execution_count": null,
   "id": "200af8ca",
   "metadata": {},
   "outputs": [],
   "source": [
    "clf_predictions8 = clf8.predict(test_text)"
   ]
  },
  {
   "cell_type": "code",
   "execution_count": null,
   "id": "ef57cb38",
   "metadata": {},
   "outputs": [],
   "source": [
    "print(\"Accuracy = \",accuracy_score(y_test,clf_predictions8))\n",
    "print(\"F1 score = \",f1_score(y_test,clf_predictions8, average=\"micro\"))\n",
    "print(\"Hamming loss = \",hamming_loss(y_test,clf_predictions8))"
   ]
  },
  {
   "cell_type": "code",
   "execution_count": null,
   "id": "f73c9be1",
   "metadata": {},
   "outputs": [],
   "source": [
    "print(round(accuracy_score(y_test,clf_predictions8),2))\n",
    "print(round(f1_score(y_test,clf_predictions8, average=\"micro\"),2))"
   ]
  },
  {
   "cell_type": "code",
   "execution_count": null,
   "id": "bb37bb6f",
   "metadata": {},
   "outputs": [],
   "source": [
    "br_cv_acc.append(round(accuracy_score(y_test,clf_predictions8),2))\n",
    "br_cv_f1.append(round(f1_score(y_test,clf_predictions8, average=\"micro\"),2))"
   ]
  },
  {
   "cell_type": "code",
   "execution_count": null,
   "id": "a0fc3fc1",
   "metadata": {},
   "outputs": [],
   "source": [
    "print(classification_report(y_test, clf_predictions8))"
   ]
  },
  {
   "cell_type": "markdown",
   "id": "020c4dbd",
   "metadata": {},
   "source": [
    "# BinaryRelevance, TfidfVector, MNB"
   ]
  },
  {
   "cell_type": "code",
   "execution_count": null,
   "id": "b8cd5c2c",
   "metadata": {},
   "outputs": [],
   "source": [
    "clf9 = Pipeline([\n",
    "    ('tfidf',TfidfVectorizer(strip_accents='ascii', analyzer='word', ngram_range=(1,3), norm='l2', max_features = 2000)),\n",
    "                ('clf9', BinaryRelevance(MultinomialNB(fit_prior=True, class_prior=None)))])"
   ]
  },
  {
   "cell_type": "code",
   "execution_count": null,
   "id": "ac36307b",
   "metadata": {},
   "outputs": [],
   "source": [
    "clf9.fit(train_text,y_train)"
   ]
  },
  {
   "cell_type": "code",
   "execution_count": null,
   "id": "6fd957a2",
   "metadata": {},
   "outputs": [],
   "source": [
    "clf_predictions9 = clf9.predict(test_text)"
   ]
  },
  {
   "cell_type": "code",
   "execution_count": null,
   "id": "5aeb4de3",
   "metadata": {},
   "outputs": [],
   "source": [
    "print(\"Accuracy = \",accuracy_score(y_test,clf_predictions9))\n",
    "print(\"F1 score = \",f1_score(y_test,clf_predictions9, average=\"micro\"))\n",
    "print(\"Hamming loss = \",hamming_loss(y_test,clf_predictions9))"
   ]
  },
  {
   "cell_type": "code",
   "execution_count": null,
   "id": "ad739c32",
   "metadata": {},
   "outputs": [],
   "source": [
    "print(round(accuracy_score(y_test,clf_predictions9),2))\n",
    "print(round(f1_score(y_test,clf_predictions9, average=\"micro\"),2))"
   ]
  },
  {
   "cell_type": "code",
   "execution_count": null,
   "id": "345f6ed6",
   "metadata": {},
   "outputs": [],
   "source": [
    "br_tf_acc.append(round(accuracy_score(y_test,clf_predictions9),2))\n",
    "br_tf_f1.append(round(f1_score(y_test,clf_predictions9, average=\"micro\"),2))"
   ]
  },
  {
   "cell_type": "code",
   "execution_count": null,
   "id": "73eb3589",
   "metadata": {},
   "outputs": [],
   "source": [
    "print(classification_report(y_test, clf_predictions9))"
   ]
  },
  {
   "cell_type": "markdown",
   "id": "a3e8f262",
   "metadata": {},
   "source": [
    "# BinaryRelevance, countVector, MNB"
   ]
  },
  {
   "cell_type": "code",
   "execution_count": null,
   "id": "34873927",
   "metadata": {},
   "outputs": [],
   "source": [
    "clf10 = Pipeline([\n",
    "    ('tfidf',CountVectorizer(ngram_range=(1,3),max_features=3000)),\n",
    "                ('clf10', BinaryRelevance(MultinomialNB(fit_prior=True, class_prior=None)))])"
   ]
  },
  {
   "cell_type": "code",
   "execution_count": null,
   "id": "f322363d",
   "metadata": {},
   "outputs": [],
   "source": [
    "clf10.fit(train_text,y_train)"
   ]
  },
  {
   "cell_type": "code",
   "execution_count": null,
   "id": "d4f9628e",
   "metadata": {},
   "outputs": [],
   "source": [
    "clf_predictions10 = clf10.predict(test_text)"
   ]
  },
  {
   "cell_type": "code",
   "execution_count": null,
   "id": "f8d036d3",
   "metadata": {},
   "outputs": [],
   "source": [
    "print(\"Accuracy = \",accuracy_score(y_test,clf_predictions10))\n",
    "print(\"F1 score = \",f1_score(y_test,clf_predictions10, average=\"micro\"))\n",
    "print(\"Hamming loss = \",hamming_loss(y_test,clf_predictions10))"
   ]
  },
  {
   "cell_type": "code",
   "execution_count": null,
   "id": "5bc07918",
   "metadata": {},
   "outputs": [],
   "source": [
    "print(round(accuracy_score(y_test,clf_predictions10),2))\n",
    "print(round(f1_score(y_test,clf_predictions10, average=\"micro\"),2))"
   ]
  },
  {
   "cell_type": "code",
   "execution_count": null,
   "id": "e33f8184",
   "metadata": {},
   "outputs": [],
   "source": [
    "br_cv_acc.append(round(accuracy_score(y_test,clf_predictions10),2))\n",
    "br_cv_f1.append(round(f1_score(y_test,clf_predictions10, average=\"micro\"),2))"
   ]
  },
  {
   "cell_type": "code",
   "execution_count": null,
   "id": "a86121dc",
   "metadata": {},
   "outputs": [],
   "source": [
    "print(classification_report(y_test, clf_predictions10))"
   ]
  },
  {
   "cell_type": "markdown",
   "id": "f7a69956",
   "metadata": {},
   "source": [
    "# BinaryRelevance, TfidfVector, Linear svc"
   ]
  },
  {
   "cell_type": "code",
   "execution_count": null,
   "id": "d3c690ce",
   "metadata": {},
   "outputs": [],
   "source": [
    "clf11 = Pipeline([\n",
    "    ('tfidf',TfidfVectorizer(strip_accents='ascii', analyzer='word', ngram_range=(1,3), norm='l2', max_features = 2000)),\n",
    "                ('clf11', BinaryRelevance(LinearSVC()))])"
   ]
  },
  {
   "cell_type": "code",
   "execution_count": null,
   "id": "d6e3544a",
   "metadata": {},
   "outputs": [],
   "source": [
    "clf11.fit(train_text,y_train)"
   ]
  },
  {
   "cell_type": "code",
   "execution_count": null,
   "id": "791e3195",
   "metadata": {},
   "outputs": [],
   "source": [
    "clf_predictions11 = clf11.predict(test_text)"
   ]
  },
  {
   "cell_type": "code",
   "execution_count": null,
   "id": "ccab30e3",
   "metadata": {},
   "outputs": [],
   "source": [
    "print(\"Accuracy = \",accuracy_score(y_test,clf_predictions11))\n",
    "print(\"F1 score = \",f1_score(y_test,clf_predictions11, average=\"micro\"))\n",
    "print(\"Hamming loss = \",hamming_loss(y_test,clf_predictions11))"
   ]
  },
  {
   "cell_type": "code",
   "execution_count": null,
   "id": "8e24d2db",
   "metadata": {},
   "outputs": [],
   "source": [
    "print(round(accuracy_score(y_test,clf_predictions11),2))\n",
    "print(round(f1_score(y_test,clf_predictions11, average=\"micro\"),2))"
   ]
  },
  {
   "cell_type": "code",
   "execution_count": null,
   "id": "7b8b762c",
   "metadata": {},
   "outputs": [],
   "source": [
    "br_tf_acc.append(round(accuracy_score(y_test,clf_predictions11),2))\n",
    "br_tf_f1.append(round(f1_score(y_test,clf_predictions11, average=\"micro\"),2))"
   ]
  },
  {
   "cell_type": "code",
   "execution_count": null,
   "id": "fab25151",
   "metadata": {},
   "outputs": [],
   "source": [
    "print(classification_report(y_test, clf_predictions11))"
   ]
  },
  {
   "cell_type": "markdown",
   "id": "88814ecd",
   "metadata": {},
   "source": [
    "# BinaryRelevance, countVector, Linear svc"
   ]
  },
  {
   "cell_type": "code",
   "execution_count": null,
   "id": "a4ac02cd",
   "metadata": {},
   "outputs": [],
   "source": [
    "clf12 = Pipeline([\n",
    "    ('tfidf',CountVectorizer(ngram_range=(1,3),max_features=3000)),\n",
    "                ('clf12', BinaryRelevance(LinearSVC()))])"
   ]
  },
  {
   "cell_type": "code",
   "execution_count": null,
   "id": "76615ab2",
   "metadata": {},
   "outputs": [],
   "source": [
    "clf12.fit(train_text,y_train)"
   ]
  },
  {
   "cell_type": "code",
   "execution_count": null,
   "id": "d008f84c",
   "metadata": {},
   "outputs": [],
   "source": [
    "clf_predictions12 = clf12.predict(test_text)"
   ]
  },
  {
   "cell_type": "code",
   "execution_count": null,
   "id": "dc7f1150",
   "metadata": {},
   "outputs": [],
   "source": [
    "print(\"Accuracy = \",accuracy_score(y_test,clf_predictions12))\n",
    "print(\"F1 score = \",f1_score(y_test,clf_predictions12, average=\"micro\"))\n",
    "print(\"Hamming loss = \",hamming_loss(y_test,clf_predictions12))"
   ]
  },
  {
   "cell_type": "code",
   "execution_count": null,
   "id": "31c5c655",
   "metadata": {},
   "outputs": [],
   "source": [
    "print(round(accuracy_score(y_test,clf_predictions12),2))\n",
    "print(round(f1_score(y_test,clf_predictions12, average=\"micro\"),2))"
   ]
  },
  {
   "cell_type": "code",
   "execution_count": null,
   "id": "2c345d33",
   "metadata": {},
   "outputs": [],
   "source": [
    "br_cv_acc.append(round(accuracy_score(y_test,clf_predictions12),2))\n",
    "br_cv_f1.append(round(f1_score(y_test,clf_predictions12, average=\"micro\"),2))"
   ]
  },
  {
   "cell_type": "code",
   "execution_count": null,
   "id": "463a142a",
   "metadata": {},
   "outputs": [],
   "source": [
    "print(classification_report(y_test, clf_predictions12))"
   ]
  },
  {
   "cell_type": "markdown",
   "id": "ecb375cd",
   "metadata": {},
   "source": [
    "# ClassifierChain"
   ]
  },
  {
   "cell_type": "code",
   "execution_count": null,
   "id": "1876ba00",
   "metadata": {},
   "outputs": [],
   "source": [
    "vec = TfidfVectorizer(strip_accents='ascii', analyzer='word', ngram_range=(1,3), norm='l2', max_features = 1500)"
   ]
  },
  {
   "cell_type": "code",
   "execution_count": null,
   "id": "15aed44d",
   "metadata": {},
   "outputs": [],
   "source": [
    "selected_labels = y_train.columns[y_train.sum(axis = 0, skipna = True) > 0].tolist()\n",
    "y_train = y_train.filter(selected_labels, axis=1)\n",
    "y_test = y_test.filter(selected_labels, axis=1)"
   ]
  },
  {
   "cell_type": "code",
   "execution_count": null,
   "id": "05483520",
   "metadata": {},
   "outputs": [],
   "source": [
    "vec.fit(train_text)\n",
    "vec.fit(test_text)"
   ]
  },
  {
   "cell_type": "code",
   "execution_count": null,
   "id": "2ce311a5",
   "metadata": {},
   "outputs": [],
   "source": [
    "x_train = vec.transform(train_text)\n",
    "x_test = vec.transform(test_text)"
   ]
  },
  {
   "cell_type": "code",
   "execution_count": null,
   "id": "a221a0ab",
   "metadata": {},
   "outputs": [],
   "source": [
    "clf13 = ClassifierChain(LogisticRegression(solver='sag'))\n",
    "clf13.fit(x_train, y_train)\n",
    "clf13_proba = clf13.predict_proba(x_test)"
   ]
  },
  {
   "cell_type": "code",
   "execution_count": null,
   "id": "32e50caf",
   "metadata": {},
   "outputs": [],
   "source": [
    "th = []\n",
    "f = []\n",
    "ham = []\n",
    "ac = []\n",
    "for t in range (5,60): # threshold value\n",
    "    y_pred_new = (clf13_proba >= t/100).astype(int)\n",
    "    #print(\"t =\" ,t/100)\n",
    "    #print(\"Accuracy = \",accuracy_score(y_test,y_pred_new))\n",
    "    #print(\"F1 = \",f1_score(y_test,y_pred_new, average=\"micro\"))\n",
    "    #print(\"Hamming loss = \",hamming_loss(y_test,y_pred_new))\n",
    "    th.append(t)\n",
    "    ac.append(accuracy_score(y_test,y_pred_new))\n",
    "    f.append(f1_score(y_test,y_pred_new, average=\"micro\"))\n",
    "    ham.append(hamming_loss(y_test,y_pred_new))"
   ]
  },
  {
   "cell_type": "code",
   "execution_count": null,
   "id": "8989d131",
   "metadata": {},
   "outputs": [],
   "source": [
    "plt.rcParams[\"figure.figsize\"] = (12,6)\n",
    "with plt.style.context('ggplot'):\n",
    "    plt.plot(th, f)\n",
    "    plt.plot(th, ham)\n",
    "    plt.plot(th, ac)\n",
    "    plt.legend(['F1', 'Hamming loss', 'Accuracy'], loc='center left', fontsize = 14)\n",
    "    plt.ylabel(\"metrics\", fontsize = 14)\n",
    "    plt.xlabel(\"threshold\", fontsize = 14)\n",
    "    plt.title(\"Classfier Chain Model\", fontsize = 18)\n",
    "plt.show()"
   ]
  },
  {
   "cell_type": "code",
   "execution_count": null,
   "id": "a2cfa21d",
   "metadata": {},
   "outputs": [],
   "source": []
  },
  {
   "cell_type": "code",
   "execution_count": null,
   "id": "22824a7a",
   "metadata": {},
   "outputs": [],
   "source": []
  }
 ],
 "metadata": {
  "kernelspec": {
   "display_name": "Python 3 (ipykernel)",
   "language": "python",
   "name": "python3"
  },
  "language_info": {
   "codemirror_mode": {
    "name": "ipython",
    "version": 3
   },
   "file_extension": ".py",
   "mimetype": "text/x-python",
   "name": "python",
   "nbconvert_exporter": "python",
   "pygments_lexer": "ipython3",
   "version": "3.9.6"
  }
 },
 "nbformat": 4,
 "nbformat_minor": 5
}
