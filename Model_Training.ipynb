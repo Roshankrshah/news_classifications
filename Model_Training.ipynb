{
 "cells": [
  {
   "cell_type": "markdown",
   "id": "bb77a432",
   "metadata": {},
   "source": [
    "# Importing libraries"
   ]
  },
  {
   "cell_type": "code",
   "execution_count": 1,
   "id": "56d02d2e",
   "metadata": {},
   "outputs": [],
   "source": [
    "import pandas as pd\n",
    "import numpy as np\n",
    "import nltk\n",
    "from nltk.stem import WordNetLemmatizer\n",
    "from nltk import word_tokenize\n",
    "from nltk.corpus import stopwords\n",
    "import re\n",
    "import string\n",
    "from sklearn.model_selection import train_test_split\n",
    "from sklearn.metrics import accuracy_score\n",
    "import matplotlib.pyplot as plt\n",
    "from sklearn.feature_extraction.text import TfidfVectorizer\n",
    "from sklearn.feature_extraction.text import CountVectorizer\n",
    "from skmultilearn.problem_transform import LabelPowerset\n",
    "from skmultilearn.problem_transform import BinaryRelevance\n",
    "from sklearn.linear_model import LogisticRegression\n",
    "from sklearn.pipeline import Pipeline"
   ]
  },
  {
   "cell_type": "markdown",
   "id": "c14c6270",
   "metadata": {},
   "source": [
    "# Read Dataset"
   ]
  },
  {
   "cell_type": "code",
   "execution_count": 2,
   "id": "619961d7",
   "metadata": {},
   "outputs": [],
   "source": [
    "df = pd.read_csv('news_dataset.csv')"
   ]
  },
  {
   "cell_type": "code",
   "execution_count": 3,
   "id": "43beaa09",
   "metadata": {},
   "outputs": [
    {
     "data": {
      "text/plain": [
       "Index(['Headline', 'Article', 'Category', 'ARTS & CULTURE',\n",
       "       'BUSINESS & FINANCE', 'COLLEGE', 'COMEDY', 'CRIME', 'CURRENT AFFAIRS',\n",
       "       'EDUCATION', 'ENTERTAINMENT', 'ENVIRONMENT', 'FOOD & BEVERAGES',\n",
       "       'HEALTH & FITNESS', 'HEALTHY LIVING', 'LIFESTYLE', 'MEDIA', 'POLITICS',\n",
       "       'RELIGION', 'SCIENCE', 'SPORTS', 'STYLE & BEAUTY', 'TECHNOLOGY',\n",
       "       'TOURISM', 'WEDDINGS', 'WELLNESS', 'WOMEN'],\n",
       "      dtype='object')"
      ]
     },
     "execution_count": 3,
     "metadata": {},
     "output_type": "execute_result"
    }
   ],
   "source": [
    "df.columns"
   ]
  },
  {
   "cell_type": "markdown",
   "id": "90b4d69c",
   "metadata": {},
   "source": [
    "# Clean Dataset"
   ]
  },
  {
   "cell_type": "code",
   "execution_count": 4,
   "id": "85bb9aaa",
   "metadata": {},
   "outputs": [
    {
     "data": {
      "text/plain": [
       "Headline                 3\n",
       "Article               9994\n",
       "Category                 0\n",
       "ARTS & CULTURE           0\n",
       "BUSINESS & FINANCE       0\n",
       "COLLEGE                  0\n",
       "COMEDY                   0\n",
       "CRIME                    0\n",
       "CURRENT AFFAIRS          0\n",
       "EDUCATION                0\n",
       "ENTERTAINMENT            0\n",
       "ENVIRONMENT              0\n",
       "FOOD & BEVERAGES         0\n",
       "HEALTH & FITNESS         0\n",
       "HEALTHY LIVING           0\n",
       "LIFESTYLE                0\n",
       "MEDIA                    0\n",
       "POLITICS                 0\n",
       "RELIGION                 0\n",
       "SCIENCE                  0\n",
       "SPORTS                   0\n",
       "STYLE & BEAUTY           0\n",
       "TECHNOLOGY               0\n",
       "TOURISM                  0\n",
       "WEDDINGS                 0\n",
       "WELLNESS                 0\n",
       "WOMEN                    0\n",
       "dtype: int64"
      ]
     },
     "execution_count": 4,
     "metadata": {},
     "output_type": "execute_result"
    }
   ],
   "source": [
    "df.isnull().sum()"
   ]
  },
  {
   "cell_type": "code",
   "execution_count": 5,
   "id": "09e0f88a",
   "metadata": {},
   "outputs": [],
   "source": [
    "df = df.dropna()"
   ]
  },
  {
   "cell_type": "code",
   "execution_count": 6,
   "id": "ad478a7d",
   "metadata": {},
   "outputs": [
    {
     "data": {
      "text/plain": [
       "Headline              0\n",
       "Article               0\n",
       "Category              0\n",
       "ARTS & CULTURE        0\n",
       "BUSINESS & FINANCE    0\n",
       "COLLEGE               0\n",
       "COMEDY                0\n",
       "CRIME                 0\n",
       "CURRENT AFFAIRS       0\n",
       "EDUCATION             0\n",
       "ENTERTAINMENT         0\n",
       "ENVIRONMENT           0\n",
       "FOOD & BEVERAGES      0\n",
       "HEALTH & FITNESS      0\n",
       "HEALTHY LIVING        0\n",
       "LIFESTYLE             0\n",
       "MEDIA                 0\n",
       "POLITICS              0\n",
       "RELIGION              0\n",
       "SCIENCE               0\n",
       "SPORTS                0\n",
       "STYLE & BEAUTY        0\n",
       "TECHNOLOGY            0\n",
       "TOURISM               0\n",
       "WEDDINGS              0\n",
       "WELLNESS              0\n",
       "WOMEN                 0\n",
       "dtype: int64"
      ]
     },
     "execution_count": 6,
     "metadata": {},
     "output_type": "execute_result"
    }
   ],
   "source": [
    "df.isnull().sum()"
   ]
  },
  {
   "cell_type": "markdown",
   "id": "f0fdcede",
   "metadata": {},
   "source": [
    "# Clean text using lemmatization, Regrex"
   ]
  },
  {
   "cell_type": "code",
   "execution_count": 7,
   "id": "91cf30c3",
   "metadata": {},
   "outputs": [],
   "source": [
    "stop_words_ = set(stopwords.words('english'))\n",
    "wn = WordNetLemmatizer()\n",
    "\n",
    "my_sw = ['make', 'amp',  'news','new' ,'time', 'u','s', 'photos',  'get', 'say']\n",
    "def black_txt(token):\n",
    "    return  token not in stop_words_ and token not in list(string.punctuation)  and len(token)>2 and token not in my_sw  \n",
    "  \n",
    "def clean_txt(text):\n",
    "    clean_text = []\n",
    "    clean_text2 = []\n",
    "    text = re.sub(\"'\", \"\",text)\n",
    "    text = re.sub(\"(\\d|\\W)+\",\" \",text)    \n",
    "    clean_text = [ wn.lemmatize(word, pos=\"v\") for word in word_tokenize(text.lower()) if black_txt(word)]\n",
    "    clean_text2 = [word for word in clean_text if black_txt(word)]\n",
    "    return \" \".join(clean_text2)"
   ]
  },
  {
   "cell_type": "code",
   "execution_count": 8,
   "id": "ce14ce19",
   "metadata": {},
   "outputs": [],
   "source": [
    "df['text'] = df['Headline'] + \" \" + df['Article']"
   ]
  },
  {
   "cell_type": "code",
   "execution_count": 9,
   "id": "09f66106",
   "metadata": {},
   "outputs": [
    {
     "data": {
      "text/html": [
       "<div>\n",
       "<style scoped>\n",
       "    .dataframe tbody tr th:only-of-type {\n",
       "        vertical-align: middle;\n",
       "    }\n",
       "\n",
       "    .dataframe tbody tr th {\n",
       "        vertical-align: top;\n",
       "    }\n",
       "\n",
       "    .dataframe thead th {\n",
       "        text-align: right;\n",
       "    }\n",
       "</style>\n",
       "<table border=\"1\" class=\"dataframe\">\n",
       "  <thead>\n",
       "    <tr style=\"text-align: right;\">\n",
       "      <th></th>\n",
       "      <th>Headline</th>\n",
       "      <th>Article</th>\n",
       "      <th>Category</th>\n",
       "      <th>ARTS &amp; CULTURE</th>\n",
       "      <th>BUSINESS &amp; FINANCE</th>\n",
       "      <th>COLLEGE</th>\n",
       "      <th>COMEDY</th>\n",
       "      <th>CRIME</th>\n",
       "      <th>CURRENT AFFAIRS</th>\n",
       "      <th>EDUCATION</th>\n",
       "      <th>...</th>\n",
       "      <th>RELIGION</th>\n",
       "      <th>SCIENCE</th>\n",
       "      <th>SPORTS</th>\n",
       "      <th>STYLE &amp; BEAUTY</th>\n",
       "      <th>TECHNOLOGY</th>\n",
       "      <th>TOURISM</th>\n",
       "      <th>WEDDINGS</th>\n",
       "      <th>WELLNESS</th>\n",
       "      <th>WOMEN</th>\n",
       "      <th>text</th>\n",
       "    </tr>\n",
       "  </thead>\n",
       "  <tbody>\n",
       "    <tr>\n",
       "      <th>0</th>\n",
       "      <td>23 Of The Funniest Tweets About Cats And Dogs ...</td>\n",
       "      <td>\"Until you have a dog you don't understand wha...</td>\n",
       "      <td>{'ENTERTAINMENT', 'COMEDY'}</td>\n",
       "      <td>0</td>\n",
       "      <td>0</td>\n",
       "      <td>0</td>\n",
       "      <td>1</td>\n",
       "      <td>0</td>\n",
       "      <td>0</td>\n",
       "      <td>0</td>\n",
       "      <td>...</td>\n",
       "      <td>0</td>\n",
       "      <td>0</td>\n",
       "      <td>0</td>\n",
       "      <td>0</td>\n",
       "      <td>0</td>\n",
       "      <td>0</td>\n",
       "      <td>0</td>\n",
       "      <td>0</td>\n",
       "      <td>0</td>\n",
       "      <td>23 Of The Funniest Tweets About Cats And Dogs ...</td>\n",
       "    </tr>\n",
       "    <tr>\n",
       "      <th>1</th>\n",
       "      <td>Puerto Ricans Desperate For Water After Hurric...</td>\n",
       "      <td>More than half a million people remained witho...</td>\n",
       "      <td>{'CURRENT AFFAIRS'}</td>\n",
       "      <td>0</td>\n",
       "      <td>0</td>\n",
       "      <td>0</td>\n",
       "      <td>0</td>\n",
       "      <td>0</td>\n",
       "      <td>1</td>\n",
       "      <td>0</td>\n",
       "      <td>...</td>\n",
       "      <td>0</td>\n",
       "      <td>0</td>\n",
       "      <td>0</td>\n",
       "      <td>0</td>\n",
       "      <td>0</td>\n",
       "      <td>0</td>\n",
       "      <td>0</td>\n",
       "      <td>0</td>\n",
       "      <td>0</td>\n",
       "      <td>Puerto Ricans Desperate For Water After Hurric...</td>\n",
       "    </tr>\n",
       "    <tr>\n",
       "      <th>2</th>\n",
       "      <td>How A New Documentary Captures The Complexity ...</td>\n",
       "      <td>In \"Mija,\" director Isabel Castro combined mus...</td>\n",
       "      <td>{'ARTS &amp; CULTURE'}</td>\n",
       "      <td>1</td>\n",
       "      <td>0</td>\n",
       "      <td>0</td>\n",
       "      <td>0</td>\n",
       "      <td>0</td>\n",
       "      <td>0</td>\n",
       "      <td>0</td>\n",
       "      <td>...</td>\n",
       "      <td>0</td>\n",
       "      <td>0</td>\n",
       "      <td>0</td>\n",
       "      <td>0</td>\n",
       "      <td>0</td>\n",
       "      <td>0</td>\n",
       "      <td>0</td>\n",
       "      <td>0</td>\n",
       "      <td>0</td>\n",
       "      <td>How A New Documentary Captures The Complexity ...</td>\n",
       "    </tr>\n",
       "    <tr>\n",
       "      <th>3</th>\n",
       "      <td>Biden At UN To Call Russian War An Affront To ...</td>\n",
       "      <td>White House officials say the crux of the pres...</td>\n",
       "      <td>{'CURRENT AFFAIRS'}</td>\n",
       "      <td>0</td>\n",
       "      <td>0</td>\n",
       "      <td>0</td>\n",
       "      <td>0</td>\n",
       "      <td>0</td>\n",
       "      <td>1</td>\n",
       "      <td>0</td>\n",
       "      <td>...</td>\n",
       "      <td>0</td>\n",
       "      <td>0</td>\n",
       "      <td>0</td>\n",
       "      <td>0</td>\n",
       "      <td>0</td>\n",
       "      <td>0</td>\n",
       "      <td>0</td>\n",
       "      <td>0</td>\n",
       "      <td>0</td>\n",
       "      <td>Biden At UN To Call Russian War An Affront To ...</td>\n",
       "    </tr>\n",
       "    <tr>\n",
       "      <th>4</th>\n",
       "      <td>World Cup Captains Want To Wear Rainbow Armban...</td>\n",
       "      <td>FIFA has come under pressure from several Euro...</td>\n",
       "      <td>{'CURRENT AFFAIRS'}</td>\n",
       "      <td>0</td>\n",
       "      <td>0</td>\n",
       "      <td>0</td>\n",
       "      <td>0</td>\n",
       "      <td>0</td>\n",
       "      <td>1</td>\n",
       "      <td>0</td>\n",
       "      <td>...</td>\n",
       "      <td>0</td>\n",
       "      <td>0</td>\n",
       "      <td>0</td>\n",
       "      <td>0</td>\n",
       "      <td>0</td>\n",
       "      <td>0</td>\n",
       "      <td>0</td>\n",
       "      <td>0</td>\n",
       "      <td>0</td>\n",
       "      <td>World Cup Captains Want To Wear Rainbow Armban...</td>\n",
       "    </tr>\n",
       "  </tbody>\n",
       "</table>\n",
       "<p>5 rows × 28 columns</p>\n",
       "</div>"
      ],
      "text/plain": [
       "                                            Headline  \\\n",
       "0  23 Of The Funniest Tweets About Cats And Dogs ...   \n",
       "1  Puerto Ricans Desperate For Water After Hurric...   \n",
       "2  How A New Documentary Captures The Complexity ...   \n",
       "3  Biden At UN To Call Russian War An Affront To ...   \n",
       "4  World Cup Captains Want To Wear Rainbow Armban...   \n",
       "\n",
       "                                             Article  \\\n",
       "0  \"Until you have a dog you don't understand wha...   \n",
       "1  More than half a million people remained witho...   \n",
       "2  In \"Mija,\" director Isabel Castro combined mus...   \n",
       "3  White House officials say the crux of the pres...   \n",
       "4  FIFA has come under pressure from several Euro...   \n",
       "\n",
       "                      Category  ARTS & CULTURE  BUSINESS & FINANCE  COLLEGE  \\\n",
       "0  {'ENTERTAINMENT', 'COMEDY'}               0                   0        0   \n",
       "1          {'CURRENT AFFAIRS'}               0                   0        0   \n",
       "2           {'ARTS & CULTURE'}               1                   0        0   \n",
       "3          {'CURRENT AFFAIRS'}               0                   0        0   \n",
       "4          {'CURRENT AFFAIRS'}               0                   0        0   \n",
       "\n",
       "   COMEDY  CRIME  CURRENT AFFAIRS  EDUCATION  ...  RELIGION  SCIENCE  SPORTS  \\\n",
       "0       1      0                0          0  ...         0        0       0   \n",
       "1       0      0                1          0  ...         0        0       0   \n",
       "2       0      0                0          0  ...         0        0       0   \n",
       "3       0      0                1          0  ...         0        0       0   \n",
       "4       0      0                1          0  ...         0        0       0   \n",
       "\n",
       "   STYLE & BEAUTY  TECHNOLOGY  TOURISM  WEDDINGS  WELLNESS  WOMEN  \\\n",
       "0               0           0        0         0         0      0   \n",
       "1               0           0        0         0         0      0   \n",
       "2               0           0        0         0         0      0   \n",
       "3               0           0        0         0         0      0   \n",
       "4               0           0        0         0         0      0   \n",
       "\n",
       "                                                text  \n",
       "0  23 Of The Funniest Tweets About Cats And Dogs ...  \n",
       "1  Puerto Ricans Desperate For Water After Hurric...  \n",
       "2  How A New Documentary Captures The Complexity ...  \n",
       "3  Biden At UN To Call Russian War An Affront To ...  \n",
       "4  World Cup Captains Want To Wear Rainbow Armban...  \n",
       "\n",
       "[5 rows x 28 columns]"
      ]
     },
     "execution_count": 9,
     "metadata": {},
     "output_type": "execute_result"
    }
   ],
   "source": [
    "df.head()"
   ]
  },
  {
   "cell_type": "code",
   "execution_count": 10,
   "id": "dc9b9e65",
   "metadata": {},
   "outputs": [],
   "source": [
    "df['text'] = df['text'].apply(clean_txt)"
   ]
  },
  {
   "cell_type": "code",
   "execution_count": 11,
   "id": "b25ff1bf",
   "metadata": {},
   "outputs": [
    {
     "data": {
      "text/html": [
       "<div>\n",
       "<style scoped>\n",
       "    .dataframe tbody tr th:only-of-type {\n",
       "        vertical-align: middle;\n",
       "    }\n",
       "\n",
       "    .dataframe tbody tr th {\n",
       "        vertical-align: top;\n",
       "    }\n",
       "\n",
       "    .dataframe thead th {\n",
       "        text-align: right;\n",
       "    }\n",
       "</style>\n",
       "<table border=\"1\" class=\"dataframe\">\n",
       "  <thead>\n",
       "    <tr style=\"text-align: right;\">\n",
       "      <th></th>\n",
       "      <th>Headline</th>\n",
       "      <th>Article</th>\n",
       "      <th>Category</th>\n",
       "      <th>ARTS &amp; CULTURE</th>\n",
       "      <th>BUSINESS &amp; FINANCE</th>\n",
       "      <th>COLLEGE</th>\n",
       "      <th>COMEDY</th>\n",
       "      <th>CRIME</th>\n",
       "      <th>CURRENT AFFAIRS</th>\n",
       "      <th>EDUCATION</th>\n",
       "      <th>...</th>\n",
       "      <th>RELIGION</th>\n",
       "      <th>SCIENCE</th>\n",
       "      <th>SPORTS</th>\n",
       "      <th>STYLE &amp; BEAUTY</th>\n",
       "      <th>TECHNOLOGY</th>\n",
       "      <th>TOURISM</th>\n",
       "      <th>WEDDINGS</th>\n",
       "      <th>WELLNESS</th>\n",
       "      <th>WOMEN</th>\n",
       "      <th>text</th>\n",
       "    </tr>\n",
       "  </thead>\n",
       "  <tbody>\n",
       "    <tr>\n",
       "      <th>0</th>\n",
       "      <td>23 Of The Funniest Tweets About Cats And Dogs ...</td>\n",
       "      <td>\"Until you have a dog you don't understand wha...</td>\n",
       "      <td>{'ENTERTAINMENT', 'COMEDY'}</td>\n",
       "      <td>0</td>\n",
       "      <td>0</td>\n",
       "      <td>0</td>\n",
       "      <td>1</td>\n",
       "      <td>0</td>\n",
       "      <td>0</td>\n",
       "      <td>0</td>\n",
       "      <td>...</td>\n",
       "      <td>0</td>\n",
       "      <td>0</td>\n",
       "      <td>0</td>\n",
       "      <td>0</td>\n",
       "      <td>0</td>\n",
       "      <td>0</td>\n",
       "      <td>0</td>\n",
       "      <td>0</td>\n",
       "      <td>0</td>\n",
       "      <td>funniest tweet cat dog week sept dog dont unde...</td>\n",
       "    </tr>\n",
       "    <tr>\n",
       "      <th>1</th>\n",
       "      <td>Puerto Ricans Desperate For Water After Hurric...</td>\n",
       "      <td>More than half a million people remained witho...</td>\n",
       "      <td>{'CURRENT AFFAIRS'}</td>\n",
       "      <td>0</td>\n",
       "      <td>0</td>\n",
       "      <td>0</td>\n",
       "      <td>0</td>\n",
       "      <td>0</td>\n",
       "      <td>1</td>\n",
       "      <td>0</td>\n",
       "      <td>...</td>\n",
       "      <td>0</td>\n",
       "      <td>0</td>\n",
       "      <td>0</td>\n",
       "      <td>0</td>\n",
       "      <td>0</td>\n",
       "      <td>0</td>\n",
       "      <td>0</td>\n",
       "      <td>0</td>\n",
       "      <td>0</td>\n",
       "      <td>puerto ricans desperate water hurricane fiona ...</td>\n",
       "    </tr>\n",
       "    <tr>\n",
       "      <th>2</th>\n",
       "      <td>How A New Documentary Captures The Complexity ...</td>\n",
       "      <td>In \"Mija,\" director Isabel Castro combined mus...</td>\n",
       "      <td>{'ARTS &amp; CULTURE'}</td>\n",
       "      <td>1</td>\n",
       "      <td>0</td>\n",
       "      <td>0</td>\n",
       "      <td>0</td>\n",
       "      <td>0</td>\n",
       "      <td>0</td>\n",
       "      <td>0</td>\n",
       "      <td>...</td>\n",
       "      <td>0</td>\n",
       "      <td>0</td>\n",
       "      <td>0</td>\n",
       "      <td>0</td>\n",
       "      <td>0</td>\n",
       "      <td>0</td>\n",
       "      <td>0</td>\n",
       "      <td>0</td>\n",
       "      <td>0</td>\n",
       "      <td>documentary capture complexity child immigrant...</td>\n",
       "    </tr>\n",
       "    <tr>\n",
       "      <th>3</th>\n",
       "      <td>Biden At UN To Call Russian War An Affront To ...</td>\n",
       "      <td>White House officials say the crux of the pres...</td>\n",
       "      <td>{'CURRENT AFFAIRS'}</td>\n",
       "      <td>0</td>\n",
       "      <td>0</td>\n",
       "      <td>0</td>\n",
       "      <td>0</td>\n",
       "      <td>0</td>\n",
       "      <td>1</td>\n",
       "      <td>0</td>\n",
       "      <td>...</td>\n",
       "      <td>0</td>\n",
       "      <td>0</td>\n",
       "      <td>0</td>\n",
       "      <td>0</td>\n",
       "      <td>0</td>\n",
       "      <td>0</td>\n",
       "      <td>0</td>\n",
       "      <td>0</td>\n",
       "      <td>0</td>\n",
       "      <td>biden call russian war affront body charter wh...</td>\n",
       "    </tr>\n",
       "    <tr>\n",
       "      <th>4</th>\n",
       "      <td>World Cup Captains Want To Wear Rainbow Armban...</td>\n",
       "      <td>FIFA has come under pressure from several Euro...</td>\n",
       "      <td>{'CURRENT AFFAIRS'}</td>\n",
       "      <td>0</td>\n",
       "      <td>0</td>\n",
       "      <td>0</td>\n",
       "      <td>0</td>\n",
       "      <td>0</td>\n",
       "      <td>1</td>\n",
       "      <td>0</td>\n",
       "      <td>...</td>\n",
       "      <td>0</td>\n",
       "      <td>0</td>\n",
       "      <td>0</td>\n",
       "      <td>0</td>\n",
       "      <td>0</td>\n",
       "      <td>0</td>\n",
       "      <td>0</td>\n",
       "      <td>0</td>\n",
       "      <td>0</td>\n",
       "      <td>world cup captain want wear rainbow armbands q...</td>\n",
       "    </tr>\n",
       "  </tbody>\n",
       "</table>\n",
       "<p>5 rows × 28 columns</p>\n",
       "</div>"
      ],
      "text/plain": [
       "                                            Headline  \\\n",
       "0  23 Of The Funniest Tweets About Cats And Dogs ...   \n",
       "1  Puerto Ricans Desperate For Water After Hurric...   \n",
       "2  How A New Documentary Captures The Complexity ...   \n",
       "3  Biden At UN To Call Russian War An Affront To ...   \n",
       "4  World Cup Captains Want To Wear Rainbow Armban...   \n",
       "\n",
       "                                             Article  \\\n",
       "0  \"Until you have a dog you don't understand wha...   \n",
       "1  More than half a million people remained witho...   \n",
       "2  In \"Mija,\" director Isabel Castro combined mus...   \n",
       "3  White House officials say the crux of the pres...   \n",
       "4  FIFA has come under pressure from several Euro...   \n",
       "\n",
       "                      Category  ARTS & CULTURE  BUSINESS & FINANCE  COLLEGE  \\\n",
       "0  {'ENTERTAINMENT', 'COMEDY'}               0                   0        0   \n",
       "1          {'CURRENT AFFAIRS'}               0                   0        0   \n",
       "2           {'ARTS & CULTURE'}               1                   0        0   \n",
       "3          {'CURRENT AFFAIRS'}               0                   0        0   \n",
       "4          {'CURRENT AFFAIRS'}               0                   0        0   \n",
       "\n",
       "   COMEDY  CRIME  CURRENT AFFAIRS  EDUCATION  ...  RELIGION  SCIENCE  SPORTS  \\\n",
       "0       1      0                0          0  ...         0        0       0   \n",
       "1       0      0                1          0  ...         0        0       0   \n",
       "2       0      0                0          0  ...         0        0       0   \n",
       "3       0      0                1          0  ...         0        0       0   \n",
       "4       0      0                1          0  ...         0        0       0   \n",
       "\n",
       "   STYLE & BEAUTY  TECHNOLOGY  TOURISM  WEDDINGS  WELLNESS  WOMEN  \\\n",
       "0               0           0        0         0         0      0   \n",
       "1               0           0        0         0         0      0   \n",
       "2               0           0        0         0         0      0   \n",
       "3               0           0        0         0         0      0   \n",
       "4               0           0        0         0         0      0   \n",
       "\n",
       "                                                text  \n",
       "0  funniest tweet cat dog week sept dog dont unde...  \n",
       "1  puerto ricans desperate water hurricane fiona ...  \n",
       "2  documentary capture complexity child immigrant...  \n",
       "3  biden call russian war affront body charter wh...  \n",
       "4  world cup captain want wear rainbow armbands q...  \n",
       "\n",
       "[5 rows x 28 columns]"
      ]
     },
     "execution_count": 11,
     "metadata": {},
     "output_type": "execute_result"
    }
   ],
   "source": [
    "df.head()"
   ]
  },
  {
   "cell_type": "code",
   "execution_count": 12,
   "id": "c7f98808",
   "metadata": {},
   "outputs": [],
   "source": [
    "dfk = df"
   ]
  },
  {
   "cell_type": "code",
   "execution_count": 13,
   "id": "13400cf5",
   "metadata": {},
   "outputs": [
    {
     "data": {
      "text/plain": [
       "(160915, 28)"
      ]
     },
     "execution_count": 13,
     "metadata": {},
     "output_type": "execute_result"
    }
   ],
   "source": [
    "dfk.shape"
   ]
  },
  {
   "cell_type": "code",
   "execution_count": 14,
   "id": "c534d612",
   "metadata": {},
   "outputs": [],
   "source": [
    "df = dfk[:140000]"
   ]
  },
  {
   "cell_type": "code",
   "execution_count": 15,
   "id": "9ad4d252",
   "metadata": {},
   "outputs": [
    {
     "data": {
      "text/plain": [
       "(140000, 28)"
      ]
     },
     "execution_count": 15,
     "metadata": {},
     "output_type": "execute_result"
    }
   ],
   "source": [
    "df.shape"
   ]
  },
  {
   "cell_type": "markdown",
   "id": "8383fed9",
   "metadata": {},
   "source": [
    "# Spliting dataset into Training and Validation data"
   ]
  },
  {
   "cell_type": "code",
   "execution_count": 16,
   "id": "20480639",
   "metadata": {},
   "outputs": [],
   "source": [
    "train, test = train_test_split(df, random_state=42, test_size=0.30, shuffle=True)\n",
    "train_text = train['text'].values.astype('U')\n",
    "test_text = test['text'].values.astype('U')"
   ]
  },
  {
   "cell_type": "code",
   "execution_count": 17,
   "id": "cc44ff6a",
   "metadata": {},
   "outputs": [
    {
     "data": {
      "text/plain": [
       "(98000,)"
      ]
     },
     "execution_count": 17,
     "metadata": {},
     "output_type": "execute_result"
    }
   ],
   "source": [
    "train_text.shape"
   ]
  },
  {
   "cell_type": "code",
   "execution_count": 18,
   "id": "c57cce6c",
   "metadata": {},
   "outputs": [],
   "source": [
    "y_train = train.drop(['text','Article','Headline','Category'],axis=1)"
   ]
  },
  {
   "cell_type": "code",
   "execution_count": 19,
   "id": "0f18a772",
   "metadata": {},
   "outputs": [
    {
     "data": {
      "text/plain": [
       "(98000, 24)"
      ]
     },
     "execution_count": 19,
     "metadata": {},
     "output_type": "execute_result"
    }
   ],
   "source": [
    "y_train.shape"
   ]
  },
  {
   "cell_type": "code",
   "execution_count": 20,
   "id": "fb0d3582",
   "metadata": {},
   "outputs": [
    {
     "data": {
      "text/plain": [
       "(98000, 24)"
      ]
     },
     "execution_count": 20,
     "metadata": {},
     "output_type": "execute_result"
    }
   ],
   "source": [
    "y_train.shape"
   ]
  },
  {
   "cell_type": "code",
   "execution_count": 21,
   "id": "a8b98c96",
   "metadata": {},
   "outputs": [],
   "source": [
    "y_test = test.drop(['text','Article','Headline','Category'],axis=1)"
   ]
  },
  {
   "cell_type": "code",
   "execution_count": 22,
   "id": "9f895f06",
   "metadata": {},
   "outputs": [
    {
     "data": {
      "text/plain": [
       "(42000, 24)"
      ]
     },
     "execution_count": 22,
     "metadata": {},
     "output_type": "execute_result"
    }
   ],
   "source": [
    "y_test.shape"
   ]
  },
  {
   "cell_type": "code",
   "execution_count": 23,
   "id": "957707ff",
   "metadata": {},
   "outputs": [
    {
     "data": {
      "text/html": [
       "<div>\n",
       "<style scoped>\n",
       "    .dataframe tbody tr th:only-of-type {\n",
       "        vertical-align: middle;\n",
       "    }\n",
       "\n",
       "    .dataframe tbody tr th {\n",
       "        vertical-align: top;\n",
       "    }\n",
       "\n",
       "    .dataframe thead th {\n",
       "        text-align: right;\n",
       "    }\n",
       "</style>\n",
       "<table border=\"1\" class=\"dataframe\">\n",
       "  <thead>\n",
       "    <tr style=\"text-align: right;\">\n",
       "      <th></th>\n",
       "      <th>ARTS &amp; CULTURE</th>\n",
       "      <th>BUSINESS &amp; FINANCE</th>\n",
       "      <th>COLLEGE</th>\n",
       "      <th>COMEDY</th>\n",
       "      <th>CRIME</th>\n",
       "      <th>CURRENT AFFAIRS</th>\n",
       "      <th>EDUCATION</th>\n",
       "      <th>ENTERTAINMENT</th>\n",
       "      <th>ENVIRONMENT</th>\n",
       "      <th>FOOD &amp; BEVERAGES</th>\n",
       "      <th>...</th>\n",
       "      <th>POLITICS</th>\n",
       "      <th>RELIGION</th>\n",
       "      <th>SCIENCE</th>\n",
       "      <th>SPORTS</th>\n",
       "      <th>STYLE &amp; BEAUTY</th>\n",
       "      <th>TECHNOLOGY</th>\n",
       "      <th>TOURISM</th>\n",
       "      <th>WEDDINGS</th>\n",
       "      <th>WELLNESS</th>\n",
       "      <th>WOMEN</th>\n",
       "    </tr>\n",
       "  </thead>\n",
       "  <tbody>\n",
       "    <tr>\n",
       "      <th>41488</th>\n",
       "      <td>0</td>\n",
       "      <td>1</td>\n",
       "      <td>0</td>\n",
       "      <td>0</td>\n",
       "      <td>0</td>\n",
       "      <td>0</td>\n",
       "      <td>0</td>\n",
       "      <td>0</td>\n",
       "      <td>0</td>\n",
       "      <td>0</td>\n",
       "      <td>...</td>\n",
       "      <td>0</td>\n",
       "      <td>0</td>\n",
       "      <td>0</td>\n",
       "      <td>0</td>\n",
       "      <td>0</td>\n",
       "      <td>0</td>\n",
       "      <td>0</td>\n",
       "      <td>0</td>\n",
       "      <td>0</td>\n",
       "      <td>0</td>\n",
       "    </tr>\n",
       "    <tr>\n",
       "      <th>56699</th>\n",
       "      <td>0</td>\n",
       "      <td>0</td>\n",
       "      <td>1</td>\n",
       "      <td>0</td>\n",
       "      <td>0</td>\n",
       "      <td>0</td>\n",
       "      <td>1</td>\n",
       "      <td>0</td>\n",
       "      <td>0</td>\n",
       "      <td>0</td>\n",
       "      <td>...</td>\n",
       "      <td>0</td>\n",
       "      <td>0</td>\n",
       "      <td>0</td>\n",
       "      <td>0</td>\n",
       "      <td>0</td>\n",
       "      <td>0</td>\n",
       "      <td>0</td>\n",
       "      <td>0</td>\n",
       "      <td>0</td>\n",
       "      <td>0</td>\n",
       "    </tr>\n",
       "    <tr>\n",
       "      <th>148318</th>\n",
       "      <td>0</td>\n",
       "      <td>1</td>\n",
       "      <td>0</td>\n",
       "      <td>0</td>\n",
       "      <td>0</td>\n",
       "      <td>0</td>\n",
       "      <td>0</td>\n",
       "      <td>0</td>\n",
       "      <td>0</td>\n",
       "      <td>0</td>\n",
       "      <td>...</td>\n",
       "      <td>0</td>\n",
       "      <td>0</td>\n",
       "      <td>0</td>\n",
       "      <td>0</td>\n",
       "      <td>0</td>\n",
       "      <td>0</td>\n",
       "      <td>0</td>\n",
       "      <td>0</td>\n",
       "      <td>0</td>\n",
       "      <td>0</td>\n",
       "    </tr>\n",
       "    <tr>\n",
       "      <th>139994</th>\n",
       "      <td>0</td>\n",
       "      <td>1</td>\n",
       "      <td>0</td>\n",
       "      <td>0</td>\n",
       "      <td>0</td>\n",
       "      <td>0</td>\n",
       "      <td>0</td>\n",
       "      <td>0</td>\n",
       "      <td>0</td>\n",
       "      <td>0</td>\n",
       "      <td>...</td>\n",
       "      <td>0</td>\n",
       "      <td>0</td>\n",
       "      <td>0</td>\n",
       "      <td>0</td>\n",
       "      <td>0</td>\n",
       "      <td>0</td>\n",
       "      <td>0</td>\n",
       "      <td>0</td>\n",
       "      <td>0</td>\n",
       "      <td>0</td>\n",
       "    </tr>\n",
       "    <tr>\n",
       "      <th>59962</th>\n",
       "      <td>0</td>\n",
       "      <td>0</td>\n",
       "      <td>0</td>\n",
       "      <td>0</td>\n",
       "      <td>0</td>\n",
       "      <td>0</td>\n",
       "      <td>0</td>\n",
       "      <td>1</td>\n",
       "      <td>0</td>\n",
       "      <td>0</td>\n",
       "      <td>...</td>\n",
       "      <td>0</td>\n",
       "      <td>0</td>\n",
       "      <td>0</td>\n",
       "      <td>0</td>\n",
       "      <td>0</td>\n",
       "      <td>0</td>\n",
       "      <td>0</td>\n",
       "      <td>0</td>\n",
       "      <td>0</td>\n",
       "      <td>0</td>\n",
       "    </tr>\n",
       "  </tbody>\n",
       "</table>\n",
       "<p>5 rows × 24 columns</p>\n",
       "</div>"
      ],
      "text/plain": [
       "        ARTS & CULTURE  BUSINESS & FINANCE  COLLEGE  COMEDY  CRIME  \\\n",
       "41488                0                   1        0       0      0   \n",
       "56699                0                   0        1       0      0   \n",
       "148318               0                   1        0       0      0   \n",
       "139994               0                   1        0       0      0   \n",
       "59962                0                   0        0       0      0   \n",
       "\n",
       "        CURRENT AFFAIRS  EDUCATION  ENTERTAINMENT  ENVIRONMENT  \\\n",
       "41488                 0          0              0            0   \n",
       "56699                 0          1              0            0   \n",
       "148318                0          0              0            0   \n",
       "139994                0          0              0            0   \n",
       "59962                 0          0              1            0   \n",
       "\n",
       "        FOOD & BEVERAGES  ...  POLITICS  RELIGION  SCIENCE  SPORTS  \\\n",
       "41488                  0  ...         0         0        0       0   \n",
       "56699                  0  ...         0         0        0       0   \n",
       "148318                 0  ...         0         0        0       0   \n",
       "139994                 0  ...         0         0        0       0   \n",
       "59962                  0  ...         0         0        0       0   \n",
       "\n",
       "        STYLE & BEAUTY  TECHNOLOGY  TOURISM  WEDDINGS  WELLNESS  WOMEN  \n",
       "41488                0           0        0         0         0      0  \n",
       "56699                0           0        0         0         0      0  \n",
       "148318               0           0        0         0         0      0  \n",
       "139994               0           0        0         0         0      0  \n",
       "59962                0           0        0         0         0      0  \n",
       "\n",
       "[5 rows x 24 columns]"
      ]
     },
     "execution_count": 23,
     "metadata": {},
     "output_type": "execute_result"
    }
   ],
   "source": [
    "y_test.head()"
   ]
  },
  {
   "cell_type": "markdown",
   "id": "1266a4c7",
   "metadata": {},
   "source": [
    "# LabelPowerset,countvector, logistic Regression"
   ]
  },
  {
   "cell_type": "code",
   "execution_count": 24,
   "id": "b8ed4687",
   "metadata": {},
   "outputs": [],
   "source": [
    "clf = Pipeline([\n",
    "    ('cv', CountVectorizer(ngram_range=(1,3),max_features=5000)),\n",
    "                ('clf',  LabelPowerset(LogisticRegression()))])"
   ]
  },
  {
   "cell_type": "code",
   "execution_count": 25,
   "id": "633b1738",
   "metadata": {},
   "outputs": [
    {
     "name": "stderr",
     "output_type": "stream",
     "text": [
      "c:\\users\\rahul kumar shah\\appdata\\local\\programs\\python\\python39\\lib\\site-packages\\sklearn\\linear_model\\_logistic.py:814: ConvergenceWarning: lbfgs failed to converge (status=1):\n",
      "STOP: TOTAL NO. of ITERATIONS REACHED LIMIT.\n",
      "\n",
      "Increase the number of iterations (max_iter) or scale the data as shown in:\n",
      "    https://scikit-learn.org/stable/modules/preprocessing.html\n",
      "Please also refer to the documentation for alternative solver options:\n",
      "    https://scikit-learn.org/stable/modules/linear_model.html#logistic-regression\n",
      "  n_iter_i = _check_optimize_result(\n"
     ]
    },
    {
     "data": {
      "text/plain": [
       "Pipeline(steps=[('cv', CountVectorizer(max_features=5000, ngram_range=(1, 3))),\n",
       "                ('clf',\n",
       "                 LabelPowerset(classifier=LogisticRegression(),\n",
       "                               require_dense=[True, True]))])"
      ]
     },
     "execution_count": 25,
     "metadata": {},
     "output_type": "execute_result"
    }
   ],
   "source": [
    "clf.fit(train_text,y_train)"
   ]
  },
  {
   "cell_type": "code",
   "execution_count": 26,
   "id": "bc1d2cf9",
   "metadata": {},
   "outputs": [],
   "source": [
    "clf_predictions = clf.predict(test_text)"
   ]
  },
  {
   "cell_type": "code",
   "execution_count": 24,
   "id": "5cc850b5",
   "metadata": {},
   "outputs": [],
   "source": [
    "from sklearn.metrics import hamming_loss\n",
    "from sklearn.metrics import f1_score\n",
    "from sklearn.metrics import classification_report"
   ]
  },
  {
   "cell_type": "code",
   "execution_count": 29,
   "id": "ad2ecb63",
   "metadata": {},
   "outputs": [
    {
     "name": "stdout",
     "output_type": "stream",
     "text": [
      "Accuracy =  0.7083571428571429\n",
      "F1 score =  0.7197752222112156\n",
      "Hamming loss =  0.030870039682539683\n"
     ]
    }
   ],
   "source": [
    "print(\"Accuracy = \",accuracy_score(y_test,clf_predictions))\n",
    "print(\"F1 score = \",f1_score(y_test,clf_predictions, average=\"micro\"))\n",
    "print(\"Hamming loss = \",hamming_loss(y_test,clf_predictions))"
   ]
  },
  {
   "cell_type": "code",
   "execution_count": 47,
   "id": "13c12271",
   "metadata": {},
   "outputs": [
    {
     "name": "stdout",
     "output_type": "stream",
     "text": [
      "              precision    recall  f1-score   support\n",
      "\n",
      "           0       0.49      0.40      0.44       731\n",
      "           1       0.87      0.89      0.88      7735\n",
      "           2       0.51      0.34      0.40       295\n",
      "           3       0.56      0.49      0.52      1416\n",
      "           4       0.66      0.65      0.65       839\n",
      "           5       0.70      0.69      0.70      1513\n",
      "           6       0.64      0.46      0.53       557\n",
      "           7       0.74      0.80      0.77      6840\n",
      "           8       0.56      0.39      0.46       452\n",
      "           9       0.71      0.75      0.73      1905\n",
      "          10       0.67      0.73      0.70      6595\n",
      "          11       0.31      0.24      0.27      1514\n",
      "          12       0.77      0.78      0.77      4848\n",
      "          13       0.58      0.52      0.55       720\n",
      "          14       0.98      0.97      0.98       403\n",
      "          15       0.56      0.46      0.51       557\n",
      "          16       0.71      0.64      0.67      2038\n",
      "          17       0.74      0.73      0.74      1829\n",
      "          18       0.79      0.78      0.78      2943\n",
      "          19       0.75      0.70      0.73      1443\n",
      "          20       0.72      0.75      0.73      2818\n",
      "          21       0.83      0.77      0.80      1093\n",
      "          22       0.65      0.73      0.69      5315\n",
      "          23       0.45      0.37      0.41       950\n",
      "\n",
      "   micro avg       0.72      0.72      0.72     55349\n",
      "   macro avg       0.66      0.63      0.64     55349\n",
      "weighted avg       0.71      0.72      0.72     55349\n",
      " samples avg       0.72      0.72      0.72     55349\n",
      "\n"
     ]
    }
   ],
   "source": [
    "print(classification_report(y_test, clf_predictions))"
   ]
  },
  {
   "cell_type": "markdown",
   "id": "3ff46f9d",
   "metadata": {},
   "source": [
    "# LabelPowerSet, Tfidfvector, Logistic Regression"
   ]
  },
  {
   "cell_type": "code",
   "execution_count": 48,
   "id": "b6b7b7ee",
   "metadata": {},
   "outputs": [],
   "source": [
    "clf2 = Pipeline([\n",
    "    ('tfidf',TfidfVectorizer(strip_accents='ascii', analyzer='word', ngram_range=(1,3), norm='l2', max_features = 5000)),\n",
    "                ('clf2',  LabelPowerset(LogisticRegression()))])"
   ]
  },
  {
   "cell_type": "code",
   "execution_count": 49,
   "id": "11e65c1b",
   "metadata": {},
   "outputs": [
    {
     "name": "stderr",
     "output_type": "stream",
     "text": [
      "c:\\users\\rahul kumar shah\\appdata\\local\\programs\\python\\python39\\lib\\site-packages\\sklearn\\linear_model\\_logistic.py:814: ConvergenceWarning: lbfgs failed to converge (status=1):\n",
      "STOP: TOTAL NO. of ITERATIONS REACHED LIMIT.\n",
      "\n",
      "Increase the number of iterations (max_iter) or scale the data as shown in:\n",
      "    https://scikit-learn.org/stable/modules/preprocessing.html\n",
      "Please also refer to the documentation for alternative solver options:\n",
      "    https://scikit-learn.org/stable/modules/linear_model.html#logistic-regression\n",
      "  n_iter_i = _check_optimize_result(\n"
     ]
    },
    {
     "data": {
      "text/plain": [
       "Pipeline(steps=[('tfidf',\n",
       "                 TfidfVectorizer(max_features=5000, ngram_range=(1, 3),\n",
       "                                 strip_accents='ascii')),\n",
       "                ('clf2',\n",
       "                 LabelPowerset(classifier=LogisticRegression(),\n",
       "                               require_dense=[True, True]))])"
      ]
     },
     "execution_count": 49,
     "metadata": {},
     "output_type": "execute_result"
    }
   ],
   "source": [
    "clf2.fit(train_text,y_train)"
   ]
  },
  {
   "cell_type": "code",
   "execution_count": 50,
   "id": "29000391",
   "metadata": {},
   "outputs": [],
   "source": [
    "clf_predictions2 = clf2.predict(test_text)"
   ]
  },
  {
   "cell_type": "code",
   "execution_count": 51,
   "id": "b49f7b7a",
   "metadata": {},
   "outputs": [
    {
     "name": "stdout",
     "output_type": "stream",
     "text": [
      "Accuracy =  0.7208095238095238\n",
      "F1 score =  0.7312736004856232\n",
      "Hamming loss =  0.0298640873015873\n"
     ]
    }
   ],
   "source": [
    "print(\"Accuracy = \",accuracy_score(y_test,clf_predictions2))\n",
    "print(\"F1 score = \",f1_score(y_test,clf_predictions2, average=\"micro\"))\n",
    "print(\"Hamming loss = \",hamming_loss(y_test,clf_predictions2))"
   ]
  },
  {
   "cell_type": "code",
   "execution_count": 52,
   "id": "40be4d60",
   "metadata": {},
   "outputs": [
    {
     "name": "stdout",
     "output_type": "stream",
     "text": [
      "              precision    recall  f1-score   support\n",
      "\n",
      "           0       0.60      0.36      0.45       731\n",
      "           1       0.85      0.90      0.87      7735\n",
      "           2       0.60      0.31      0.41       295\n",
      "           3       0.64      0.50      0.56      1416\n",
      "           4       0.69      0.65      0.67       839\n",
      "           5       0.72      0.69      0.70      1513\n",
      "           6       0.70      0.41      0.51       557\n",
      "           7       0.74      0.81      0.77      6840\n",
      "           8       0.62      0.30      0.41       452\n",
      "           9       0.74      0.77      0.75      1905\n",
      "          10       0.64      0.81      0.71      6595\n",
      "          11       0.44      0.16      0.23      1514\n",
      "          12       0.78      0.79      0.79      4848\n",
      "          13       0.69      0.49      0.57       720\n",
      "          14       0.96      0.88      0.92       403\n",
      "          15       0.72      0.45      0.55       557\n",
      "          16       0.77      0.56      0.65      2038\n",
      "          17       0.79      0.75      0.77      1829\n",
      "          18       0.79      0.80      0.79      2943\n",
      "          19       0.77      0.65      0.71      1443\n",
      "          20       0.71      0.78      0.75      2818\n",
      "          21       0.83      0.77      0.80      1093\n",
      "          22       0.60      0.83      0.70      5315\n",
      "          23       0.55      0.37      0.44       950\n",
      "\n",
      "   micro avg       0.72      0.74      0.73     55349\n",
      "   macro avg       0.71      0.62      0.65     55349\n",
      "weighted avg       0.72      0.74      0.72     55349\n",
      " samples avg       0.74      0.73      0.73     55349\n",
      "\n"
     ]
    }
   ],
   "source": [
    "print(classification_report(y_test, clf_predictions2))"
   ]
  },
  {
   "cell_type": "code",
   "execution_count": 25,
   "id": "3397a7e2",
   "metadata": {},
   "outputs": [],
   "source": [
    "from sklearn.naive_bayes import MultinomialNB\n",
    "from sklearn.svm import LinearSVC"
   ]
  },
  {
   "cell_type": "markdown",
   "id": "f5a58328",
   "metadata": {},
   "source": [
    "# LabelPowerset, countvector, Multinominal naive bayes"
   ]
  },
  {
   "cell_type": "code",
   "execution_count": 54,
   "id": "3160fff1",
   "metadata": {},
   "outputs": [],
   "source": [
    "clf3 = Pipeline([\n",
    "    ('cv', CountVectorizer(ngram_range=(1,3),max_features=5000)),\n",
    "                ('clf3',  LabelPowerset(MultinomialNB(fit_prior=True, class_prior=None)))])"
   ]
  },
  {
   "cell_type": "code",
   "execution_count": 55,
   "id": "2c9d920b",
   "metadata": {},
   "outputs": [
    {
     "data": {
      "text/plain": [
       "Pipeline(steps=[('cv', CountVectorizer(max_features=5000, ngram_range=(1, 3))),\n",
       "                ('clf',\n",
       "                 LabelPowerset(classifier=MultinomialNB(),\n",
       "                               require_dense=[True, True]))])"
      ]
     },
     "execution_count": 55,
     "metadata": {},
     "output_type": "execute_result"
    }
   ],
   "source": [
    "clf3.fit(train_text,y_train)"
   ]
  },
  {
   "cell_type": "code",
   "execution_count": 56,
   "id": "85cf2fb1",
   "metadata": {},
   "outputs": [],
   "source": [
    "clf_predictions3 = clf3.predict(test_text)"
   ]
  },
  {
   "cell_type": "code",
   "execution_count": 57,
   "id": "722307ca",
   "metadata": {},
   "outputs": [
    {
     "name": "stdout",
     "output_type": "stream",
     "text": [
      "Accuracy =  0.6836190476190476\n",
      "F1 score =  0.6973876155615418\n",
      "Hamming loss =  0.033544642857142856\n"
     ]
    }
   ],
   "source": [
    "print(\"Accuracy = \",accuracy_score(y_test,clf_predictions3))\n",
    "print(\"F1 score = \",f1_score(y_test,clf_predictions3, average=\"micro\"))\n",
    "print(\"Hamming loss = \",hamming_loss(y_test,clf_predictions3))"
   ]
  },
  {
   "cell_type": "code",
   "execution_count": 58,
   "id": "96264b18",
   "metadata": {},
   "outputs": [
    {
     "name": "stdout",
     "output_type": "stream",
     "text": [
      "              precision    recall  f1-score   support\n",
      "\n",
      "           0       0.42      0.42      0.42       731\n",
      "           1       0.97      0.79      0.87      7735\n",
      "           2       0.40      0.38      0.39       295\n",
      "           3       0.51      0.59      0.55      1416\n",
      "           4       0.51      0.77      0.61       839\n",
      "           5       0.68      0.66      0.67      1513\n",
      "           6       0.47      0.57      0.51       557\n",
      "           7       0.76      0.76      0.76      6840\n",
      "           8       0.44      0.47      0.46       452\n",
      "           9       0.67      0.81      0.73      1905\n",
      "          10       0.65      0.71      0.68      6595\n",
      "          11       0.27      0.22      0.24      1514\n",
      "          12       0.76      0.77      0.77      4848\n",
      "          13       0.46      0.55      0.50       720\n",
      "          14       0.85      0.96      0.90       403\n",
      "          15       0.52      0.52      0.52       557\n",
      "          16       0.63      0.66      0.64      2038\n",
      "          17       0.82      0.68      0.74      1829\n",
      "          18       0.82      0.73      0.77      2943\n",
      "          19       0.65      0.72      0.68      1443\n",
      "          20       0.68      0.77      0.72      2818\n",
      "          21       0.76      0.77      0.76      1093\n",
      "          22       0.62      0.70      0.66      5315\n",
      "          23       0.41      0.43      0.42       950\n",
      "\n",
      "   micro avg       0.69      0.70      0.70     55349\n",
      "   macro avg       0.61      0.64      0.62     55349\n",
      "weighted avg       0.70      0.70      0.70     55349\n",
      " samples avg       0.70      0.70      0.70     55349\n",
      "\n"
     ]
    }
   ],
   "source": [
    "print(classification_report(y_test, clf_predictions3))"
   ]
  },
  {
   "cell_type": "markdown",
   "id": "d628ad05",
   "metadata": {},
   "source": [
    "# LabelPowerset, Tfidf, Multinominal naive bayes"
   ]
  },
  {
   "cell_type": "code",
   "execution_count": 59,
   "id": "1e13ec72",
   "metadata": {},
   "outputs": [],
   "source": [
    "clf4 = Pipeline([\n",
    "    ('tfidf',TfidfVectorizer(strip_accents='ascii', analyzer='word', ngram_range=(1,3), norm='l2', max_features = 5000)),\n",
    "                ('clf4',  LabelPowerset(MultinomialNB(fit_prior=True, class_prior=None)))])"
   ]
  },
  {
   "cell_type": "code",
   "execution_count": 60,
   "id": "4181fae3",
   "metadata": {},
   "outputs": [
    {
     "data": {
      "text/plain": [
       "Pipeline(steps=[('tfidf',\n",
       "                 TfidfVectorizer(max_features=5000, ngram_range=(1, 3),\n",
       "                                 strip_accents='ascii')),\n",
       "                ('clf4',\n",
       "                 LabelPowerset(classifier=MultinomialNB(),\n",
       "                               require_dense=[True, True]))])"
      ]
     },
     "execution_count": 60,
     "metadata": {},
     "output_type": "execute_result"
    }
   ],
   "source": [
    "clf4.fit(train_text,y_train)"
   ]
  },
  {
   "cell_type": "code",
   "execution_count": 61,
   "id": "e132c4fd",
   "metadata": {},
   "outputs": [],
   "source": [
    "clf_predictions4 = clf4.predict(test_text)"
   ]
  },
  {
   "cell_type": "code",
   "execution_count": 62,
   "id": "b4a168ac",
   "metadata": {},
   "outputs": [
    {
     "name": "stdout",
     "output_type": "stream",
     "text": [
      "Accuracy =  0.670047619047619\n",
      "F1 score =  0.6827350306791734\n",
      "Hamming loss =  0.03570238095238095\n"
     ]
    }
   ],
   "source": [
    "print(\"Accuracy = \",accuracy_score(y_test,clf_predictions4))\n",
    "print(\"F1 score = \",f1_score(y_test,clf_predictions4, average=\"micro\"))\n",
    "print(\"Hamming loss = \",hamming_loss(y_test,clf_predictions4))"
   ]
  },
  {
   "cell_type": "code",
   "execution_count": 63,
   "id": "140c52b5",
   "metadata": {},
   "outputs": [
    {
     "name": "stdout",
     "output_type": "stream",
     "text": [
      "              precision    recall  f1-score   support\n",
      "\n",
      "           0       0.80      0.10      0.18       731\n",
      "           1       0.86      0.86      0.86      7735\n",
      "           2       0.75      0.05      0.10       295\n",
      "           3       0.65      0.40      0.50      1416\n",
      "           4       0.68      0.60      0.64       839\n",
      "           5       0.65      0.67      0.66      1513\n",
      "           6       0.89      0.06      0.11       557\n",
      "           7       0.64      0.83      0.73      6840\n",
      "           8       0.73      0.15      0.25       452\n",
      "           9       0.74      0.73      0.74      1905\n",
      "          10       0.53      0.85      0.66      6595\n",
      "          11       0.68      0.03      0.07      1514\n",
      "          12       0.79      0.74      0.76      4848\n",
      "          13       0.77      0.28      0.41       720\n",
      "          14       0.95      0.86      0.90       403\n",
      "          15       0.79      0.27      0.40       557\n",
      "          16       0.81      0.41      0.55      2038\n",
      "          17       0.85      0.66      0.74      1829\n",
      "          18       0.81      0.73      0.77      2943\n",
      "          19       0.80      0.54      0.65      1443\n",
      "          20       0.65      0.78      0.71      2818\n",
      "          21       0.90      0.59      0.71      1093\n",
      "          22       0.49      0.89      0.63      5315\n",
      "          23       0.61      0.18      0.28       950\n",
      "\n",
      "   micro avg       0.67      0.70      0.68     55349\n",
      "   macro avg       0.74      0.51      0.54     55349\n",
      "weighted avg       0.71      0.70      0.66     55349\n",
      " samples avg       0.69      0.69      0.69     55349\n",
      "\n"
     ]
    }
   ],
   "source": [
    "print(classification_report(y_test, clf_predictions4))"
   ]
  },
  {
   "cell_type": "markdown",
   "id": "dfe493a2",
   "metadata": {},
   "source": [
    "# LabelPowerset, countvector, linear svc"
   ]
  },
  {
   "cell_type": "code",
   "execution_count": 64,
   "id": "2f923dd2",
   "metadata": {},
   "outputs": [],
   "source": [
    "clf5 = Pipeline([\n",
    "    ('cv', CountVectorizer(ngram_range=(1,3),max_features=5000)),\n",
    "                ('clf5',  LabelPowerset(LinearSVC()))])"
   ]
  },
  {
   "cell_type": "code",
   "execution_count": 65,
   "id": "98f31d70",
   "metadata": {},
   "outputs": [
    {
     "name": "stderr",
     "output_type": "stream",
     "text": [
      "c:\\users\\rahul kumar shah\\appdata\\local\\programs\\python\\python39\\lib\\site-packages\\sklearn\\svm\\_base.py:1206: ConvergenceWarning: Liblinear failed to converge, increase the number of iterations.\n",
      "  warnings.warn(\n"
     ]
    },
    {
     "data": {
      "text/plain": [
       "Pipeline(steps=[('cv', CountVectorizer(max_features=5000, ngram_range=(1, 3))),\n",
       "                ('clf5',\n",
       "                 LabelPowerset(classifier=LinearSVC(),\n",
       "                               require_dense=[True, True]))])"
      ]
     },
     "execution_count": 65,
     "metadata": {},
     "output_type": "execute_result"
    }
   ],
   "source": [
    "clf5.fit(train_text,y_train)"
   ]
  },
  {
   "cell_type": "code",
   "execution_count": 66,
   "id": "54d78365",
   "metadata": {},
   "outputs": [],
   "source": [
    "clf_predictions5 = clf5.predict(test_text)"
   ]
  },
  {
   "cell_type": "code",
   "execution_count": 67,
   "id": "abd90f7a",
   "metadata": {},
   "outputs": [
    {
     "name": "stdout",
     "output_type": "stream",
     "text": [
      "Accuracy =  0.6928571428571428\n",
      "F1 score =  0.7049751199013794\n",
      "Hamming loss =  0.032526785714285716\n"
     ]
    }
   ],
   "source": [
    "print(\"Accuracy = \",accuracy_score(y_test,clf_predictions5))\n",
    "print(\"F1 score = \",f1_score(y_test,clf_predictions5, average=\"micro\"))\n",
    "print(\"Hamming loss = \",hamming_loss(y_test,clf_predictions5))"
   ]
  },
  {
   "cell_type": "code",
   "execution_count": 68,
   "id": "77f55d02",
   "metadata": {},
   "outputs": [
    {
     "name": "stdout",
     "output_type": "stream",
     "text": [
      "              precision    recall  f1-score   support\n",
      "\n",
      "           0       0.41      0.38      0.39       731\n",
      "           1       0.87      0.87      0.87      7735\n",
      "           2       0.33      0.34      0.34       295\n",
      "           3       0.55      0.49      0.52      1416\n",
      "           4       0.57      0.61      0.59       839\n",
      "           5       0.69      0.68      0.69      1513\n",
      "           6       0.44      0.47      0.45       557\n",
      "           7       0.75      0.77      0.76      6840\n",
      "           8       0.43      0.38      0.41       452\n",
      "           9       0.68      0.74      0.71      1905\n",
      "          10       0.67      0.73      0.70      6595\n",
      "          11       0.32      0.18      0.23      1514\n",
      "          12       0.75      0.77      0.76      4848\n",
      "          13       0.50      0.52      0.51       720\n",
      "          14       0.96      0.96      0.96       403\n",
      "          15       0.46      0.45      0.46       557\n",
      "          16       0.64      0.62      0.63      2038\n",
      "          17       0.73      0.73      0.73      1829\n",
      "          18       0.79      0.77      0.78      2943\n",
      "          19       0.71      0.69      0.70      1443\n",
      "          20       0.72      0.72      0.72      2818\n",
      "          21       0.73      0.77      0.75      1093\n",
      "          22       0.66      0.72      0.69      5315\n",
      "          23       0.42      0.34      0.38       950\n",
      "\n",
      "   micro avg       0.70      0.71      0.70     55349\n",
      "   macro avg       0.62      0.61      0.61     55349\n",
      "weighted avg       0.70      0.71      0.70     55349\n",
      " samples avg       0.71      0.71      0.71     55349\n",
      "\n"
     ]
    }
   ],
   "source": [
    "print(classification_report(y_test, clf_predictions5))"
   ]
  },
  {
   "cell_type": "markdown",
   "id": "40ad0a6a",
   "metadata": {},
   "source": [
    "# LabelPowerset, Tfidf, linear svc"
   ]
  },
  {
   "cell_type": "code",
   "execution_count": 69,
   "id": "f482bcb9",
   "metadata": {},
   "outputs": [],
   "source": [
    "clf6 = Pipeline([\n",
    "    ('cv', TfidfVectorizer(strip_accents='ascii', analyzer='word', ngram_range=(1,3), norm='l2', max_features = 5000)),\n",
    "                ('clf6',  LabelPowerset(LinearSVC()))])"
   ]
  },
  {
   "cell_type": "code",
   "execution_count": 70,
   "id": "86b9fef0",
   "metadata": {},
   "outputs": [
    {
     "data": {
      "text/plain": [
       "Pipeline(steps=[('cv',\n",
       "                 TfidfVectorizer(max_features=5000, ngram_range=(1, 3),\n",
       "                                 strip_accents='ascii')),\n",
       "                ('clf6',\n",
       "                 LabelPowerset(classifier=LinearSVC(),\n",
       "                               require_dense=[True, True]))])"
      ]
     },
     "execution_count": 70,
     "metadata": {},
     "output_type": "execute_result"
    }
   ],
   "source": [
    "clf6.fit(train_text,y_train)"
   ]
  },
  {
   "cell_type": "code",
   "execution_count": 71,
   "id": "2d117d3a",
   "metadata": {},
   "outputs": [],
   "source": [
    "clf_predictions6 = clf6.predict(test_text)"
   ]
  },
  {
   "cell_type": "code",
   "execution_count": 72,
   "id": "79b6e48a",
   "metadata": {},
   "outputs": [
    {
     "name": "stdout",
     "output_type": "stream",
     "text": [
      "Accuracy =  0.7231190476190477\n",
      "F1 score =  0.7330999095557486\n",
      "Hamming loss =  0.02956845238095238\n"
     ]
    }
   ],
   "source": [
    "print(\"Accuracy = \",accuracy_score(y_test,clf_predictions6))\n",
    "print(\"F1 score = \",f1_score(y_test,clf_predictions6, average=\"micro\"))\n",
    "print(\"Hamming loss = \",hamming_loss(y_test,clf_predictions6))"
   ]
  },
  {
   "cell_type": "code",
   "execution_count": 73,
   "id": "319cf831",
   "metadata": {},
   "outputs": [
    {
     "name": "stdout",
     "output_type": "stream",
     "text": [
      "              precision    recall  f1-score   support\n",
      "\n",
      "           0       0.53      0.41      0.46       731\n",
      "           1       0.88      0.89      0.88      7735\n",
      "           2       0.53      0.38      0.44       295\n",
      "           3       0.61      0.49      0.54      1416\n",
      "           4       0.66      0.66      0.66       839\n",
      "           5       0.71      0.71      0.71      1513\n",
      "           6       0.62      0.50      0.55       557\n",
      "           7       0.77      0.79      0.78      6840\n",
      "           8       0.56      0.38      0.46       452\n",
      "           9       0.71      0.78      0.74      1905\n",
      "          10       0.66      0.78      0.72      6595\n",
      "          11       0.40      0.18      0.25      1514\n",
      "          12       0.77      0.80      0.78      4848\n",
      "          13       0.59      0.53      0.56       720\n",
      "          14       0.97      0.96      0.96       403\n",
      "          15       0.61      0.49      0.54       557\n",
      "          16       0.70      0.63      0.66      2038\n",
      "          17       0.76      0.77      0.76      1829\n",
      "          18       0.79      0.80      0.79      2943\n",
      "          19       0.74      0.70      0.72      1443\n",
      "          20       0.73      0.76      0.74      2818\n",
      "          21       0.80      0.81      0.80      1093\n",
      "          22       0.64      0.78      0.71      5315\n",
      "          23       0.51      0.36      0.43       950\n",
      "\n",
      "   micro avg       0.73      0.74      0.73     55349\n",
      "   macro avg       0.68      0.64      0.65     55349\n",
      "weighted avg       0.72      0.74      0.73     55349\n",
      " samples avg       0.74      0.74      0.74     55349\n",
      "\n"
     ]
    }
   ],
   "source": [
    "print(classification_report(y_test, clf_predictions6))"
   ]
  },
  {
   "cell_type": "markdown",
   "id": "f8da6bf0",
   "metadata": {},
   "source": [
    "# Category of news"
   ]
  },
  {
   "cell_type": "code",
   "execution_count": 35,
   "id": "575fd5ae",
   "metadata": {},
   "outputs": [],
   "source": [
    "category = y_test.columns"
   ]
  },
  {
   "cell_type": "code",
   "execution_count": 36,
   "id": "0dca24e0",
   "metadata": {},
   "outputs": [
    {
     "data": {
      "text/plain": [
       "Index(['ARTS & CULTURE', 'BUSINESS & FINANCE', 'COLLEGE', 'COMEDY', 'CRIME',\n",
       "       'CURRENT AFFAIRS', 'EDUCATION', 'ENTERTAINMENT', 'ENVIRONMENT',\n",
       "       'FOOD & BEVERAGES', 'HEALTH & FITNESS', 'HEALTHY LIVING', 'LIFESTYLE',\n",
       "       'MEDIA', 'POLITICS', 'RELIGION', 'SCIENCE', 'SPORTS', 'STYLE & BEAUTY',\n",
       "       'TECHNOLOGY', 'TOURISM', 'WEDDINGS', 'WELLNESS', 'WOMEN'],\n",
       "      dtype='object')"
      ]
     },
     "execution_count": 36,
     "metadata": {},
     "output_type": "execute_result"
    }
   ],
   "source": [
    "category"
   ]
  },
  {
   "cell_type": "code",
   "execution_count": 43,
   "id": "17363475",
   "metadata": {},
   "outputs": [],
   "source": [
    "category = np.array(category)"
   ]
  },
  {
   "cell_type": "code",
   "execution_count": 44,
   "id": "6a6e2a9c",
   "metadata": {},
   "outputs": [
    {
     "data": {
      "text/plain": [
       "(24,)"
      ]
     },
     "execution_count": 44,
     "metadata": {},
     "output_type": "execute_result"
    }
   ],
   "source": [
    "category.shape"
   ]
  },
  {
   "cell_type": "markdown",
   "id": "e01748a2",
   "metadata": {},
   "source": [
    "# BinaryRelevance, TfidfVector, Logistic Regression"
   ]
  },
  {
   "cell_type": "code",
   "execution_count": 74,
   "id": "f156a9ab",
   "metadata": {},
   "outputs": [],
   "source": [
    "clf7 = Pipeline([\n",
    "    ('tfidf',TfidfVectorizer(strip_accents='ascii', analyzer='word', ngram_range=(1,3), norm='l2', max_features = 3000)),\n",
    "                ('clf7', BinaryRelevance(LogisticRegression()))])"
   ]
  },
  {
   "cell_type": "code",
   "execution_count": 75,
   "id": "c38e4f8c",
   "metadata": {},
   "outputs": [
    {
     "name": "stderr",
     "output_type": "stream",
     "text": [
      "c:\\users\\rahul kumar shah\\appdata\\local\\programs\\python\\python39\\lib\\site-packages\\sklearn\\linear_model\\_logistic.py:814: ConvergenceWarning: lbfgs failed to converge (status=1):\n",
      "STOP: TOTAL NO. of ITERATIONS REACHED LIMIT.\n",
      "\n",
      "Increase the number of iterations (max_iter) or scale the data as shown in:\n",
      "    https://scikit-learn.org/stable/modules/preprocessing.html\n",
      "Please also refer to the documentation for alternative solver options:\n",
      "    https://scikit-learn.org/stable/modules/linear_model.html#logistic-regression\n",
      "  n_iter_i = _check_optimize_result(\n"
     ]
    },
    {
     "data": {
      "text/plain": [
       "Pipeline(steps=[('tfidf',\n",
       "                 TfidfVectorizer(max_features=3000, ngram_range=(1, 3),\n",
       "                                 strip_accents='ascii')),\n",
       "                ('clf7',\n",
       "                 BinaryRelevance(classifier=LogisticRegression(),\n",
       "                                 require_dense=[True, True]))])"
      ]
     },
     "execution_count": 75,
     "metadata": {},
     "output_type": "execute_result"
    }
   ],
   "source": [
    "clf7.fit(train_text,y_train)"
   ]
  },
  {
   "cell_type": "code",
   "execution_count": 76,
   "id": "c8d87e45",
   "metadata": {},
   "outputs": [],
   "source": [
    "clf_predictions7 = clf7.predict(test_text)"
   ]
  },
  {
   "cell_type": "code",
   "execution_count": 77,
   "id": "b0bf7a31",
   "metadata": {},
   "outputs": [
    {
     "name": "stdout",
     "output_type": "stream",
     "text": [
      "Accuracy =  0.5046666666666667\n",
      "F1 score =  0.6557116703796018\n",
      "Hamming loss =  0.030970238095238096\n"
     ]
    }
   ],
   "source": [
    "print(\"Accuracy = \",accuracy_score(y_test,clf_predictions7))\n",
    "print(\"F1 score = \",f1_score(y_test,clf_predictions7, average=\"micro\"))\n",
    "print(\"Hamming loss = \",hamming_loss(y_test,clf_predictions7))"
   ]
  },
  {
   "cell_type": "code",
   "execution_count": 78,
   "id": "2ecc12d7",
   "metadata": {},
   "outputs": [
    {
     "name": "stdout",
     "output_type": "stream",
     "text": [
      "              precision    recall  f1-score   support\n",
      "\n",
      "           0       0.74      0.14      0.24       731\n",
      "           1       0.95      0.81      0.87      7735\n",
      "           2       0.64      0.14      0.23       295\n",
      "           3       0.75      0.29      0.42      1416\n",
      "           4       0.78      0.41      0.54       839\n",
      "           5       0.85      0.41      0.56      1513\n",
      "           6       0.73      0.27      0.40       557\n",
      "           7       0.83      0.57      0.68      6840\n",
      "           8       0.87      0.13      0.22       452\n",
      "           9       0.82      0.54      0.65      1905\n",
      "          10       0.76      0.55      0.64      6595\n",
      "          11       0.51      0.04      0.07      1514\n",
      "          12       0.85      0.62      0.72      4848\n",
      "          13       0.82      0.23      0.36       720\n",
      "          14       0.97      0.74      0.84       403\n",
      "          15       0.77      0.25      0.37       557\n",
      "          16       0.84      0.38      0.52      2038\n",
      "          17       0.87      0.49      0.63      1829\n",
      "          18       0.89      0.62      0.73      2943\n",
      "          19       0.88      0.50      0.64      1443\n",
      "          20       0.85      0.54      0.66      2818\n",
      "          21       0.88      0.65      0.75      1093\n",
      "          22       0.76      0.54      0.63      5315\n",
      "          23       0.66      0.15      0.25       950\n",
      "\n",
      "   micro avg       0.84      0.54      0.66     55349\n",
      "   macro avg       0.80      0.42      0.53     55349\n",
      "weighted avg       0.83      0.54      0.64     55349\n",
      " samples avg       0.55      0.54      0.54     55349\n",
      "\n"
     ]
    },
    {
     "name": "stderr",
     "output_type": "stream",
     "text": [
      "c:\\users\\rahul kumar shah\\appdata\\local\\programs\\python\\python39\\lib\\site-packages\\sklearn\\metrics\\_classification.py:1308: UndefinedMetricWarning: Precision and F-score are ill-defined and being set to 0.0 in samples with no predicted labels. Use `zero_division` parameter to control this behavior.\n",
      "  _warn_prf(average, modifier, msg_start, len(result))\n"
     ]
    }
   ],
   "source": [
    "print(classification_report(y_test, clf_predictions7))"
   ]
  },
  {
   "cell_type": "markdown",
   "id": "4de4018e",
   "metadata": {},
   "source": [
    "# BinaryRelevance, countVector, Logistic Regression"
   ]
  },
  {
   "cell_type": "code",
   "execution_count": 26,
   "id": "de85d3fd",
   "metadata": {},
   "outputs": [],
   "source": [
    "clf8 = Pipeline([\n",
    "    ('tfidf',CountVectorizer(ngram_range=(1,3),max_features=2000)),\n",
    "    ('clf8', BinaryRelevance(LogisticRegression()))])"
   ]
  },
  {
   "cell_type": "code",
   "execution_count": 27,
   "id": "ca82a252",
   "metadata": {},
   "outputs": [
    {
     "name": "stderr",
     "output_type": "stream",
     "text": [
      "c:\\users\\rahul kumar shah\\appdata\\local\\programs\\python\\python39\\lib\\site-packages\\sklearn\\linear_model\\_logistic.py:814: ConvergenceWarning: lbfgs failed to converge (status=1):\n",
      "STOP: TOTAL NO. of ITERATIONS REACHED LIMIT.\n",
      "\n",
      "Increase the number of iterations (max_iter) or scale the data as shown in:\n",
      "    https://scikit-learn.org/stable/modules/preprocessing.html\n",
      "Please also refer to the documentation for alternative solver options:\n",
      "    https://scikit-learn.org/stable/modules/linear_model.html#logistic-regression\n",
      "  n_iter_i = _check_optimize_result(\n",
      "c:\\users\\rahul kumar shah\\appdata\\local\\programs\\python\\python39\\lib\\site-packages\\sklearn\\linear_model\\_logistic.py:814: ConvergenceWarning: lbfgs failed to converge (status=1):\n",
      "STOP: TOTAL NO. of ITERATIONS REACHED LIMIT.\n",
      "\n",
      "Increase the number of iterations (max_iter) or scale the data as shown in:\n",
      "    https://scikit-learn.org/stable/modules/preprocessing.html\n",
      "Please also refer to the documentation for alternative solver options:\n",
      "    https://scikit-learn.org/stable/modules/linear_model.html#logistic-regression\n",
      "  n_iter_i = _check_optimize_result(\n",
      "c:\\users\\rahul kumar shah\\appdata\\local\\programs\\python\\python39\\lib\\site-packages\\sklearn\\linear_model\\_logistic.py:814: ConvergenceWarning: lbfgs failed to converge (status=1):\n",
      "STOP: TOTAL NO. of ITERATIONS REACHED LIMIT.\n",
      "\n",
      "Increase the number of iterations (max_iter) or scale the data as shown in:\n",
      "    https://scikit-learn.org/stable/modules/preprocessing.html\n",
      "Please also refer to the documentation for alternative solver options:\n",
      "    https://scikit-learn.org/stable/modules/linear_model.html#logistic-regression\n",
      "  n_iter_i = _check_optimize_result(\n",
      "c:\\users\\rahul kumar shah\\appdata\\local\\programs\\python\\python39\\lib\\site-packages\\sklearn\\linear_model\\_logistic.py:814: ConvergenceWarning: lbfgs failed to converge (status=1):\n",
      "STOP: TOTAL NO. of ITERATIONS REACHED LIMIT.\n",
      "\n",
      "Increase the number of iterations (max_iter) or scale the data as shown in:\n",
      "    https://scikit-learn.org/stable/modules/preprocessing.html\n",
      "Please also refer to the documentation for alternative solver options:\n",
      "    https://scikit-learn.org/stable/modules/linear_model.html#logistic-regression\n",
      "  n_iter_i = _check_optimize_result(\n",
      "c:\\users\\rahul kumar shah\\appdata\\local\\programs\\python\\python39\\lib\\site-packages\\sklearn\\linear_model\\_logistic.py:814: ConvergenceWarning: lbfgs failed to converge (status=1):\n",
      "STOP: TOTAL NO. of ITERATIONS REACHED LIMIT.\n",
      "\n",
      "Increase the number of iterations (max_iter) or scale the data as shown in:\n",
      "    https://scikit-learn.org/stable/modules/preprocessing.html\n",
      "Please also refer to the documentation for alternative solver options:\n",
      "    https://scikit-learn.org/stable/modules/linear_model.html#logistic-regression\n",
      "  n_iter_i = _check_optimize_result(\n",
      "c:\\users\\rahul kumar shah\\appdata\\local\\programs\\python\\python39\\lib\\site-packages\\sklearn\\linear_model\\_logistic.py:814: ConvergenceWarning: lbfgs failed to converge (status=1):\n",
      "STOP: TOTAL NO. of ITERATIONS REACHED LIMIT.\n",
      "\n",
      "Increase the number of iterations (max_iter) or scale the data as shown in:\n",
      "    https://scikit-learn.org/stable/modules/preprocessing.html\n",
      "Please also refer to the documentation for alternative solver options:\n",
      "    https://scikit-learn.org/stable/modules/linear_model.html#logistic-regression\n",
      "  n_iter_i = _check_optimize_result(\n",
      "c:\\users\\rahul kumar shah\\appdata\\local\\programs\\python\\python39\\lib\\site-packages\\sklearn\\linear_model\\_logistic.py:814: ConvergenceWarning: lbfgs failed to converge (status=1):\n",
      "STOP: TOTAL NO. of ITERATIONS REACHED LIMIT.\n",
      "\n",
      "Increase the number of iterations (max_iter) or scale the data as shown in:\n",
      "    https://scikit-learn.org/stable/modules/preprocessing.html\n",
      "Please also refer to the documentation for alternative solver options:\n",
      "    https://scikit-learn.org/stable/modules/linear_model.html#logistic-regression\n",
      "  n_iter_i = _check_optimize_result(\n",
      "c:\\users\\rahul kumar shah\\appdata\\local\\programs\\python\\python39\\lib\\site-packages\\sklearn\\linear_model\\_logistic.py:814: ConvergenceWarning: lbfgs failed to converge (status=1):\n",
      "STOP: TOTAL NO. of ITERATIONS REACHED LIMIT.\n",
      "\n",
      "Increase the number of iterations (max_iter) or scale the data as shown in:\n",
      "    https://scikit-learn.org/stable/modules/preprocessing.html\n",
      "Please also refer to the documentation for alternative solver options:\n",
      "    https://scikit-learn.org/stable/modules/linear_model.html#logistic-regression\n",
      "  n_iter_i = _check_optimize_result(\n",
      "c:\\users\\rahul kumar shah\\appdata\\local\\programs\\python\\python39\\lib\\site-packages\\sklearn\\linear_model\\_logistic.py:814: ConvergenceWarning: lbfgs failed to converge (status=1):\n",
      "STOP: TOTAL NO. of ITERATIONS REACHED LIMIT.\n",
      "\n",
      "Increase the number of iterations (max_iter) or scale the data as shown in:\n",
      "    https://scikit-learn.org/stable/modules/preprocessing.html\n",
      "Please also refer to the documentation for alternative solver options:\n",
      "    https://scikit-learn.org/stable/modules/linear_model.html#logistic-regression\n",
      "  n_iter_i = _check_optimize_result(\n",
      "c:\\users\\rahul kumar shah\\appdata\\local\\programs\\python\\python39\\lib\\site-packages\\sklearn\\linear_model\\_logistic.py:814: ConvergenceWarning: lbfgs failed to converge (status=1):\n",
      "STOP: TOTAL NO. of ITERATIONS REACHED LIMIT.\n",
      "\n",
      "Increase the number of iterations (max_iter) or scale the data as shown in:\n",
      "    https://scikit-learn.org/stable/modules/preprocessing.html\n",
      "Please also refer to the documentation for alternative solver options:\n",
      "    https://scikit-learn.org/stable/modules/linear_model.html#logistic-regression\n",
      "  n_iter_i = _check_optimize_result(\n",
      "c:\\users\\rahul kumar shah\\appdata\\local\\programs\\python\\python39\\lib\\site-packages\\sklearn\\linear_model\\_logistic.py:814: ConvergenceWarning: lbfgs failed to converge (status=1):\n",
      "STOP: TOTAL NO. of ITERATIONS REACHED LIMIT.\n",
      "\n",
      "Increase the number of iterations (max_iter) or scale the data as shown in:\n",
      "    https://scikit-learn.org/stable/modules/preprocessing.html\n",
      "Please also refer to the documentation for alternative solver options:\n",
      "    https://scikit-learn.org/stable/modules/linear_model.html#logistic-regression\n",
      "  n_iter_i = _check_optimize_result(\n"
     ]
    },
    {
     "data": {
      "text/plain": [
       "Pipeline(steps=[('tfidf',\n",
       "                 CountVectorizer(max_features=2000, ngram_range=(1, 3))),\n",
       "                ('clf8',\n",
       "                 BinaryRelevance(classifier=LogisticRegression(),\n",
       "                                 require_dense=[True, True]))])"
      ]
     },
     "execution_count": 27,
     "metadata": {},
     "output_type": "execute_result"
    }
   ],
   "source": [
    "clf8.fit(train_text,y_train)"
   ]
  },
  {
   "cell_type": "code",
   "execution_count": 28,
   "id": "e81993f8",
   "metadata": {},
   "outputs": [],
   "source": [
    "clf_predictions8 = clf8.predict(test_text)"
   ]
  },
  {
   "cell_type": "code",
   "execution_count": 31,
   "id": "f3951b31",
   "metadata": {},
   "outputs": [
    {
     "name": "stdout",
     "output_type": "stream",
     "text": [
      "Accuracy =  0.5022619047619048\n",
      "F1 score =  0.6544175053206849\n",
      "Hamming loss =  0.032056547619047616\n"
     ]
    }
   ],
   "source": [
    "print(\"Accuracy = \",accuracy_score(y_test,clf_predictions8))\n",
    "print(\"F1 score = \",f1_score(y_test,clf_predictions8, average=\"micro\"))\n",
    "print(\"Hamming loss = \",hamming_loss(y_test,clf_predictions8))"
   ]
  },
  {
   "cell_type": "code",
   "execution_count": 32,
   "id": "5e95fb32",
   "metadata": {},
   "outputs": [
    {
     "name": "stdout",
     "output_type": "stream",
     "text": [
      "              precision    recall  f1-score   support\n",
      "\n",
      "           0       0.54      0.14      0.23       731\n",
      "           1       0.93      0.81      0.87      7735\n",
      "           2       0.54      0.17      0.25       295\n",
      "           3       0.67      0.28      0.40      1416\n",
      "           4       0.69      0.45      0.55       839\n",
      "           5       0.77      0.48      0.59      1513\n",
      "           6       0.65      0.35      0.46       557\n",
      "           7       0.78      0.57      0.66      6840\n",
      "           8       0.59      0.20      0.30       452\n",
      "           9       0.78      0.55      0.64      1905\n",
      "          10       0.74      0.55      0.63      6595\n",
      "          11       0.33      0.05      0.09      1514\n",
      "          12       0.82      0.62      0.71      4848\n",
      "          13       0.65      0.28      0.39       720\n",
      "          14       0.97      0.96      0.96       403\n",
      "          15       0.64      0.27      0.38       557\n",
      "          16       0.80      0.46      0.59      2038\n",
      "          17       0.83      0.53      0.65      1829\n",
      "          18       0.85      0.64      0.73      2943\n",
      "          19       0.84      0.57      0.68      1443\n",
      "          20       0.81      0.56      0.66      2818\n",
      "          21       0.86      0.70      0.77      1093\n",
      "          22       0.75      0.55      0.63      5315\n",
      "          23       0.50      0.16      0.24       950\n",
      "\n",
      "   micro avg       0.80      0.55      0.65     55349\n",
      "   macro avg       0.72      0.45      0.54     55349\n",
      "weighted avg       0.78      0.55      0.64     55349\n",
      " samples avg       0.56      0.55      0.55     55349\n",
      "\n"
     ]
    },
    {
     "name": "stderr",
     "output_type": "stream",
     "text": [
      "c:\\users\\rahul kumar shah\\appdata\\local\\programs\\python\\python39\\lib\\site-packages\\sklearn\\metrics\\_classification.py:1308: UndefinedMetricWarning: Precision and F-score are ill-defined and being set to 0.0 in samples with no predicted labels. Use `zero_division` parameter to control this behavior.\n",
      "  _warn_prf(average, modifier, msg_start, len(result))\n"
     ]
    }
   ],
   "source": [
    "print(classification_report(y_test, clf_predictions8))"
   ]
  },
  {
   "cell_type": "markdown",
   "id": "c551dbf6",
   "metadata": {},
   "source": [
    "# BinaryRelevance, TfidfVector, MNB"
   ]
  },
  {
   "cell_type": "code",
   "execution_count": 33,
   "id": "da52e3f8",
   "metadata": {},
   "outputs": [],
   "source": [
    "clf9 = Pipeline([\n",
    "    ('tfidf',TfidfVectorizer(strip_accents='ascii', analyzer='word', ngram_range=(1,3), norm='l2', max_features = 2000)),\n",
    "                ('clf9', BinaryRelevance(MultinomialNB(fit_prior=True, class_prior=None)))])"
   ]
  },
  {
   "cell_type": "code",
   "execution_count": 34,
   "id": "93d40fd3",
   "metadata": {},
   "outputs": [
    {
     "data": {
      "text/plain": [
       "Pipeline(steps=[('tfidf',\n",
       "                 TfidfVectorizer(max_features=2000, ngram_range=(1, 3),\n",
       "                                 strip_accents='ascii')),\n",
       "                ('clf9',\n",
       "                 BinaryRelevance(classifier=MultinomialNB(),\n",
       "                                 require_dense=[True, True]))])"
      ]
     },
     "execution_count": 34,
     "metadata": {},
     "output_type": "execute_result"
    }
   ],
   "source": [
    "clf9.fit(train_text,y_train)"
   ]
  },
  {
   "cell_type": "code",
   "execution_count": 35,
   "id": "c6ed1a53",
   "metadata": {},
   "outputs": [],
   "source": [
    "clf_predictions9 = clf9.predict(test_text)"
   ]
  },
  {
   "cell_type": "code",
   "execution_count": 36,
   "id": "ace7a188",
   "metadata": {},
   "outputs": [
    {
     "name": "stdout",
     "output_type": "stream",
     "text": [
      "Accuracy =  0.3636904761904762\n",
      "F1 score =  0.5335599398999976\n",
      "Hamming loss =  0.037573412698412696\n"
     ]
    }
   ],
   "source": [
    "print(\"Accuracy = \",accuracy_score(y_test,clf_predictions9))\n",
    "print(\"F1 score = \",f1_score(y_test,clf_predictions9, average=\"micro\"))\n",
    "print(\"Hamming loss = \",hamming_loss(y_test,clf_predictions9))"
   ]
  },
  {
   "cell_type": "code",
   "execution_count": 37,
   "id": "83f8ff8d",
   "metadata": {},
   "outputs": [
    {
     "name": "stdout",
     "output_type": "stream",
     "text": [
      "              precision    recall  f1-score   support\n",
      "\n",
      "           0       0.67      0.00      0.01       731\n",
      "           1       0.94      0.76      0.84      7735\n",
      "           2       1.00      0.01      0.01       295\n",
      "           3       0.68      0.18      0.28      1416\n",
      "           4       0.76      0.28      0.41       839\n",
      "           5       0.83      0.27      0.41      1513\n",
      "           6       0.85      0.03      0.06       557\n",
      "           7       0.82      0.41      0.54      6840\n",
      "           8       0.88      0.02      0.03       452\n",
      "           9       0.83      0.36      0.50      1905\n",
      "          10       0.75      0.43      0.55      6595\n",
      "          11       0.42      0.02      0.03      1514\n",
      "          12       0.83      0.45      0.59      4848\n",
      "          13       0.73      0.03      0.06       720\n",
      "          14       0.94      0.64      0.76       403\n",
      "          15       0.93      0.07      0.14       557\n",
      "          16       0.83      0.18      0.29      2038\n",
      "          17       0.93      0.31      0.47      1829\n",
      "          18       0.85      0.42      0.56      2943\n",
      "          19       0.90      0.33      0.48      1443\n",
      "          20       0.90      0.28      0.42      2818\n",
      "          21       0.94      0.32      0.48      1093\n",
      "          22       0.75      0.43      0.55      5315\n",
      "          23       0.88      0.02      0.04       950\n",
      "\n",
      "   micro avg       0.84      0.39      0.53     55349\n",
      "   macro avg       0.83      0.26      0.35     55349\n",
      "weighted avg       0.82      0.39      0.50     55349\n",
      " samples avg       0.40      0.39      0.39     55349\n",
      "\n"
     ]
    },
    {
     "name": "stderr",
     "output_type": "stream",
     "text": [
      "c:\\users\\rahul kumar shah\\appdata\\local\\programs\\python\\python39\\lib\\site-packages\\sklearn\\metrics\\_classification.py:1308: UndefinedMetricWarning: Precision and F-score are ill-defined and being set to 0.0 in samples with no predicted labels. Use `zero_division` parameter to control this behavior.\n",
      "  _warn_prf(average, modifier, msg_start, len(result))\n"
     ]
    }
   ],
   "source": [
    "print(classification_report(y_test, clf_predictions9))"
   ]
  },
  {
   "cell_type": "markdown",
   "id": "7464572b",
   "metadata": {},
   "source": [
    "# BinaryRelevance, countVector, MNB"
   ]
  },
  {
   "cell_type": "code",
   "execution_count": 38,
   "id": "28195755",
   "metadata": {},
   "outputs": [],
   "source": [
    "clf10 = Pipeline([\n",
    "    ('tfidf',CountVectorizer(ngram_range=(1,3),max_features=3000)),\n",
    "                ('clf10', BinaryRelevance(MultinomialNB(fit_prior=True, class_prior=None)))])"
   ]
  },
  {
   "cell_type": "code",
   "execution_count": 39,
   "id": "56443dc7",
   "metadata": {},
   "outputs": [
    {
     "data": {
      "text/plain": [
       "Pipeline(steps=[('tfidf',\n",
       "                 CountVectorizer(max_features=3000, ngram_range=(1, 3))),\n",
       "                ('clf10',\n",
       "                 BinaryRelevance(classifier=MultinomialNB(),\n",
       "                                 require_dense=[True, True]))])"
      ]
     },
     "execution_count": 39,
     "metadata": {},
     "output_type": "execute_result"
    }
   ],
   "source": [
    "clf10.fit(train_text,y_train)"
   ]
  },
  {
   "cell_type": "code",
   "execution_count": 40,
   "id": "5353c0ee",
   "metadata": {},
   "outputs": [],
   "source": [
    "clf_predictions10 = clf10.predict(test_text)"
   ]
  },
  {
   "cell_type": "code",
   "execution_count": 41,
   "id": "5e98cbb8",
   "metadata": {},
   "outputs": [
    {
     "name": "stdout",
     "output_type": "stream",
     "text": [
      "Accuracy =  0.3474285714285714\n",
      "F1 score =  0.5991287836479392\n",
      "Hamming loss =  0.05696825396825397\n"
     ]
    }
   ],
   "source": [
    "print(\"Accuracy = \",accuracy_score(y_test,clf_predictions10))\n",
    "print(\"F1 score = \",f1_score(y_test,clf_predictions10, average=\"micro\"))\n",
    "print(\"Hamming loss = \",hamming_loss(y_test,clf_predictions10))"
   ]
  },
  {
   "cell_type": "code",
   "execution_count": 42,
   "id": "2ed3f687",
   "metadata": {},
   "outputs": [
    {
     "name": "stdout",
     "output_type": "stream",
     "text": [
      "              precision    recall  f1-score   support\n",
      "\n",
      "           0       0.20      0.50      0.29       731\n",
      "           1       0.90      0.81      0.85      7735\n",
      "           2       0.21      0.54      0.30       295\n",
      "           3       0.32      0.63      0.43      1416\n",
      "           4       0.35      0.78      0.48       839\n",
      "           5       0.37      0.77      0.50      1513\n",
      "           6       0.32      0.71      0.44       557\n",
      "           7       0.59      0.78      0.68      6840\n",
      "           8       0.22      0.52      0.31       452\n",
      "           9       0.46      0.84      0.59      1905\n",
      "          10       0.53      0.83      0.65      6595\n",
      "          11       0.17      0.63      0.26      1514\n",
      "          12       0.58      0.80      0.68      4848\n",
      "          13       0.21      0.61      0.31       720\n",
      "          14       0.51      0.98      0.67       403\n",
      "          15       0.25      0.56      0.35       557\n",
      "          16       0.44      0.67      0.53      2038\n",
      "          17       0.62      0.69      0.66      1829\n",
      "          18       0.60      0.78      0.68      2943\n",
      "          19       0.47      0.72      0.57      1443\n",
      "          20       0.50      0.82      0.62      2818\n",
      "          21       0.49      0.87      0.63      1093\n",
      "          22       0.53      0.85      0.65      5315\n",
      "          23       0.22      0.58      0.32       950\n",
      "\n",
      "   micro avg       0.49      0.78      0.60     55349\n",
      "   macro avg       0.42      0.72      0.52     55349\n",
      "weighted avg       0.55      0.78      0.63     55349\n",
      " samples avg       0.55      0.77      0.61     55349\n",
      "\n"
     ]
    },
    {
     "name": "stderr",
     "output_type": "stream",
     "text": [
      "c:\\users\\rahul kumar shah\\appdata\\local\\programs\\python\\python39\\lib\\site-packages\\sklearn\\metrics\\_classification.py:1308: UndefinedMetricWarning: Precision and F-score are ill-defined and being set to 0.0 in samples with no predicted labels. Use `zero_division` parameter to control this behavior.\n",
      "  _warn_prf(average, modifier, msg_start, len(result))\n"
     ]
    }
   ],
   "source": [
    "print(classification_report(y_test, clf_predictions10))"
   ]
  },
  {
   "cell_type": "markdown",
   "id": "98c602e9",
   "metadata": {},
   "source": [
    "# BinaryRelevance, TfidfVector, Linear svc"
   ]
  },
  {
   "cell_type": "code",
   "execution_count": 43,
   "id": "0974fbb4",
   "metadata": {},
   "outputs": [],
   "source": [
    "clf11 = Pipeline([\n",
    "    ('tfidf',TfidfVectorizer(strip_accents='ascii', analyzer='word', ngram_range=(1,3), norm='l2', max_features = 2000)),\n",
    "                ('clf11', BinaryRelevance(LinearSVC()))])"
   ]
  },
  {
   "cell_type": "code",
   "execution_count": 44,
   "id": "f5150cf8",
   "metadata": {},
   "outputs": [
    {
     "data": {
      "text/plain": [
       "Pipeline(steps=[('tfidf',\n",
       "                 TfidfVectorizer(max_features=2000, ngram_range=(1, 3),\n",
       "                                 strip_accents='ascii')),\n",
       "                ('clf11',\n",
       "                 BinaryRelevance(classifier=LinearSVC(),\n",
       "                                 require_dense=[True, True]))])"
      ]
     },
     "execution_count": 44,
     "metadata": {},
     "output_type": "execute_result"
    }
   ],
   "source": [
    "clf11.fit(train_text,y_train)"
   ]
  },
  {
   "cell_type": "code",
   "execution_count": 45,
   "id": "cc8d3780",
   "metadata": {},
   "outputs": [],
   "source": [
    "clf_predictions11 = clf11.predict(test_text)"
   ]
  },
  {
   "cell_type": "code",
   "execution_count": 46,
   "id": "cef2d8d3",
   "metadata": {},
   "outputs": [
    {
     "name": "stdout",
     "output_type": "stream",
     "text": [
      "Accuracy =  0.5148809523809523\n",
      "F1 score =  0.6578419315166031\n",
      "Hamming loss =  0.031464285714285715\n"
     ]
    }
   ],
   "source": [
    "print(\"Accuracy = \",accuracy_score(y_test,clf_predictions11))\n",
    "print(\"F1 score = \",f1_score(y_test,clf_predictions11, average=\"micro\"))\n",
    "print(\"Hamming loss = \",hamming_loss(y_test,clf_predictions11))"
   ]
  },
  {
   "cell_type": "code",
   "execution_count": 47,
   "id": "05af7f19",
   "metadata": {},
   "outputs": [
    {
     "name": "stdout",
     "output_type": "stream",
     "text": [
      "              precision    recall  f1-score   support\n",
      "\n",
      "           0       0.70      0.13      0.22       731\n",
      "           1       0.94      0.81      0.87      7735\n",
      "           2       0.61      0.14      0.22       295\n",
      "           3       0.69      0.24      0.35      1416\n",
      "           4       0.73      0.48      0.58       839\n",
      "           5       0.78      0.47      0.59      1513\n",
      "           6       0.71      0.33      0.45       557\n",
      "           7       0.80      0.56      0.66      6840\n",
      "           8       0.72      0.17      0.27       452\n",
      "           9       0.80      0.56      0.66      1905\n",
      "          10       0.74      0.57      0.64      6595\n",
      "          11       0.66      0.04      0.07      1514\n",
      "          12       0.83      0.63      0.71      4848\n",
      "          13       0.72      0.24      0.36       720\n",
      "          14       0.97      0.92      0.94       403\n",
      "          15       0.68      0.26      0.38       557\n",
      "          16       0.78      0.41      0.54      2038\n",
      "          17       0.85      0.53      0.66      1829\n",
      "          18       0.87      0.65      0.74      2943\n",
      "          19       0.84      0.55      0.67      1443\n",
      "          20       0.83      0.56      0.67      2818\n",
      "          21       0.85      0.73      0.78      1093\n",
      "          22       0.74      0.56      0.64      5315\n",
      "          23       0.62      0.13      0.21       950\n",
      "\n",
      "   micro avg       0.82      0.55      0.66     55349\n",
      "   macro avg       0.77      0.44      0.54     55349\n",
      "weighted avg       0.80      0.55      0.64     55349\n",
      " samples avg       0.56      0.55      0.55     55349\n",
      "\n"
     ]
    },
    {
     "name": "stderr",
     "output_type": "stream",
     "text": [
      "c:\\users\\rahul kumar shah\\appdata\\local\\programs\\python\\python39\\lib\\site-packages\\sklearn\\metrics\\_classification.py:1308: UndefinedMetricWarning: Precision and F-score are ill-defined and being set to 0.0 in samples with no predicted labels. Use `zero_division` parameter to control this behavior.\n",
      "  _warn_prf(average, modifier, msg_start, len(result))\n"
     ]
    }
   ],
   "source": [
    "print(classification_report(y_test, clf_predictions11))"
   ]
  },
  {
   "cell_type": "markdown",
   "id": "e45fe1a2",
   "metadata": {},
   "source": [
    "# BinaryRelevance, countVector, Linear svc"
   ]
  },
  {
   "cell_type": "code",
   "execution_count": 48,
   "id": "62164163",
   "metadata": {},
   "outputs": [],
   "source": [
    "clf12 = Pipeline([\n",
    "    ('tfidf',CountVectorizer(ngram_range=(1,3),max_features=3000)),\n",
    "                ('clf12', BinaryRelevance(LinearSVC()))])"
   ]
  },
  {
   "cell_type": "code",
   "execution_count": 49,
   "id": "999bf2d6",
   "metadata": {},
   "outputs": [
    {
     "name": "stderr",
     "output_type": "stream",
     "text": [
      "c:\\users\\rahul kumar shah\\appdata\\local\\programs\\python\\python39\\lib\\site-packages\\sklearn\\svm\\_base.py:1206: ConvergenceWarning: Liblinear failed to converge, increase the number of iterations.\n",
      "  warnings.warn(\n",
      "c:\\users\\rahul kumar shah\\appdata\\local\\programs\\python\\python39\\lib\\site-packages\\sklearn\\svm\\_base.py:1206: ConvergenceWarning: Liblinear failed to converge, increase the number of iterations.\n",
      "  warnings.warn(\n",
      "c:\\users\\rahul kumar shah\\appdata\\local\\programs\\python\\python39\\lib\\site-packages\\sklearn\\svm\\_base.py:1206: ConvergenceWarning: Liblinear failed to converge, increase the number of iterations.\n",
      "  warnings.warn(\n",
      "c:\\users\\rahul kumar shah\\appdata\\local\\programs\\python\\python39\\lib\\site-packages\\sklearn\\svm\\_base.py:1206: ConvergenceWarning: Liblinear failed to converge, increase the number of iterations.\n",
      "  warnings.warn(\n",
      "c:\\users\\rahul kumar shah\\appdata\\local\\programs\\python\\python39\\lib\\site-packages\\sklearn\\svm\\_base.py:1206: ConvergenceWarning: Liblinear failed to converge, increase the number of iterations.\n",
      "  warnings.warn(\n",
      "c:\\users\\rahul kumar shah\\appdata\\local\\programs\\python\\python39\\lib\\site-packages\\sklearn\\svm\\_base.py:1206: ConvergenceWarning: Liblinear failed to converge, increase the number of iterations.\n",
      "  warnings.warn(\n",
      "c:\\users\\rahul kumar shah\\appdata\\local\\programs\\python\\python39\\lib\\site-packages\\sklearn\\svm\\_base.py:1206: ConvergenceWarning: Liblinear failed to converge, increase the number of iterations.\n",
      "  warnings.warn(\n",
      "c:\\users\\rahul kumar shah\\appdata\\local\\programs\\python\\python39\\lib\\site-packages\\sklearn\\svm\\_base.py:1206: ConvergenceWarning: Liblinear failed to converge, increase the number of iterations.\n",
      "  warnings.warn(\n",
      "c:\\users\\rahul kumar shah\\appdata\\local\\programs\\python\\python39\\lib\\site-packages\\sklearn\\svm\\_base.py:1206: ConvergenceWarning: Liblinear failed to converge, increase the number of iterations.\n",
      "  warnings.warn(\n",
      "c:\\users\\rahul kumar shah\\appdata\\local\\programs\\python\\python39\\lib\\site-packages\\sklearn\\svm\\_base.py:1206: ConvergenceWarning: Liblinear failed to converge, increase the number of iterations.\n",
      "  warnings.warn(\n",
      "c:\\users\\rahul kumar shah\\appdata\\local\\programs\\python\\python39\\lib\\site-packages\\sklearn\\svm\\_base.py:1206: ConvergenceWarning: Liblinear failed to converge, increase the number of iterations.\n",
      "  warnings.warn(\n",
      "c:\\users\\rahul kumar shah\\appdata\\local\\programs\\python\\python39\\lib\\site-packages\\sklearn\\svm\\_base.py:1206: ConvergenceWarning: Liblinear failed to converge, increase the number of iterations.\n",
      "  warnings.warn(\n",
      "c:\\users\\rahul kumar shah\\appdata\\local\\programs\\python\\python39\\lib\\site-packages\\sklearn\\svm\\_base.py:1206: ConvergenceWarning: Liblinear failed to converge, increase the number of iterations.\n",
      "  warnings.warn(\n",
      "c:\\users\\rahul kumar shah\\appdata\\local\\programs\\python\\python39\\lib\\site-packages\\sklearn\\svm\\_base.py:1206: ConvergenceWarning: Liblinear failed to converge, increase the number of iterations.\n",
      "  warnings.warn(\n",
      "c:\\users\\rahul kumar shah\\appdata\\local\\programs\\python\\python39\\lib\\site-packages\\sklearn\\svm\\_base.py:1206: ConvergenceWarning: Liblinear failed to converge, increase the number of iterations.\n",
      "  warnings.warn(\n",
      "c:\\users\\rahul kumar shah\\appdata\\local\\programs\\python\\python39\\lib\\site-packages\\sklearn\\svm\\_base.py:1206: ConvergenceWarning: Liblinear failed to converge, increase the number of iterations.\n",
      "  warnings.warn(\n",
      "c:\\users\\rahul kumar shah\\appdata\\local\\programs\\python\\python39\\lib\\site-packages\\sklearn\\svm\\_base.py:1206: ConvergenceWarning: Liblinear failed to converge, increase the number of iterations.\n",
      "  warnings.warn(\n",
      "c:\\users\\rahul kumar shah\\appdata\\local\\programs\\python\\python39\\lib\\site-packages\\sklearn\\svm\\_base.py:1206: ConvergenceWarning: Liblinear failed to converge, increase the number of iterations.\n",
      "  warnings.warn(\n",
      "c:\\users\\rahul kumar shah\\appdata\\local\\programs\\python\\python39\\lib\\site-packages\\sklearn\\svm\\_base.py:1206: ConvergenceWarning: Liblinear failed to converge, increase the number of iterations.\n",
      "  warnings.warn(\n",
      "c:\\users\\rahul kumar shah\\appdata\\local\\programs\\python\\python39\\lib\\site-packages\\sklearn\\svm\\_base.py:1206: ConvergenceWarning: Liblinear failed to converge, increase the number of iterations.\n",
      "  warnings.warn(\n",
      "c:\\users\\rahul kumar shah\\appdata\\local\\programs\\python\\python39\\lib\\site-packages\\sklearn\\svm\\_base.py:1206: ConvergenceWarning: Liblinear failed to converge, increase the number of iterations.\n",
      "  warnings.warn(\n",
      "c:\\users\\rahul kumar shah\\appdata\\local\\programs\\python\\python39\\lib\\site-packages\\sklearn\\svm\\_base.py:1206: ConvergenceWarning: Liblinear failed to converge, increase the number of iterations.\n",
      "  warnings.warn(\n",
      "c:\\users\\rahul kumar shah\\appdata\\local\\programs\\python\\python39\\lib\\site-packages\\sklearn\\svm\\_base.py:1206: ConvergenceWarning: Liblinear failed to converge, increase the number of iterations.\n",
      "  warnings.warn(\n"
     ]
    },
    {
     "data": {
      "text/plain": [
       "Pipeline(steps=[('tfidf',\n",
       "                 CountVectorizer(max_features=3000, ngram_range=(1, 3))),\n",
       "                ('clf12',\n",
       "                 BinaryRelevance(classifier=LinearSVC(),\n",
       "                                 require_dense=[True, True]))])"
      ]
     },
     "execution_count": 49,
     "metadata": {},
     "output_type": "execute_result"
    }
   ],
   "source": [
    "clf12.fit(train_text,y_train)"
   ]
  },
  {
   "cell_type": "code",
   "execution_count": 50,
   "id": "79400d77",
   "metadata": {},
   "outputs": [],
   "source": [
    "clf_predictions12 = clf12.predict(test_text)"
   ]
  },
  {
   "cell_type": "code",
   "execution_count": 51,
   "id": "5ce59247",
   "metadata": {},
   "outputs": [
    {
     "name": "stdout",
     "output_type": "stream",
     "text": [
      "Accuracy =  0.5338333333333334\n",
      "F1 score =  0.6770742629680309\n",
      "Hamming loss =  0.030904761904761904\n"
     ]
    }
   ],
   "source": [
    "print(\"Accuracy = \",accuracy_score(y_test,clf_predictions12))\n",
    "print(\"F1 score = \",f1_score(y_test,clf_predictions12, average=\"micro\"))\n",
    "print(\"Hamming loss = \",hamming_loss(y_test,clf_predictions12))"
   ]
  },
  {
   "cell_type": "code",
   "execution_count": 52,
   "id": "fa9b817f",
   "metadata": {},
   "outputs": [
    {
     "name": "stdout",
     "output_type": "stream",
     "text": [
      "              precision    recall  f1-score   support\n",
      "\n",
      "           0       0.52      0.21      0.30       731\n",
      "           1       0.93      0.83      0.88      7735\n",
      "           2       0.33      0.24      0.28       295\n",
      "           3       0.71      0.35      0.47      1416\n",
      "           4       0.63      0.53      0.58       839\n",
      "           5       0.73      0.55      0.63      1513\n",
      "           6       0.54      0.41      0.47       557\n",
      "           7       0.80      0.61      0.69      6840\n",
      "           8       0.41      0.26      0.32       452\n",
      "           9       0.77      0.62      0.69      1905\n",
      "          10       0.76      0.58      0.65      6595\n",
      "          11       0.41      0.05      0.08      1514\n",
      "          12       0.82      0.65      0.73      4848\n",
      "          13       0.60      0.34      0.44       720\n",
      "          14       0.96      0.97      0.96       403\n",
      "          15       0.59      0.36      0.45       557\n",
      "          16       0.78      0.50      0.61      2038\n",
      "          17       0.81      0.59      0.68      1829\n",
      "          18       0.85      0.67      0.75      2943\n",
      "          19       0.80      0.61      0.69      1443\n",
      "          20       0.81      0.61      0.69      2818\n",
      "          21       0.78      0.72      0.75      1093\n",
      "          22       0.76      0.57      0.65      5315\n",
      "          23       0.55      0.20      0.30       950\n",
      "\n",
      "   micro avg       0.79      0.59      0.68     55349\n",
      "   macro avg       0.69      0.50      0.57     55349\n",
      "weighted avg       0.78      0.59      0.66     55349\n",
      " samples avg       0.59      0.59      0.58     55349\n",
      "\n"
     ]
    },
    {
     "name": "stderr",
     "output_type": "stream",
     "text": [
      "c:\\users\\rahul kumar shah\\appdata\\local\\programs\\python\\python39\\lib\\site-packages\\sklearn\\metrics\\_classification.py:1308: UndefinedMetricWarning: Precision and F-score are ill-defined and being set to 0.0 in samples with no predicted labels. Use `zero_division` parameter to control this behavior.\n",
      "  _warn_prf(average, modifier, msg_start, len(result))\n"
     ]
    }
   ],
   "source": [
    "print(classification_report(y_test, clf_predictions12))"
   ]
  },
  {
   "cell_type": "markdown",
   "id": "4bcfc8df",
   "metadata": {},
   "source": [
    "# ClassifierChain"
   ]
  },
  {
   "cell_type": "code",
   "execution_count": 25,
   "id": "7acc1be2",
   "metadata": {},
   "outputs": [],
   "source": [
    "from skmultilearn.problem_transform import ClassifierChain"
   ]
  },
  {
   "cell_type": "code",
   "execution_count": 26,
   "id": "1e062c6d",
   "metadata": {},
   "outputs": [],
   "source": [
    "vec = TfidfVectorizer(strip_accents='ascii', analyzer='word', ngram_range=(1,3), norm='l2', max_features = 1000)"
   ]
  },
  {
   "cell_type": "code",
   "execution_count": 27,
   "id": "2accdaf6",
   "metadata": {},
   "outputs": [],
   "source": [
    "selected_labels = y_train.columns[y_train.sum(axis = 0, skipna = True) > 0].tolist()\n",
    "y_train = y_train.filter(selected_labels, axis=1)\n",
    "y_test = y_test.filter(selected_labels, axis=1)"
   ]
  },
  {
   "cell_type": "code",
   "execution_count": 28,
   "id": "5562f087",
   "metadata": {},
   "outputs": [
    {
     "data": {
      "text/plain": [
       "TfidfVectorizer(max_features=1000, ngram_range=(1, 3), strip_accents='ascii')"
      ]
     },
     "execution_count": 28,
     "metadata": {},
     "output_type": "execute_result"
    }
   ],
   "source": [
    "vec.fit(train_text)\n",
    "vec.fit(test_text)"
   ]
  },
  {
   "cell_type": "code",
   "execution_count": 29,
   "id": "825ecac8",
   "metadata": {},
   "outputs": [],
   "source": [
    "x_train = vec.transform(train_text)\n",
    "x_test = vec.transform(test_text)"
   ]
  },
  {
   "cell_type": "code",
   "execution_count": 30,
   "id": "2abaac99",
   "metadata": {},
   "outputs": [],
   "source": [
    "clf13 = ClassifierChain(LogisticRegression(solver='sag'))\n",
    "clf13.fit(x_train, y_train)\n",
    "clf13_proba = clf13.predict_proba(x_test)"
   ]
  },
  {
   "cell_type": "code",
   "execution_count": 32,
   "id": "7e2e1510",
   "metadata": {},
   "outputs": [
    {
     "data": {
      "text/plain": [
       "scipy.sparse.csc.csc_matrix"
      ]
     },
     "execution_count": 32,
     "metadata": {},
     "output_type": "execute_result"
    }
   ],
   "source": [
    "type(clf13_proba)"
   ]
  },
  {
   "cell_type": "code",
   "execution_count": 33,
   "id": "9f39df20",
   "metadata": {},
   "outputs": [
    {
     "data": {
      "text/plain": [
       "(42000, 24)"
      ]
     },
     "execution_count": 33,
     "metadata": {},
     "output_type": "execute_result"
    }
   ],
   "source": [
    "clf13_proba.shape"
   ]
  },
  {
   "cell_type": "code",
   "execution_count": 35,
   "id": "2853c987",
   "metadata": {},
   "outputs": [],
   "source": [
    "th = []\n",
    "f = []\n",
    "ham = []\n",
    "ac = []\n",
    "for t in range (5,60): # threshold value\n",
    "    y_pred_new = (clf13_proba >= t/100).astype(int)\n",
    "    #print(\"t =\" ,t/100)\n",
    "    #print(\"Accuracy = \",accuracy_score(y_test,y_pred_new))\n",
    "    #print(\"F1 = \",f1_score(y_test,y_pred_new, average=\"micro\"))\n",
    "    #print(\"Hamming loss = \",hamming_loss(y_test,y_pred_new))\n",
    "    th.append(t)\n",
    "    ac.append(accuracy_score(y_test,y_pred_new))\n",
    "    f.append(f1_score(y_test,y_pred_new, average=\"micro\"))\n",
    "    ham.append(hamming_loss(y_test,y_pred_new))\n",
    "    "
   ]
  },
  {
   "cell_type": "code",
   "execution_count": 36,
   "id": "985add6c",
   "metadata": {},
   "outputs": [
    {
     "data": {
      "image/png": "[encoded data removed]",
      "text/plain": [
       "<Figure size 864x432 with 1 Axes>"
      ]
     },
     "metadata": {},
     "output_type": "display_data"
    }
   ],
   "source": [
    "plt.rcParams[\"figure.figsize\"] = (12,6)\n",
    "with plt.style.context('ggplot'):\n",
    "    plt.plot(th, f)\n",
    "    plt.plot(th, ham)\n",
    "    plt.plot(th, ac)\n",
    "    plt.legend(['F1', 'Hamming loss', 'Accuracy'], loc='center left', fontsize = 14)\n",
    "    plt.ylabel(\"metrics\", fontsize = 14)\n",
    "    plt.xlabel(\"threshold\", fontsize = 14)\n",
    "    plt.title(\"Classfier Chain Model\", fontsize = 18)\n",
    "plt.show()"
   ]
  },
  {
   "cell_type": "markdown",
   "id": "f8ece01c",
   "metadata": {},
   "source": [
    "# Biased check"
   ]
  },
  {
   "cell_type": "code",
   "execution_count": 69,
   "id": "864df693",
   "metadata": {},
   "outputs": [],
   "source": [
    "x_test = v.transform([test_text[12590]])"
   ]
  },
  {
   "cell_type": "code",
   "execution_count": 70,
   "id": "5ead607f",
   "metadata": {},
   "outputs": [],
   "source": [
    "k = clf6.predict(x_test)"
   ]
  },
  {
   "cell_type": "code",
   "execution_count": 42,
   "id": "448c3ff7",
   "metadata": {},
   "outputs": [
    {
     "name": "stdout",
     "output_type": "stream",
     "text": [
      "  (0, 8)\t1\n",
      "  (1, 17)\t1\n",
      "  (2, 0)\t1\n"
     ]
    }
   ],
   "source": [
    "k = clf2.predict(dataset)\n",
    "print(k)"
   ]
  },
  {
   "cell_type": "code",
   "execution_count": 71,
   "id": "5bd215b0",
   "metadata": {},
   "outputs": [
    {
     "name": "stdout",
     "output_type": "stream",
     "text": [
      "  (0, 7)\t1.0\n"
     ]
    }
   ],
   "source": [
    "print(k)"
   ]
  },
  {
   "cell_type": "code",
   "execution_count": 72,
   "id": "78992af9",
   "metadata": {},
   "outputs": [
    {
     "data": {
      "text/plain": [
       "'luke bryan defend katy perry uncomfortable american idol kiss unfortunate stuff like turn story big'"
      ]
     },
     "execution_count": 72,
     "metadata": {},
     "output_type": "execute_result"
    }
   ],
   "source": [
    "test_text[12590]"
   ]
  },
  {
   "cell_type": "code",
   "execution_count": 58,
   "id": "3c0c70b1",
   "metadata": {},
   "outputs": [],
   "source": []
  }
 ],
 "metadata": {
  "kernelspec": {
   "display_name": "Python 3 (ipykernel)",
   "language": "python",
   "name": "python3"
  },
  "language_info": {
   "codemirror_mode": {
    "name": "ipython",
    "version": 3
   },
   "file_extension": ".py",
   "mimetype": "text/x-python",
   "name": "python",
   "nbconvert_exporter": "python",
   "pygments_lexer": "ipython3",
   "version": "3.9.6"
  }
 },
 "nbformat": 4,
 "nbformat_minor": 5
}
